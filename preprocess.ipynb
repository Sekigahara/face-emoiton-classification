{
 "cells": [
  {
   "cell_type": "code",
   "execution_count": 77,
   "id": "4763b3ad",
   "metadata": {},
   "outputs": [],
   "source": [
    "import numpy as np, cv2\n",
    "import matplotlib.pyplot as plt"
   ]
  },
  {
   "cell_type": "code",
   "execution_count": 78,
   "id": "b9ee7dea",
   "metadata": {},
   "outputs": [],
   "source": [
    "# load Model and Test\n",
    "loaded = np.load(\"utils\\\\dataset.npz\")\n",
    "x = loaded['x']\n",
    "y = loaded['y']"
   ]
  },
  {
   "cell_type": "code",
   "execution_count": 79,
   "id": "6902f3e7",
   "metadata": {},
   "outputs": [],
   "source": [
    "def remove_noise(img):\n",
    "    img = cv2.cvtColor(img, cv2.COLOR_BGR2GRAY)\n",
    "    se = cv2.getStructuringElement(cv2.MORPH_RECT, (8, 8))\n",
    "    bg = cv2.morphologyEx(img, cv2.MORPH_DILATE, se)\n",
    "    \n",
    "    out_gray = cv2.divide(img, bg, scale=255)\n",
    "    #out_binary = cv2.threshold(out_gray, 0, 255, cv2.THRESH_OTSU)[1]\n",
    "    \n",
    "    return cv2.cvtColor(out_gray,cv2.COLOR_GRAY2RGB)\n",
    "    \n",
    "\n",
    "# Normalize and remove noise of the image\n",
    "x_norm = []\n",
    "for idx, data in enumerate(x):\n",
    "    data = cv2.resize(data, (48, 48))\n",
    "    noiseless = remove_noise(data)\n",
    "    normalized = cv2.normalize(noiseless, noiseless, alpha=0, beta=1, norm_type=cv2.NORM_MINMAX, dtype=cv2.CV_32F)\n",
    "    x_norm.append(normalized)\n",
    "x_norm = np.asarray(x_norm)"
   ]
  },
  {
   "cell_type": "code",
   "execution_count": 80,
   "id": "7bfb1b09",
   "metadata": {},
   "outputs": [],
   "source": [
    "# Lets do the cross validation\n",
    "from sklearn.model_selection import StratifiedKFold as skf\n",
    "\n",
    "skf_model = skf(n_splits=4, random_state=8, shuffle=True)\n",
    "for train_idx, test_idx in skf_model.split(x, y):\n",
    "    x_train, x_test = x_norm[train_idx], x_norm[test_idx]\n",
    "    y_train, y_test = y[train_idx], y[test_idx]"
   ]
  },
  {
   "cell_type": "markdown",
   "id": "6c812e55",
   "metadata": {},
   "source": [
    "<p> addition to balance the class : <br>\n",
    "    Class 0 need 2000 <br>\n",
    "    Class 1 need 2000 <br>\n",
    "    Class 3 need 1300 <br>\n",
    "    Class 4 need 1400 <br>\n",
    "    Class 5 need 2377 + 300 <br>\n",
    "</p>"
   ]
  },
  {
   "cell_type": "code",
   "execution_count": 81,
   "id": "7b53ff35",
   "metadata": {},
   "outputs": [
    {
     "name": "stdout",
     "output_type": "stream",
     "text": [
      "Class=0, n=3000 (14.148%)\n",
      "Class=1, n=3072 (14.487%)\n",
      "Class=2, n=5411 (25.518%)\n",
      "Class=3, n=3723 (17.557%)\n",
      "Class=4, n=3622 (17.081%)\n",
      "Class=5, n=2377 (11.210%)\n"
     ]
    }
   ],
   "source": [
    "from collections import Counter\n",
    "\n",
    "counter = Counter(y_train)\n",
    "for k, v in counter.items():\n",
    "    per= v / len(y_train) * 100\n",
    "    print('Class=%d, n=%d (%.3f%%)' % (k, v, per))"
   ]
  },
  {
   "cell_type": "code",
   "execution_count": 82,
   "id": "482d54c1",
   "metadata": {},
   "outputs": [],
   "source": [
    "def brightness_settings(img, brightness=255):    \n",
    "    if brightness != 0:\n",
    "        if brightness > 0:\n",
    "            shadow = brightness\n",
    "            highlight = 255\n",
    "        else:\n",
    "            shadow = 0\n",
    "            highlight = 255 + brightness\n",
    "        alpha_b = (highlight - shadow)/255\n",
    "        gamma_b = shadow\n",
    "        buf = cv2.addWeighted(img, alpha_b, img, 0, gamma_b)\n",
    "    else:\n",
    "        buf = img.copy()\n",
    "        \n",
    "    return buf\n",
    "\n",
    "def contrast_settings(img, contrast=127):\n",
    "    if contrast != 0:\n",
    "        f = float(131 * (contrast + 127)) / (127 * (131 - contrast))\n",
    "        alpha_c = f\n",
    "        gamma_c = 127*(1-f)\n",
    "        buf = cv2.addWeighted(img, alpha_c, img, 0, gamma_c)\n",
    "        \n",
    "    return buf"
   ]
  },
  {
   "cell_type": "code",
   "execution_count": 83,
   "id": "b5e55377",
   "metadata": {},
   "outputs": [],
   "source": [
    "def imbalance_control(class_num, class_needed, value=0, augmentation='contrast', x=[], y=[]):\n",
    "    augmented_x = []\n",
    "    augmented_y = []\n",
    "    start_idx = 0\n",
    "    \n",
    "    for idx, img_train in enumerate(x):\n",
    "        if y[idx] == class_num:\n",
    "            if augmentation == 'contrast':\n",
    "                augmented_x.append(contrast_settings(img_train, value))\n",
    "            if augmentation == 'brightness':\n",
    "                augmented_x.append(brightness_settings(img_train, value))\n",
    "            if augmentation == 'flip':\n",
    "                augmented_x.append(cv2.flip(img_train, 2))\n",
    "            augmented_y.append(y[idx])\n",
    "            start_idx = start_idx + 1\n",
    "        if start_idx == class_needed:\n",
    "            break\n",
    "            \n",
    "    return augmented_x, augmented_y"
   ]
  },
  {
   "cell_type": "code",
   "execution_count": 84,
   "id": "588002e1",
   "metadata": {},
   "outputs": [],
   "source": [
    "# Lets Start the augmentation\n",
    "augmented_class_x0, augmented_class_y0 = imbalance_control(0, 2000, 0, 'flip', x_train, y_train)\n",
    "augmented_class_x1, augmented_class_y1 = imbalance_control(1, 2000, 0, 'flip', x_train, y_train)\n",
    "augmented_class_x3, augmented_class_y3 = imbalance_control(3, 1300, 0, 'flip', x_train, y_train)\n",
    "augmented_class_x4, augmented_class_y4 = imbalance_control(4, 1400, 0, 'flip', x_train, y_train)\n",
    "augmented_class_x5, augmented_class_y5 = imbalance_control(5, 2377, 0, 'flip', x_train, y_train)\n",
    "augmented_class_x5_b, augmented_class_y5_b = imbalance_control(5, 300, 50, 'brightness', x_train, y_train)"
   ]
  },
  {
   "cell_type": "code",
   "execution_count": 85,
   "id": "8e5713e2",
   "metadata": {},
   "outputs": [],
   "source": [
    "augmented_x = []\n",
    "augmented_y = []\n",
    "\n",
    "augmented_x.extend(augmented_class_x0)\n",
    "augmented_x.extend(augmented_class_x1)\n",
    "augmented_x.extend(augmented_class_x3)\n",
    "augmented_x.extend(augmented_class_x4)\n",
    "augmented_x.extend(augmented_class_x5)\n",
    "augmented_x.extend(augmented_class_x5_b)\n",
    "\n",
    "augmented_y.extend(augmented_class_y0)\n",
    "augmented_y.extend(augmented_class_y1)\n",
    "augmented_y.extend(augmented_class_y3)\n",
    "augmented_y.extend(augmented_class_y4)\n",
    "augmented_y.extend(augmented_class_y5)\n",
    "augmented_y.extend(augmented_class_y5_b)"
   ]
  },
  {
   "cell_type": "code",
   "execution_count": 86,
   "id": "919721ea",
   "metadata": {},
   "outputs": [],
   "source": [
    "# Make it one array\n",
    "x_train = x_train.tolist()\n",
    "y_train = y_train.tolist()"
   ]
  },
  {
   "cell_type": "code",
   "execution_count": 87,
   "id": "233d0d1c",
   "metadata": {},
   "outputs": [],
   "source": [
    "x_train.extend(augmented_x)\n",
    "y_train.extend(augmented_y)"
   ]
  },
  {
   "cell_type": "code",
   "execution_count": 88,
   "id": "d71d893b",
   "metadata": {},
   "outputs": [],
   "source": [
    "x_train = np.asarray(x_train)\n",
    "y_train = np.asarray(y_train)"
   ]
  },
  {
   "cell_type": "code",
   "execution_count": 89,
   "id": "6b12ddd3",
   "metadata": {},
   "outputs": [
    {
     "name": "stdout",
     "output_type": "stream",
     "text": [
      "Class=0, n=5000 (16.349%)\n",
      "Class=1, n=5072 (16.585%)\n",
      "Class=2, n=5411 (17.693%)\n",
      "Class=3, n=5023 (16.425%)\n",
      "Class=4, n=5022 (16.421%)\n",
      "Class=5, n=5054 (16.526%)\n"
     ]
    }
   ],
   "source": [
    "counter = Counter(y_train)\n",
    "for k, v in counter.items():\n",
    "    per= v / len(y_train) * 100\n",
    "    print('Class=%d, n=%d (%.3f%%)' % (k, v, per))"
   ]
  },
  {
   "cell_type": "code",
   "execution_count": 90,
   "id": "4c9c0495",
   "metadata": {},
   "outputs": [],
   "source": [
    "np.savez(\"utils\\\\train.npz\", x=x_train, y=y_train)\n",
    "np.savez(\"utils\\\\test.npz\", x=x_test, y=y_test)"
   ]
  },
  {
   "cell_type": "code",
   "execution_count": 91,
   "id": "c10256c9",
   "metadata": {},
   "outputs": [
    {
     "data": {
      "text/plain": [
       "array([[[0.96862751, 0.96862751, 0.96862751],\n",
       "        [0.94901967, 0.94901967, 0.94901967],\n",
       "        [0.93725497, 0.93725497, 0.93725497],\n",
       "        ...,\n",
       "        [0.76862752, 0.76862752, 0.76862752],\n",
       "        [0.82745105, 0.82745105, 0.82745105],\n",
       "        [0.72156864, 0.72156864, 0.72156864]],\n",
       "\n",
       "       [[0.94901967, 0.94901967, 0.94901967],\n",
       "        [0.96862751, 0.96862751, 0.96862751],\n",
       "        [0.93725497, 0.93725497, 0.93725497],\n",
       "        ...,\n",
       "        [0.72156864, 0.72156864, 0.72156864],\n",
       "        [0.8705883 , 0.8705883 , 0.8705883 ],\n",
       "        [0.80392164, 0.80392164, 0.80392164]],\n",
       "\n",
       "       [[0.95686281, 0.95686281, 0.95686281],\n",
       "        [0.95686281, 0.95686281, 0.95686281],\n",
       "        [0.98039222, 0.98039222, 0.98039222],\n",
       "        ...,\n",
       "        [0.66666669, 0.66666669, 0.66666669],\n",
       "        [0.72156864, 0.72156864, 0.72156864],\n",
       "        [0.86274517, 0.86274517, 0.86274517]],\n",
       "\n",
       "       ...,\n",
       "\n",
       "       [[0.90588242, 0.90588242, 0.90588242],\n",
       "        [0.91764712, 0.91764712, 0.91764712],\n",
       "        [0.58431375, 0.58431375, 0.58431375],\n",
       "        ...,\n",
       "        [0.90980399, 0.90980399, 0.90980399],\n",
       "        [0.91764712, 0.91764712, 0.91764712],\n",
       "        [0.92941183, 0.92941183, 0.92941183]],\n",
       "\n",
       "       [[0.91372555, 0.91372555, 0.91372555],\n",
       "        [0.91764712, 0.91764712, 0.91764712],\n",
       "        [0.93725497, 0.93725497, 0.93725497],\n",
       "        ...,\n",
       "        [0.91764712, 0.91764712, 0.91764712],\n",
       "        [0.89411771, 0.89411771, 0.89411771],\n",
       "        [0.93725497, 0.93725497, 0.93725497]],\n",
       "\n",
       "       [[0.9333334 , 0.9333334 , 0.9333334 ],\n",
       "        [0.92941183, 0.92941183, 0.92941183],\n",
       "        [0.91764712, 0.91764712, 0.91764712],\n",
       "        ...,\n",
       "        [0.95686281, 0.95686281, 0.95686281],\n",
       "        [0.89411771, 0.89411771, 0.89411771],\n",
       "        [0.90588242, 0.90588242, 0.90588242]]])"
      ]
     },
     "execution_count": 91,
     "metadata": {},
     "output_type": "execute_result"
    }
   ],
   "source": [
    "x_train[0]"
   ]
  },
  {
   "cell_type": "code",
   "execution_count": null,
   "id": "0d755729",
   "metadata": {},
   "outputs": [],
   "source": []
  }
 ],
 "metadata": {
  "kernelspec": {
   "display_name": "Python 3 (ipykernel)",
   "language": "python",
   "name": "python3"
  },
  "language_info": {
   "codemirror_mode": {
    "name": "ipython",
    "version": 3
   },
   "file_extension": ".py",
   "mimetype": "text/x-python",
   "name": "python",
   "nbconvert_exporter": "python",
   "pygments_lexer": "ipython3",
   "version": "3.8.8"
  }
 },
 "nbformat": 4,
 "nbformat_minor": 5
}
