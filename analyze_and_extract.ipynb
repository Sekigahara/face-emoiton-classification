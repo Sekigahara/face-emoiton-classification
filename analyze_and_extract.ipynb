{
 "cells": [
  {
   "cell_type": "code",
   "execution_count": 18,
   "id": "62d7c746",
   "metadata": {},
   "outputs": [],
   "source": [
    "import cv2\n",
    "import glob\n",
    "import os\n",
    "import numpy as np"
   ]
  },
  {
   "cell_type": "code",
   "execution_count": 19,
   "id": "3c6afba2",
   "metadata": {},
   "outputs": [],
   "source": [
    "dataset_path = \"dataset\" # Please Match with your directory of dataset"
   ]
  },
  {
   "cell_type": "code",
   "execution_count": 20,
   "id": "7ad8caec",
   "metadata": {},
   "outputs": [],
   "source": [
    "dir_path = glob.glob(dataset_path + \"\\*\")"
   ]
  },
  {
   "cell_type": "code",
   "execution_count": 21,
   "id": "f29a7eb6",
   "metadata": {},
   "outputs": [
    {
     "data": {
      "text/plain": [
       "['dataset\\\\Angry',\n",
       " 'dataset\\\\Fear',\n",
       " 'dataset\\\\Happy',\n",
       " 'dataset\\\\Neutral',\n",
       " 'dataset\\\\Sad',\n",
       " 'dataset\\\\Suprise']"
      ]
     },
     "execution_count": 21,
     "metadata": {},
     "output_type": "execute_result"
    }
   ],
   "source": [
    "dir_path"
   ]
  },
  {
   "cell_type": "code",
   "execution_count": 22,
   "id": "698d17b7",
   "metadata": {},
   "outputs": [],
   "source": [
    "# Extraction Label\n",
    "string_label = []\n",
    "for string in dir_path:\n",
    "    string_label.append(string.split(\"\\\\\")[1])"
   ]
  },
  {
   "cell_type": "code",
   "execution_count": 23,
   "id": "de95606c",
   "metadata": {},
   "outputs": [
    {
     "data": {
      "text/plain": [
       "['Angry', 'Fear', 'Happy', 'Neutral', 'Sad', 'Suprise']"
      ]
     },
     "execution_count": 23,
     "metadata": {},
     "output_type": "execute_result"
    }
   ],
   "source": [
    "string_label"
   ]
  },
  {
   "cell_type": "code",
   "execution_count": 24,
   "id": "00e9e0b2",
   "metadata": {},
   "outputs": [],
   "source": [
    "image_path = []\n",
    "for idx, string in enumerate(dir_path):\n",
    "    image_path.append(np.asarray(glob.glob(string + \"\\*\")))"
   ]
  },
  {
   "cell_type": "code",
   "execution_count": 25,
   "id": "ccb89639",
   "metadata": {
    "scrolled": false
   },
   "outputs": [],
   "source": [
    "all_image_path = []\n",
    "for label in image_path:\n",
    "    for string in label:\n",
    "        all_image_path.append(string)"
   ]
  },
  {
   "cell_type": "code",
   "execution_count": 26,
   "id": "1c4f363a",
   "metadata": {},
   "outputs": [
    {
     "data": {
      "text/plain": [
       "27524"
      ]
     },
     "execution_count": 26,
     "metadata": {},
     "output_type": "execute_result"
    }
   ],
   "source": [
    "len(all_image_path)"
   ]
  },
  {
   "cell_type": "code",
   "execution_count": 27,
   "id": "10522847",
   "metadata": {},
   "outputs": [],
   "source": [
    "def extract_label(path):\n",
    "    label = path.split(\"\\\\\")[1]\n",
    "    \n",
    "    x = 0\n",
    "    for idx, string in enumerate(string_label):\n",
    "        if label == string:\n",
    "            x = idx\n",
    "            break\n",
    "            \n",
    "    return np.asarray(x)"
   ]
  },
  {
   "cell_type": "code",
   "execution_count": 28,
   "id": "012d651b",
   "metadata": {},
   "outputs": [],
   "source": [
    "# Load Image\n",
    "x = []\n",
    "y = []\n",
    "for img_path in all_image_path:\n",
    "    # Open image and append to array\n",
    "    temp = cv2.imread(img_path)\n",
    "    x.append(temp)\n",
    "    \n",
    "    # Mapping Label\n",
    "    y.append(extract_label(img_path))"
   ]
  },
  {
   "cell_type": "code",
   "execution_count": null,
   "id": "0fb2573a",
   "metadata": {},
   "outputs": [],
   "source": []
  },
  {
   "cell_type": "code",
   "execution_count": 29,
   "id": "bd38a460",
   "metadata": {},
   "outputs": [
    {
     "data": {
      "text/plain": [
       "'Suprise'"
      ]
     },
     "execution_count": 29,
     "metadata": {},
     "output_type": "execute_result"
    },
    {
     "data": {
      "image/png": "[encoded data removed]",
      "text/plain": [
       "<Figure size 432x288 with 1 Axes>"
      ]
     },
     "metadata": {
      "needs_background": "light"
     },
     "output_type": "display_data"
    }
   ],
   "source": [
    "import matplotlib.pyplot as plt\n",
    "\n",
    "plt.imshow(x[27000])\n",
    "string_label[y[27000]]"
   ]
  },
  {
   "cell_type": "code",
   "execution_count": 30,
   "id": "5fb7d96f",
   "metadata": {},
   "outputs": [],
   "source": [
    "# Saving to npz\n",
    "x = np.asarray(x)\n",
    "y = np.asarray(y)\n",
    "\n",
    "np.savez(\"utils\\\\dataset.npz\", x=x, y=y)"
   ]
  },
  {
   "cell_type": "code",
   "execution_count": null,
   "id": "f02d33f1",
   "metadata": {},
   "outputs": [],
   "source": []
  },
  {
   "cell_type": "code",
   "execution_count": null,
   "id": "0bcf5420",
   "metadata": {},
   "outputs": [],
   "source": []
  },
  {
   "cell_type": "code",
   "execution_count": null,
   "id": "5c42b0a7",
   "metadata": {},
   "outputs": [],
   "source": []
  }
 ],
 "metadata": {
  "kernelspec": {
   "display_name": "Python 3 (ipykernel)",
   "language": "python",
   "name": "python3"
  },
  "language_info": {
   "codemirror_mode": {
    "name": "ipython",
    "version": 3
   },
   "file_extension": ".py",
   "mimetype": "text/x-python",
   "name": "python",
   "nbconvert_exporter": "python",
   "pygments_lexer": "ipython3",
   "version": "3.8.12"
  }
 },
 "nbformat": 4,
 "nbformat_minor": 5
}
