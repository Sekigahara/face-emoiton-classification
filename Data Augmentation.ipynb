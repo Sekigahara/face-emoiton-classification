{
 "cells": [
  {
   "cell_type": "code",
   "execution_count": 1,
   "id": "4763b3ad",
   "metadata": {},
   "outputs": [],
   "source": [
    "import numpy as np, cv2\n",
    "import matplotlib.pyplot as plt"
   ]
  },
  {
   "cell_type": "code",
   "execution_count": 2,
   "id": "b9ee7dea",
   "metadata": {},
   "outputs": [],
   "source": [
    "# load Model and Test\n",
    "loaded = np.load(\"utils\\\\dataset.npz\")\n",
    "x = loaded['x']\n",
    "y = loaded['y']"
   ]
  },
  {
   "cell_type": "code",
   "execution_count": 3,
   "id": "6902f3e7",
   "metadata": {},
   "outputs": [],
   "source": [
    "def remove_noise(img):\n",
    "    img = cv2.cvtColor(img, cv2.COLOR_BGR2GRAY)\n",
    "    se = cv2.getStructuringElement(cv2.MORPH_RECT, (8, 8))\n",
    "    bg = cv2.morphologyEx(img, cv2.MORPH_DILATE, se)\n",
    "    \n",
    "    out_gray = cv2.divide(img, bg, scale=255)\n",
    "    out_binary = cv2.threshold(out_gray, 0, 255, cv2.THRESH_OTSU)[1]\n",
    "    \n",
    "    return cv2.cvtColor(out_binary,cv2.COLOR_GRAY2RGB)\n",
    "    \n",
    "\n",
    "# Normalize and remove noise the image\n",
    "x_norm = []\n",
    "for idx, data in enumerate(x):\n",
    "    data = cv2.resize(data, (48, 48))\n",
    "    noiseless = remove_noise(data)\n",
    "    normalized = cv2.normalize(noiseless, noiseless, alpha=0, beta=1, norm_type=cv2.NORM_MINMAX, dtype=cv2.CV_32F)\n",
    "    x_norm.append(normalized)\n",
    "x_norm = np.asarray(x_norm)"
   ]
  },
  {
   "cell_type": "code",
   "execution_count": 4,
   "id": "7bfb1b09",
   "metadata": {},
   "outputs": [],
   "source": [
    "# Lets do the cross validation\n",
    "from sklearn.model_selection import StratifiedKFold as skf\n",
    "\n",
    "skf_model = skf(n_splits=4, random_state=8, shuffle=True)\n",
    "for train_idx, test_idx in skf_model.split(x, y):\n",
    "    x_train, x_test = x_norm[train_idx], x_norm[test_idx]\n",
    "    y_train, y_test = y[train_idx], y[test_idx]"
   ]
  },
  {
   "cell_type": "code",
   "execution_count": 5,
   "id": "7b53ff35",
   "metadata": {},
   "outputs": [
    {
     "name": "stdout",
     "output_type": "stream",
     "text": [
      "Class=0, n=3000 (14.148%)\n",
      "Class=1, n=3072 (14.487%)\n",
      "Class=2, n=5411 (25.518%)\n",
      "Class=3, n=3723 (17.557%)\n",
      "Class=4, n=3622 (17.081%)\n",
      "Class=5, n=2377 (11.210%)\n"
     ]
    }
   ],
   "source": [
    "from collections import Counter\n",
    "\n",
    "counter = Counter(y_train)\n",
    "for k, v in counter.items():\n",
    "    per= v / len(y_train) * 100\n",
    "    print('Class=%d, n=%d (%.3f%%)' % (k, v, per))"
   ]
  },
  {
   "cell_type": "code",
   "execution_count": 6,
   "id": "a2c41afa",
   "metadata": {},
   "outputs": [
    {
     "name": "stdout",
     "output_type": "stream",
     "text": [
      "Class=0, n=1000 (14.148%)\n",
      "Class=1, n=1024 (14.488%)\n",
      "Class=2, n=1803 (25.509%)\n",
      "Class=3, n=1241 (17.558%)\n",
      "Class=4, n=1207 (17.077%)\n",
      "Class=5, n=793 (11.220%)\n"
     ]
    }
   ],
   "source": [
    "counter = Counter(y_test)\n",
    "for k, v in counter.items():\n",
    "    per= v / len(y_test) * 100\n",
    "    print('Class=%d, n=%d (%.3f%%)' % (k, v, per))"
   ]
  },
  {
   "cell_type": "code",
   "execution_count": 7,
   "id": "7084e39d",
   "metadata": {},
   "outputs": [
    {
     "name": "stdout",
     "output_type": "stream",
     "text": [
      "(21205,)\n",
      "(7068,)\n"
     ]
    }
   ],
   "source": [
    "print(y_train.shape)\n",
    "print(y_test.shape)"
   ]
  },
  {
   "cell_type": "code",
   "execution_count": 8,
   "id": "3ac797a8",
   "metadata": {},
   "outputs": [
    {
     "data": {
      "text/plain": [
       "<matplotlib.image.AxesImage at 0x215fbd8bb20>"
      ]
     },
     "execution_count": 8,
     "metadata": {},
     "output_type": "execute_result"
    },
    {
     "data": {
      "image/png": "[encoded data removed]",
      "text/plain": [
       "<Figure size 432x288 with 1 Axes>"
      ]
     },
     "metadata": {
      "needs_background": "light"
     },
     "output_type": "display_data"
    }
   ],
   "source": [
    "# Lets Experiment the data augmentation\n",
    "image = x_train[1000]\n",
    "plt.imshow(image)"
   ]
  },
  {
   "cell_type": "code",
   "execution_count": 9,
   "id": "021a2353",
   "metadata": {},
   "outputs": [
    {
     "data": {
      "text/plain": [
       "<matplotlib.image.AxesImage at 0x215fbe4e070>"
      ]
     },
     "execution_count": 9,
     "metadata": {},
     "output_type": "execute_result"
    },
    {
     "data": {
      "image/png": "[encoded data removed]",
      "text/plain": [
       "<Figure size 432x288 with 1 Axes>"
      ]
     },
     "metadata": {
      "needs_background": "light"
     },
     "output_type": "display_data"
    }
   ],
   "source": [
    "image = cv2.flip(image, 2)\n",
    "plt.imshow(image)"
   ]
  },
  {
   "cell_type": "code",
   "execution_count": 10,
   "id": "8b25de56",
   "metadata": {},
   "outputs": [],
   "source": [
    "# Lets augment the data only for train\n",
    "augmented_x_train = []\n",
    "augmented_y_train = []\n",
    "for idx, img_train in enumerate(x_train):\n",
    "    augmented_x_train.append(cv2.flip(img_train, 2))\n",
    "    augmented_y_train.append(y_train[idx])\n",
    "    \n",
    "augmented_x_train = np.asarray(augmented_x_train)\n",
    "augmented_y_train = np.asarray(augmented_y_train)"
   ]
  },
  {
   "cell_type": "code",
   "execution_count": 11,
   "id": "233d0d1c",
   "metadata": {},
   "outputs": [],
   "source": [
    "# Make it one array\n",
    "x_train = x_train.tolist()\n",
    "y_train = y_train.tolist()\n",
    "for idx, img_augmented in enumerate(augmented_x_train):\n",
    "    x_train.append(img_augmented)\n",
    "    y_train.append(augmented_y_train[idx])\n",
    "    \n",
    "x_train = np.asarray(x_train)\n",
    "y_train = np.asarray(y_train)"
   ]
  },
  {
   "cell_type": "code",
   "execution_count": 12,
   "id": "d7d1a4b5",
   "metadata": {},
   "outputs": [],
   "source": [
    "np.savez(\"utils\\\\train.npz\", x=x_train, y=y_train)\n",
    "np.savez(\"utils\\\\test.npz\", x=x_test, y=y_test)"
   ]
  },
  {
   "cell_type": "code",
   "execution_count": 13,
   "id": "cbc5e972",
   "metadata": {},
   "outputs": [
    {
     "name": "stdout",
     "output_type": "stream",
     "text": [
      "Class=0, n=6000 (14.148%)\n",
      "Class=1, n=6144 (14.487%)\n",
      "Class=2, n=10822 (25.518%)\n",
      "Class=3, n=7446 (17.557%)\n",
      "Class=4, n=7244 (17.081%)\n",
      "Class=5, n=4754 (11.210%)\n"
     ]
    }
   ],
   "source": [
    "counter = Counter(y_train)\n",
    "for k, v in counter.items():\n",
    "    per= v / len(y_train) * 100\n",
    "    print('Class=%d, n=%d (%.3f%%)' % (k, v, per))"
   ]
  },
  {
   "cell_type": "code",
   "execution_count": 14,
   "id": "c2aa1f4e",
   "metadata": {},
   "outputs": [
    {
     "name": "stdout",
     "output_type": "stream",
     "text": [
      "Class=0, n=1000 (14.148%)\n",
      "Class=1, n=1024 (14.488%)\n",
      "Class=2, n=1803 (25.509%)\n",
      "Class=3, n=1241 (17.558%)\n",
      "Class=4, n=1207 (17.077%)\n",
      "Class=5, n=793 (11.220%)\n"
     ]
    }
   ],
   "source": [
    "counter = Counter(y_test)\n",
    "for k, v in counter.items():\n",
    "    per= v / len(y_test) * 100\n",
    "    print('Class=%d, n=%d (%.3f%%)' % (k, v, per))"
   ]
  },
  {
   "cell_type": "code",
   "execution_count": 15,
   "id": "9611bc77",
   "metadata": {},
   "outputs": [
    {
     "data": {
      "text/plain": [
       "(42410,)"
      ]
     },
     "execution_count": 15,
     "metadata": {},
     "output_type": "execute_result"
    }
   ],
   "source": [
    "y_train.shape"
   ]
  },
  {
   "cell_type": "code",
   "execution_count": null,
   "id": "897902c8",
   "metadata": {},
   "outputs": [],
   "source": []
  }
 ],
 "metadata": {
  "kernelspec": {
   "display_name": "Python 3 (ipykernel)",
   "language": "python",
   "name": "python3"
  },
  "language_info": {
   "codemirror_mode": {
    "name": "ipython",
    "version": 3
   },
   "file_extension": ".py",
   "mimetype": "text/x-python",
   "name": "python",
   "nbconvert_exporter": "python",
   "pygments_lexer": "ipython3",
   "version": "3.8.8"
  }
 },
 "nbformat": 4,
 "nbformat_minor": 5
}
