{
 "cells": [
  {
   "cell_type": "code",
   "execution_count": 1,
   "id": "a9259c27",
   "metadata": {},
   "outputs": [],
   "source": [
    "import numpy as np\n",
    "import matplotlib.pyplot as plt\n",
    "import glob"
   ]
  },
  {
   "cell_type": "code",
   "execution_count": 2,
   "id": "1aba8a32",
   "metadata": {},
   "outputs": [],
   "source": [
    "# Load Data\n",
    "train_load = np.load(\"utils\\\\train.npz\")\n",
    "test_load = np.load(\"utils\\\\test.npz\")\n",
    "\n",
    "x_train = train_load['x']\n",
    "y_train = train_load['y']\n",
    "\n",
    "x_test = test_load['x']\n",
    "y_test = test_load['y']"
   ]
  },
  {
   "cell_type": "code",
   "execution_count": 5,
   "id": "4a91230e",
   "metadata": {},
   "outputs": [
    {
     "name": "stderr",
     "output_type": "stream",
     "text": [
      "Clipping input data to the valid range for imshow with RGB data ([0..1] for floats or [0..255] for integers).\n"
     ]
    },
    {
     "name": "stdout",
     "output_type": "stream",
     "text": [
      "Suprise\n"
     ]
    },
    {
     "data": {
      "image/png": "[encoded data removed]",
      "text/plain": [
       "<Figure size 432x288 with 1 Axes>"
      ]
     },
     "metadata": {
      "needs_background": "light"
     },
     "output_type": "display_data"
    }
   ],
   "source": [
    "# Lets test the syncronization of label and image\n",
    "dir_path = glob.glob(\"dataset\" + \"\\*\")\n",
    "\n",
    "string_label = []\n",
    "for string in dir_path:\n",
    "    string_label.append(string.split(\"\\\\\")[1])\n",
    "    \n",
    "plt.imshow(x_train[45200])\n",
    "print(string_label[y_train[45200]])"
   ]
  },
  {
   "cell_type": "code",
   "execution_count": 6,
   "id": "66230bd9",
   "metadata": {},
   "outputs": [],
   "source": [
    "from tensorflow.keras.utils import to_categorical\n",
    "\n",
    "y_train = to_categorical(y_train, num_classes=6)\n",
    "y_test = to_categorical(y_test, num_classes=6)"
   ]
  },
  {
   "cell_type": "code",
   "execution_count": 25,
   "id": "f81a9251",
   "metadata": {},
   "outputs": [],
   "source": [
    "import tensorflow as tf\n",
    "\n",
    "def create_model():\n",
    "    return tf.keras.Sequential([\n",
    "        tf.keras.layers.Input(shape=(48, 48, 3)),\n",
    "        tf.keras.layers.Conv2D(72, (3, 3), strides=(1, 1), activation='relu', kernel_initializer=\"he_uniform\"),\n",
    "        tf.keras.layers.Conv2D(64, (2, 2), activation='relu', kernel_initializer=\"he_uniform\"),\n",
    "        \n",
    "        tf.keras.layers.MaxPool2D(pool_size=(2, 2)),\n",
    "        tf.keras.layers.Dropout(0.1),\n",
    "        tf.keras.layers.BatchNormalization(),\n",
    "        \n",
    "        tf.keras.layers.Conv2D(72, (2, 2), activation='relu', kernel_initializer=\"he_uniform\"),\n",
    "        tf.keras.layers.Dropout(0.1),\n",
    "        tf.keras.layers.BatchNormalization(),\n",
    "        \n",
    "        tf.keras.layers.Dense(64, activation=\"relu\"),\n",
    "        tf.keras.layers.Dense(128, activation=\"relu\"),\n",
    "        \n",
    "        tf.keras.layers.Flatten(),\n",
    "        tf.keras.layers.Dense(6, activation=\"softmax\")\n",
    "    ])"
   ]
  },
  {
   "cell_type": "code",
   "execution_count": 26,
   "id": "84249348",
   "metadata": {},
   "outputs": [
    {
     "name": "stdout",
     "output_type": "stream",
     "text": [
      "Model: \"sequential_3\"\n",
      "_________________________________________________________________\n",
      "Layer (type)                 Output Shape              Param #   \n",
      "=================================================================\n",
      "conv2d_9 (Conv2D)            (None, 46, 46, 32)        896       \n",
      "_________________________________________________________________\n",
      "conv2d_10 (Conv2D)           (None, 45, 45, 32)        4128      \n",
      "_________________________________________________________________\n",
      "max_pooling2d_3 (MaxPooling2 (None, 22, 22, 32)        0         \n",
      "_________________________________________________________________\n",
      "dropout_6 (Dropout)          (None, 22, 22, 32)        0         \n",
      "_________________________________________________________________\n",
      "batch_normalization_6 (Batch (None, 22, 22, 32)        128       \n",
      "_________________________________________________________________\n",
      "conv2d_11 (Conv2D)           (None, 21, 21, 48)        6192      \n",
      "_________________________________________________________________\n",
      "dropout_7 (Dropout)          (None, 21, 21, 48)        0         \n",
      "_________________________________________________________________\n",
      "batch_normalization_7 (Batch (None, 21, 21, 48)        192       \n",
      "_________________________________________________________________\n",
      "dense_6 (Dense)              (None, 21, 21, 24)        1176      \n",
      "_________________________________________________________________\n",
      "flatten_3 (Flatten)          (None, 10584)             0         \n",
      "_________________________________________________________________\n",
      "dense_7 (Dense)              (None, 6)                 63510     \n",
      "=================================================================\n",
      "Total params: 76,222\n",
      "Trainable params: 76,062\n",
      "Non-trainable params: 160\n",
      "_________________________________________________________________\n"
     ]
    }
   ],
   "source": [
    "model = create_model()\n",
    "\n",
    "opt = tf.keras.optimizers.SGD(learning_rate=0.00001)\n",
    "#opt = tf.keras.optimizers.Adam(learning_rate=0.0001)\n",
    "model.compile(\n",
    "    loss='categorical_crossentropy',\n",
    "    optimizer=opt,\n",
    "    metrics=['accuracy']\n",
    ")\n",
    "\n",
    "model.summary()"
   ]
  },
  {
   "cell_type": "code",
   "execution_count": 27,
   "id": "65a43795",
   "metadata": {},
   "outputs": [
    {
     "name": "stdout",
     "output_type": "stream",
     "text": [
      "Epoch 1/30\n",
      "8/8 [==============================] - 71s 9s/step - loss: 2.2361 - accuracy: 0.1705 - val_loss: 1.9613 - val_accuracy: 0.1551\n",
      "Epoch 2/30\n",
      "8/8 [==============================] - 70s 9s/step - loss: 2.2082 - accuracy: 0.1740 - val_loss: 1.9189 - val_accuracy: 0.1617\n",
      "Epoch 3/30\n",
      "8/8 [==============================] - 69s 9s/step - loss: 2.1713 - accuracy: 0.1820 - val_loss: 1.8916 - val_accuracy: 0.1702\n",
      "Epoch 4/30\n",
      "8/8 [==============================] - 69s 9s/step - loss: 2.1596 - accuracy: 0.1813 - val_loss: 1.8722 - val_accuracy: 0.1899\n",
      "Epoch 5/30\n",
      "8/8 [==============================] - 69s 9s/step - loss: 2.1464 - accuracy: 0.1861 - val_loss: 1.8562 - val_accuracy: 0.2037\n",
      "Epoch 6/30\n",
      "8/8 [==============================] - 70s 9s/step - loss: 2.1330 - accuracy: 0.1887 - val_loss: 1.8432 - val_accuracy: 0.2122\n",
      "Epoch 7/30\n",
      "8/8 [==============================] - 70s 9s/step - loss: 2.1326 - accuracy: 0.1858 - val_loss: 1.8329 - val_accuracy: 0.2235\n",
      "Epoch 8/30\n",
      "8/8 [==============================] - 70s 9s/step - loss: 2.1266 - accuracy: 0.1921 - val_loss: 1.8243 - val_accuracy: 0.2286\n",
      "Epoch 9/30\n",
      "8/8 [==============================] - 71s 9s/step - loss: 2.1206 - accuracy: 0.1920 - val_loss: 1.8172 - val_accuracy: 0.2362\n",
      "Epoch 10/30\n",
      "8/8 [==============================] - 68s 9s/step - loss: 2.1168 - accuracy: 0.1917 - val_loss: 1.8114 - val_accuracy: 0.2364\n",
      "Epoch 11/30\n",
      "8/8 [==============================] - 68s 9s/step - loss: 2.1276 - accuracy: 0.1905 - val_loss: 1.8063 - val_accuracy: 0.2398\n",
      "Epoch 12/30\n",
      "8/8 [==============================] - 68s 9s/step - loss: 2.1172 - accuracy: 0.1901 - val_loss: 1.8020 - val_accuracy: 0.2402\n",
      "Epoch 13/30\n",
      "8/8 [==============================] - 69s 9s/step - loss: 2.1180 - accuracy: 0.1910 - val_loss: 1.7984 - val_accuracy: 0.2396\n",
      "Epoch 14/30\n",
      "8/8 [==============================] - 69s 9s/step - loss: 2.1141 - accuracy: 0.1945 - val_loss: 1.7955 - val_accuracy: 0.2413\n",
      "Epoch 15/30\n",
      "8/8 [==============================] - 70s 9s/step - loss: 2.1140 - accuracy: 0.1935 - val_loss: 1.7932 - val_accuracy: 0.2383\n",
      "Epoch 16/30\n",
      "8/8 [==============================] - 69s 9s/step - loss: 2.1144 - accuracy: 0.1953 - val_loss: 1.7914 - val_accuracy: 0.2368\n",
      "Epoch 17/30\n",
      "8/8 [==============================] - 70s 9s/step - loss: 2.1093 - accuracy: 0.1938 - val_loss: 1.7901 - val_accuracy: 0.2371\n",
      "Epoch 18/30\n",
      "8/8 [==============================] - 70s 9s/step - loss: 2.1131 - accuracy: 0.1924 - val_loss: 1.7890 - val_accuracy: 0.2379\n",
      "Epoch 19/30\n",
      "8/8 [==============================] - 69s 9s/step - loss: 2.1055 - accuracy: 0.1945 - val_loss: 1.7881 - val_accuracy: 0.2351\n",
      "Epoch 20/30\n",
      "8/8 [==============================] - 69s 9s/step - loss: 2.1063 - accuracy: 0.1957 - val_loss: 1.7874 - val_accuracy: 0.2317\n",
      "Epoch 21/30\n",
      "8/8 [==============================] - 67s 8s/step - loss: 2.1066 - accuracy: 0.1922 - val_loss: 1.7869 - val_accuracy: 0.2303\n",
      "Epoch 22/30\n",
      "8/8 [==============================] - 69s 9s/step - loss: 2.1092 - accuracy: 0.1938 - val_loss: 1.7865 - val_accuracy: 0.2303\n",
      "Epoch 23/30\n",
      "8/8 [==============================] - 70s 9s/step - loss: 2.1089 - accuracy: 0.1941 - val_loss: 1.7863 - val_accuracy: 0.2294\n",
      "Epoch 24/30\n",
      "8/8 [==============================] - 71s 9s/step - loss: 2.1000 - accuracy: 0.1954 - val_loss: 1.7862 - val_accuracy: 0.2296\n",
      "Epoch 25/30\n",
      "8/8 [==============================] - 70s 9s/step - loss: 2.1011 - accuracy: 0.1980 - val_loss: 1.7862 - val_accuracy: 0.2301\n",
      "Epoch 26/30\n",
      "8/8 [==============================] - 73s 9s/step - loss: 2.1069 - accuracy: 0.1958 - val_loss: 1.7862 - val_accuracy: 0.2320\n",
      "Epoch 27/30\n",
      "8/8 [==============================] - 70s 9s/step - loss: 2.1036 - accuracy: 0.1945 - val_loss: 1.7864 - val_accuracy: 0.2330\n",
      "Epoch 28/30\n",
      "8/8 [==============================] - 72s 9s/step - loss: 2.0934 - accuracy: 0.1969 - val_loss: 1.7865 - val_accuracy: 0.2330\n",
      "Epoch 29/30\n",
      "8/8 [==============================] - 72s 9s/step - loss: 2.1020 - accuracy: 0.1950 - val_loss: 1.7866 - val_accuracy: 0.2341\n",
      "Epoch 30/30\n",
      "8/8 [==============================] - 67s 8s/step - loss: 2.0899 - accuracy: 0.1991 - val_loss: 1.7868 - val_accuracy: 0.2349\n"
     ]
    }
   ],
   "source": [
    "history = model.fit(\n",
    "    x_train,\n",
    "    y_train,\n",
    "    steps_per_epoch=16,\n",
    "    validation_steps=8,\n",
    "    epochs=30,\n",
    "    validation_data=(x_test, y_test)\n",
    ")"
   ]
  },
  {
   "cell_type": "code",
   "execution_count": 28,
   "id": "f7114ce1",
   "metadata": {},
   "outputs": [
    {
     "data": {
      "image/png": "[encoded data removed]",
      "text/plain": [
       "<Figure size 432x288 with 1 Axes>"
      ]
     },
     "metadata": {
      "needs_background": "light"
     },
     "output_type": "display_data"
    }
   ],
   "source": [
    "plt.plot(history.history['accuracy'])\n",
    "plt.plot(history.history['val_accuracy'])\n",
    "plt.title('model accuracy')\n",
    "plt.xlabel('epoch')\n",
    "plt.ylabel('accuracy')\n",
    "plt.legend(['train', 'validation'], loc='upper left')\n",
    "plt.show()"
   ]
  },
  {
   "cell_type": "code",
   "execution_count": 29,
   "id": "44d5af9b",
   "metadata": {},
   "outputs": [
    {
     "data": {
      "image/png": "[encoded data removed]",
      "text/plain": [
       "<Figure size 432x288 with 1 Axes>"
      ]
     },
     "metadata": {
      "needs_background": "light"
     },
     "output_type": "display_data"
    }
   ],
   "source": [
    "plt.plot(history.history['loss'])\n",
    "plt.plot(history.history['val_loss'])\n",
    "plt.title('model loss')\n",
    "plt.xlabel('epoch')\n",
    "plt.ylabel('loss')\n",
    "plt.legend(['train', 'validation'], loc='upper left')\n",
    "plt.show()"
   ]
  },
  {
   "cell_type": "code",
   "execution_count": 30,
   "id": "8d194192",
   "metadata": {},
   "outputs": [
    {
     "name": "stdout",
     "output_type": "stream",
     "text": [
      "148/148 - 1s - loss: 1.7868 - accuracy: 0.2349\n",
      "Akurasi : 23.49320948123932 %\n"
     ]
    }
   ],
   "source": [
    "score = model.evaluate(x_test, y_test, verbose=2)\n",
    "print(\"Akurasi : {} %\".format(str(score[1] * 100)))"
   ]
  },
  {
   "cell_type": "code",
   "execution_count": null,
   "id": "af2f35b7",
   "metadata": {},
   "outputs": [],
   "source": []
  }
 ],
 "metadata": {
  "kernelspec": {
   "display_name": "Python 3 (ipykernel)",
   "language": "python",
   "name": "python3"
  },
  "language_info": {
   "codemirror_mode": {
    "name": "ipython",
    "version": 3
   },
   "file_extension": ".py",
   "mimetype": "text/x-python",
   "name": "python",
   "nbconvert_exporter": "python",
   "pygments_lexer": "ipython3",
   "version": "3.8.8"
  }
 },
 "nbformat": 4,
 "nbformat_minor": 5
}
