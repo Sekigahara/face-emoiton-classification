{
 "cells": [
  {
   "cell_type": "code",
   "execution_count": 1,
   "id": "a9259c27",
   "metadata": {},
   "outputs": [],
   "source": [
    "import numpy as np\n",
    "import matplotlib.pyplot as plt\n",
    "import glob\n",
    "import tensorflow as tf"
   ]
  },
  {
   "cell_type": "code",
   "execution_count": 2,
   "id": "1aba8a32",
   "metadata": {},
   "outputs": [],
   "source": [
    "# Load Data\n",
    "train_load = np.load(\"utils\\\\train.npz\")\n",
    "test_load = np.load(\"utils\\\\test.npz\")\n",
    "\n",
    "x_train = train_load['x']\n",
    "y_train = train_load['y']\n",
    "\n",
    "x_test = test_load['x']\n",
    "y_test = test_load['y']"
   ]
  },
  {
   "cell_type": "code",
   "execution_count": 3,
   "id": "4a91230e",
   "metadata": {},
   "outputs": [
    {
     "name": "stdout",
     "output_type": "stream",
     "text": [
      "Neutral\n"
     ]
    },
    {
     "data": {
      "image/png": "[encoded data removed]",
      "text/plain": [
       "<Figure size 432x288 with 1 Axes>"
      ]
     },
     "metadata": {
      "needs_background": "light"
     },
     "output_type": "display_data"
    }
   ],
   "source": [
    "# Lets test the syncronization of label and image\n",
    "dir_path = glob.glob(\"dataset\" + \"\\*\")\n",
    "\n",
    "string_label = []\n",
    "for string in dir_path:\n",
    "    string_label.append(string.split(\"\\\\\")[1])\n",
    "    \n",
    "plt.imshow(x_train[33769])\n",
    "print(string_label[y_train[33769]])"
   ]
  },
  {
   "cell_type": "code",
   "execution_count": 4,
   "id": "66230bd9",
   "metadata": {},
   "outputs": [
    {
     "data": {
      "text/plain": [
       "(7068, 6)"
      ]
     },
     "execution_count": 4,
     "metadata": {},
     "output_type": "execute_result"
    }
   ],
   "source": [
    "from tensorflow.keras.utils import to_categorical\n",
    "\n",
    "y_train = to_categorical(y_train, num_classes=6)\n",
    "y_test = to_categorical(y_test, num_classes=6)\n",
    "\n",
    "y_test.shape"
   ]
  },
  {
   "cell_type": "code",
   "execution_count": 5,
   "id": "0ccf7f9d",
   "metadata": {},
   "outputs": [],
   "source": [
    "# Convert Everything to tensor\n",
    "x_train = tf.convert_to_tensor(x_train)\n",
    "x_test  = tf.convert_to_tensor(x_test)\n",
    "\n",
    "y_train = tf.convert_to_tensor(y_train)\n",
    "y_test  = tf.convert_to_tensor(y_test)"
   ]
  },
  {
   "cell_type": "code",
   "execution_count": 37,
   "id": "f81a9251",
   "metadata": {},
   "outputs": [],
   "source": [
    "def create_model():\n",
    "    return tf.keras.Sequential([\n",
    "        tf.keras.layers.Input(shape=(48, 48, 3)),\n",
    "        tf.keras.layers.Conv2D(64, (3, 3), strides=(1, 1), activation='relu', kernel_initializer=\"he_uniform\"),\n",
    "        tf.keras.layers.Conv2D(64, (2, 2), activation='relu', kernel_initializer=\"he_uniform\"),\n",
    "        tf.keras.layers.MaxPool2D(pool_size=(2, 2)),\n",
    "        \n",
    "        #tf.keras.layers.Dropout(0.1),\n",
    "        #tf.keras.layers.BatchNormalization(),\n",
    "        \n",
    "        tf.keras.layers.Conv2D(64, (2, 2), activation='relu', kernel_initializer=\"he_uniform\"),\n",
    "        tf.keras.layers.Conv2D(64, (2, 2), activation='relu', kernel_initializer=\"he_uniform\"),\n",
    "        tf.keras.layers.MaxPool2D(pool_size=(2, 2)),\n",
    "        tf.keras.layers.BatchNormalization(),\n",
    "        \n",
    "        tf.keras.layers.Dropout(0.2),\n",
    "        \n",
    "        tf.keras.layers.Dense(64, activation=\"relu\"),\n",
    "        tf.keras.layers.Dense(64, activation=\"relu\"),\n",
    "        \n",
    "        tf.keras.layers.Flatten(),\n",
    "        tf.keras.layers.Dense(6, activation=\"softmax\")\n",
    "    ])\n",
    "\n",
    "def create_model_with_adam():\n",
    "    return tf.keras.Sequential([\n",
    "        tf.keras.layers.Input(shape=(48, 48, 3)),\n",
    "        \n",
    "        tf.keras.layers.Conv2D(16, (2, 2)),\n",
    "        tf.keras.layers.Activation(\"relu\"),\n",
    "        tf.keras.layers.Conv2D(16, (2, 2)),\n",
    "        tf.keras.layers.Activation(\"relu\"),\n",
    "        tf.keras.layers.MaxPool2D(pool_size=(2, 2)),\n",
    "      \n",
    "        tf.keras.layers.Dropout(0.5),\n",
    "        \n",
    "        tf.keras.layers.Conv2D(32, (2, 2)),\n",
    "        tf.keras.layers.Activation(\"relu\"),\n",
    "        tf.keras.layers.Conv2D(32, (2, 2)),\n",
    "        tf.keras.layers.Activation(\"relu\"),\n",
    "        tf.keras.layers.MaxPool2D(pool_size=(2, 2)),\n",
    "        \n",
    "        tf.keras.layers.Dropout(0.5),\n",
    "        \n",
    "        tf.keras.layers.Flatten(),\n",
    "        tf.keras.layers.Dense(48, kernel_initializer='glorot_normal'),\n",
    "        tf.keras.layers.Activation(\"relu\"),\n",
    "        tf.keras.layers.Dense(48, kernel_initializer='glorot_normal'),\n",
    "        tf.keras.layers.Activation(\"relu\"),\n",
    "        tf.keras.layers.Dense(64, kernel_initializer='glorot_normal', kernel_regularizer=tf.keras.regularizers.l2(0.0001)),\n",
    "        tf.keras.layers.Activation(\"relu\"),\n",
    "        tf.keras.layers.Dense(80, kernel_initializer='glorot_normal', kernel_regularizer=tf.keras.regularizers.l2(0.0001)),\n",
    "        tf.keras.layers.Activation(\"relu\"),\n",
    "        tf.keras.layers.Dense(128, kernel_initializer='glorot_normal', kernel_regularizer=tf.keras.regularizers.l2(0.0001)),\n",
    "        tf.keras.layers.Activation(\"relu\"),\n",
    "        \n",
    "        tf.keras.layers.Dense(6, activation=\"softmax\")\n",
    "    ])"
   ]
  },
  {
   "cell_type": "code",
   "execution_count": 38,
   "id": "59629213",
   "metadata": {},
   "outputs": [],
   "source": [
    "import gc\n",
    "from tensorflow.keras import backend as k\n",
    "from tensorflow.keras.callbacks import Callback\n",
    "\n",
    "class ClearMemory(Callback):\n",
    "    def on_epoch_end(self, epoch, logs=None):\n",
    "        gc.collect()\n",
    "        k.clear_session()"
   ]
  },
  {
   "cell_type": "code",
   "execution_count": 39,
   "id": "84249348",
   "metadata": {},
   "outputs": [
    {
     "name": "stdout",
     "output_type": "stream",
     "text": [
      "Model: \"sequential\"\n",
      "_________________________________________________________________\n",
      "Layer (type)                 Output Shape              Param #   \n",
      "=================================================================\n",
      "conv2d (Conv2D)              (None, 47, 47, 16)        208       \n",
      "_________________________________________________________________\n",
      "activation (Activation)      (None, 47, 47, 16)        0         \n",
      "_________________________________________________________________\n",
      "conv2d_1 (Conv2D)            (None, 46, 46, 16)        1040      \n",
      "_________________________________________________________________\n",
      "activation_1 (Activation)    (None, 46, 46, 16)        0         \n",
      "_________________________________________________________________\n",
      "max_pooling2d (MaxPooling2D) (None, 23, 23, 16)        0         \n",
      "_________________________________________________________________\n",
      "dropout (Dropout)            (None, 23, 23, 16)        0         \n",
      "_________________________________________________________________\n",
      "conv2d_2 (Conv2D)            (None, 22, 22, 32)        2080      \n",
      "_________________________________________________________________\n",
      "activation_2 (Activation)    (None, 22, 22, 32)        0         \n",
      "_________________________________________________________________\n",
      "conv2d_3 (Conv2D)            (None, 21, 21, 32)        4128      \n",
      "_________________________________________________________________\n",
      "activation_3 (Activation)    (None, 21, 21, 32)        0         \n",
      "_________________________________________________________________\n",
      "max_pooling2d_1 (MaxPooling2 (None, 10, 10, 32)        0         \n",
      "_________________________________________________________________\n",
      "dropout_1 (Dropout)          (None, 10, 10, 32)        0         \n",
      "_________________________________________________________________\n",
      "flatten (Flatten)            (None, 3200)              0         \n",
      "_________________________________________________________________\n",
      "dense (Dense)                (None, 32)                102432    \n",
      "_________________________________________________________________\n",
      "activation_4 (Activation)    (None, 32)                0         \n",
      "_________________________________________________________________\n",
      "dense_1 (Dense)              (None, 48)                1584      \n",
      "_________________________________________________________________\n",
      "activation_5 (Activation)    (None, 48)                0         \n",
      "_________________________________________________________________\n",
      "dense_2 (Dense)              (None, 64)                3136      \n",
      "_________________________________________________________________\n",
      "activation_6 (Activation)    (None, 64)                0         \n",
      "_________________________________________________________________\n",
      "dense_3 (Dense)              (None, 80)                5200      \n",
      "_________________________________________________________________\n",
      "activation_7 (Activation)    (None, 80)                0         \n",
      "_________________________________________________________________\n",
      "dense_4 (Dense)              (None, 128)               10368     \n",
      "_________________________________________________________________\n",
      "activation_8 (Activation)    (None, 128)               0         \n",
      "_________________________________________________________________\n",
      "dense_5 (Dense)              (None, 6)                 774       \n",
      "=================================================================\n",
      "Total params: 130,950\n",
      "Trainable params: 130,950\n",
      "Non-trainable params: 0\n",
      "_________________________________________________________________\n"
     ]
    }
   ],
   "source": [
    "#model = create_model()\n",
    "model = create_model_with_adam()\n",
    "\n",
    "#opt = tf.keras.optimizers.SGD(learning_rate=0.00001)\n",
    "opt = tf.keras.optimizers.Adam(learning_rate=0.001)\n",
    "model.compile(\n",
    "    loss='categorical_crossentropy',\n",
    "    optimizer=opt,\n",
    "    metrics=['accuracy']\n",
    ")\n",
    "\n",
    "model.summary()"
   ]
  },
  {
   "cell_type": "code",
   "execution_count": 40,
   "id": "65a43795",
   "metadata": {
    "scrolled": true
   },
   "outputs": [
    {
     "name": "stdout",
     "output_type": "stream",
     "text": [
      "Epoch 1/70\n",
      "16/16 [==============================] - 30s 2s/step - loss: 1.7835 - accuracy: 0.2473 - val_loss: 1.7783 - val_accuracy: 0.2551\n",
      "Epoch 2/70\n",
      "16/16 [==============================] - 30s 2s/step - loss: 1.7554 - accuracy: 0.2572 - val_loss: 1.7202 - val_accuracy: 0.2668\n",
      "Epoch 3/70\n",
      "16/16 [==============================] - 31s 2s/step - loss: 1.7076 - accuracy: 0.2917 - val_loss: 1.6724 - val_accuracy: 0.3220\n",
      "Epoch 4/70\n",
      "16/16 [==============================] - 31s 2s/step - loss: 1.6649 - accuracy: 0.3172 - val_loss: 1.6395 - val_accuracy: 0.3413\n",
      "Epoch 5/70\n",
      "16/16 [==============================] - 31s 2s/step - loss: 1.6318 - accuracy: 0.3366 - val_loss: 1.6019 - val_accuracy: 0.3608\n",
      "Epoch 6/70\n",
      "16/16 [==============================] - 30s 2s/step - loss: 1.6010 - accuracy: 0.3528 - val_loss: 1.5772 - val_accuracy: 0.3785\n",
      "Epoch 7/70\n",
      "16/16 [==============================] - 30s 2s/step - loss: 1.5731 - accuracy: 0.3680 - val_loss: 1.5507 - val_accuracy: 0.3896\n",
      "Epoch 8/70\n",
      "16/16 [==============================] - 31s 2s/step - loss: 1.5591 - accuracy: 0.3750 - val_loss: 1.5371 - val_accuracy: 0.3891\n",
      "Epoch 9/70\n",
      "16/16 [==============================] - 30s 2s/step - loss: 1.5395 - accuracy: 0.3852 - val_loss: 1.5142 - val_accuracy: 0.4058\n",
      "Epoch 10/70\n",
      "16/16 [==============================] - 30s 2s/step - loss: 1.5235 - accuracy: 0.3915 - val_loss: 1.4967 - val_accuracy: 0.4186\n",
      "Epoch 11/70\n",
      "16/16 [==============================] - 31s 2s/step - loss: 1.5107 - accuracy: 0.3976 - val_loss: 1.4824 - val_accuracy: 0.4212\n",
      "Epoch 12/70\n",
      "16/16 [==============================] - 31s 2s/step - loss: 1.4929 - accuracy: 0.4064 - val_loss: 1.4698 - val_accuracy: 0.4280\n",
      "Epoch 13/70\n",
      "16/16 [==============================] - 30s 2s/step - loss: 1.4838 - accuracy: 0.4086 - val_loss: 1.4609 - val_accuracy: 0.4344\n",
      "Epoch 14/70\n",
      "16/16 [==============================] - 30s 2s/step - loss: 1.4756 - accuracy: 0.4138 - val_loss: 1.4564 - val_accuracy: 0.4283\n",
      "Epoch 15/70\n",
      "16/16 [==============================] - 30s 2s/step - loss: 1.4691 - accuracy: 0.4144 - val_loss: 1.4477 - val_accuracy: 0.4370\n",
      "Epoch 16/70\n",
      "16/16 [==============================] - 31s 2s/step - loss: 1.4568 - accuracy: 0.4223 - val_loss: 1.4459 - val_accuracy: 0.4317\n",
      "Epoch 17/70\n",
      "16/16 [==============================] - 30s 2s/step - loss: 1.4511 - accuracy: 0.4216 - val_loss: 1.4425 - val_accuracy: 0.4423\n",
      "Epoch 18/70\n",
      "16/16 [==============================] - 29s 2s/step - loss: 1.4408 - accuracy: 0.4277 - val_loss: 1.4207 - val_accuracy: 0.4468\n",
      "Epoch 19/70\n",
      "16/16 [==============================] - 29s 2s/step - loss: 1.4356 - accuracy: 0.4312 - val_loss: 1.4228 - val_accuracy: 0.4411\n",
      "Epoch 20/70\n",
      "16/16 [==============================] - 29s 2s/step - loss: 1.4254 - accuracy: 0.4354 - val_loss: 1.4188 - val_accuracy: 0.4431\n",
      "Epoch 21/70\n",
      "16/16 [==============================] - 29s 2s/step - loss: 1.4216 - accuracy: 0.4370 - val_loss: 1.4204 - val_accuracy: 0.4464\n",
      "Epoch 22/70\n",
      "16/16 [==============================] - 29s 2s/step - loss: 1.4132 - accuracy: 0.4411 - val_loss: 1.4044 - val_accuracy: 0.4573\n",
      "Epoch 23/70\n",
      "16/16 [==============================] - 29s 2s/step - loss: 1.4045 - accuracy: 0.4446 - val_loss: 1.4003 - val_accuracy: 0.4588\n",
      "Epoch 24/70\n",
      "16/16 [==============================] - 29s 2s/step - loss: 1.4006 - accuracy: 0.4478 - val_loss: 1.4057 - val_accuracy: 0.4551\n",
      "Epoch 25/70\n",
      "16/16 [==============================] - 29s 2s/step - loss: 1.3953 - accuracy: 0.4496 - val_loss: 1.3904 - val_accuracy: 0.4594\n",
      "Epoch 26/70\n",
      "16/16 [==============================] - 30s 2s/step - loss: 1.3945 - accuracy: 0.4514 - val_loss: 1.3940 - val_accuracy: 0.4532\n",
      "Epoch 27/70\n",
      "16/16 [==============================] - 30s 2s/step - loss: 1.3857 - accuracy: 0.4556 - val_loss: 1.3826 - val_accuracy: 0.4651\n",
      "Epoch 28/70\n",
      "16/16 [==============================] - 29s 2s/step - loss: 1.3776 - accuracy: 0.4574 - val_loss: 1.3798 - val_accuracy: 0.4670\n",
      "Epoch 29/70\n",
      "16/16 [==============================] - 30s 2s/step - loss: 1.3694 - accuracy: 0.4619 - val_loss: 1.3732 - val_accuracy: 0.4666\n",
      "Epoch 30/70\n",
      "16/16 [==============================] - 29s 2s/step - loss: 1.3638 - accuracy: 0.4637 - val_loss: 1.3831 - val_accuracy: 0.4594\n",
      "Epoch 31/70\n",
      "16/16 [==============================] - 30s 2s/step - loss: 1.3594 - accuracy: 0.4653 - val_loss: 1.3699 - val_accuracy: 0.4658\n",
      "Epoch 32/70\n",
      "16/16 [==============================] - 29s 2s/step - loss: 1.3581 - accuracy: 0.4656 - val_loss: 1.3663 - val_accuracy: 0.4701\n",
      "Epoch 33/70\n",
      "16/16 [==============================] - 29s 2s/step - loss: 1.3523 - accuracy: 0.4689 - val_loss: 1.3736 - val_accuracy: 0.4675\n",
      "Epoch 34/70\n",
      "16/16 [==============================] - 29s 2s/step - loss: 1.3503 - accuracy: 0.4709 - val_loss: 1.3658 - val_accuracy: 0.4723\n",
      "Epoch 35/70\n",
      "16/16 [==============================] - 29s 2s/step - loss: 1.3398 - accuracy: 0.4742 - val_loss: 1.3642 - val_accuracy: 0.4726\n",
      "Epoch 36/70\n",
      "16/16 [==============================] - 30s 2s/step - loss: 1.3369 - accuracy: 0.4757 - val_loss: 1.3560 - val_accuracy: 0.4747\n",
      "Epoch 37/70\n",
      "16/16 [==============================] - 30s 2s/step - loss: 1.3339 - accuracy: 0.4793 - val_loss: 1.3530 - val_accuracy: 0.4717\n",
      "Epoch 38/70\n",
      "16/16 [==============================] - 30s 2s/step - loss: 1.3265 - accuracy: 0.4833 - val_loss: 1.3624 - val_accuracy: 0.4706\n",
      "Epoch 39/70\n",
      "16/16 [==============================] - 31s 2s/step - loss: 1.3229 - accuracy: 0.4842 - val_loss: 1.3486 - val_accuracy: 0.4765\n",
      "Epoch 40/70\n",
      "16/16 [==============================] - 30s 2s/step - loss: 1.3217 - accuracy: 0.4823 - val_loss: 1.3447 - val_accuracy: 0.4785\n",
      "Epoch 41/70\n",
      "16/16 [==============================] - 29s 2s/step - loss: 1.3194 - accuracy: 0.4855 - val_loss: 1.3553 - val_accuracy: 0.4710\n",
      "Epoch 42/70\n",
      "16/16 [==============================] - 29s 2s/step - loss: 1.3102 - accuracy: 0.4873 - val_loss: 1.3449 - val_accuracy: 0.4802\n",
      "Epoch 43/70\n",
      "16/16 [==============================] - 30s 2s/step - loss: 1.3088 - accuracy: 0.4882 - val_loss: 1.3464 - val_accuracy: 0.4786\n",
      "Epoch 44/70\n",
      "16/16 [==============================] - 29s 2s/step - loss: 1.3073 - accuracy: 0.4857 - val_loss: 1.3383 - val_accuracy: 0.4816\n",
      "Epoch 45/70\n",
      "16/16 [==============================] - 29s 2s/step - loss: 1.3000 - accuracy: 0.4928 - val_loss: 1.3395 - val_accuracy: 0.4820\n",
      "Epoch 46/70\n",
      "16/16 [==============================] - 29s 2s/step - loss: 1.2983 - accuracy: 0.4927 - val_loss: 1.3397 - val_accuracy: 0.4778\n",
      "Epoch 47/70\n",
      "16/16 [==============================] - 29s 2s/step - loss: 1.2972 - accuracy: 0.4940 - val_loss: 1.3279 - val_accuracy: 0.4815\n",
      "Epoch 48/70\n",
      "16/16 [==============================] - 29s 2s/step - loss: 1.2951 - accuracy: 0.4966 - val_loss: 1.3363 - val_accuracy: 0.4851\n",
      "Epoch 49/70\n",
      "16/16 [==============================] - 29s 2s/step - loss: 1.2905 - accuracy: 0.4953 - val_loss: 1.3341 - val_accuracy: 0.4842\n",
      "Epoch 50/70\n",
      "16/16 [==============================] - 29s 2s/step - loss: 1.2891 - accuracy: 0.4960 - val_loss: 1.3289 - val_accuracy: 0.4873\n",
      "Epoch 51/70\n",
      "16/16 [==============================] - 29s 2s/step - loss: 1.2786 - accuracy: 0.5033 - val_loss: 1.3262 - val_accuracy: 0.4857\n",
      "Epoch 52/70\n",
      "16/16 [==============================] - 29s 2s/step - loss: 1.2788 - accuracy: 0.5010 - val_loss: 1.3289 - val_accuracy: 0.4853\n",
      "Epoch 53/70\n",
      "16/16 [==============================] - 29s 2s/step - loss: 1.2759 - accuracy: 0.5055 - val_loss: 1.3314 - val_accuracy: 0.4871\n",
      "Epoch 54/70\n",
      "16/16 [==============================] - 29s 2s/step - loss: 1.2738 - accuracy: 0.5061 - val_loss: 1.3521 - val_accuracy: 0.4784\n",
      "Epoch 55/70\n",
      "16/16 [==============================] - 30s 2s/step - loss: 1.2715 - accuracy: 0.5049 - val_loss: 1.3195 - val_accuracy: 0.4909\n",
      "Epoch 56/70\n",
      "16/16 [==============================] - 29s 2s/step - loss: 1.2671 - accuracy: 0.5062 - val_loss: 1.3417 - val_accuracy: 0.4810\n",
      "Epoch 57/70\n",
      "16/16 [==============================] - 29s 2s/step - loss: 1.2607 - accuracy: 0.5115 - val_loss: 1.3243 - val_accuracy: 0.4885\n",
      "Epoch 58/70\n",
      "16/16 [==============================] - 29s 2s/step - loss: 1.2581 - accuracy: 0.5124 - val_loss: 1.3247 - val_accuracy: 0.4856\n",
      "Epoch 59/70\n"
     ]
    },
    {
     "name": "stdout",
     "output_type": "stream",
     "text": [
      "16/16 [==============================] - 29s 2s/step - loss: 1.2566 - accuracy: 0.5104 - val_loss: 1.3305 - val_accuracy: 0.4853\n",
      "Epoch 60/70\n",
      "16/16 [==============================] - 30s 2s/step - loss: 1.2486 - accuracy: 0.5147 - val_loss: 1.3123 - val_accuracy: 0.4932\n",
      "Epoch 61/70\n",
      "16/16 [==============================] - 29s 2s/step - loss: 1.2478 - accuracy: 0.5146 - val_loss: 1.3301 - val_accuracy: 0.4857\n",
      "Epoch 62/70\n",
      "16/16 [==============================] - 31s 2s/step - loss: 1.2449 - accuracy: 0.5174 - val_loss: 1.3233 - val_accuracy: 0.4895\n",
      "Epoch 63/70\n",
      "16/16 [==============================] - 31s 2s/step - loss: 1.2385 - accuracy: 0.5188 - val_loss: 1.3248 - val_accuracy: 0.4905\n",
      "Epoch 64/70\n",
      "16/16 [==============================] - 30s 2s/step - loss: 1.2329 - accuracy: 0.5240 - val_loss: 1.3105 - val_accuracy: 0.4934\n",
      "Epoch 65/70\n",
      "16/16 [==============================] - 29s 2s/step - loss: 1.2363 - accuracy: 0.5205 - val_loss: 1.3242 - val_accuracy: 0.4890\n",
      "Epoch 66/70\n",
      "16/16 [==============================] - 29s 2s/step - loss: 1.2296 - accuracy: 0.5235 - val_loss: 1.3179 - val_accuracy: 0.4952\n",
      "Epoch 67/70\n",
      "16/16 [==============================] - 29s 2s/step - loss: 1.2296 - accuracy: 0.5253 - val_loss: 1.3299 - val_accuracy: 0.4826\n",
      "Epoch 68/70\n",
      "16/16 [==============================] - 29s 2s/step - loss: 1.2273 - accuracy: 0.5236 - val_loss: 1.3153 - val_accuracy: 0.4941\n",
      "Epoch 69/70\n",
      "16/16 [==============================] - 29s 2s/step - loss: 1.2256 - accuracy: 0.5285 - val_loss: 1.3302 - val_accuracy: 0.4894\n",
      "Epoch 70/70\n",
      "16/16 [==============================] - 29s 2s/step - loss: 1.2213 - accuracy: 0.5286 - val_loss: 1.3122 - val_accuracy: 0.4953\n"
     ]
    }
   ],
   "source": [
    "history = model.fit(\n",
    "    x_train,\n",
    "    y_train,\n",
    "    steps_per_epoch=16,\n",
    "    validation_steps=8,\n",
    "    epochs=50,\n",
    "    callbacks=ClearMemory(),\n",
    "    use_multiprocessing=False,\n",
    "    workers=2,\n",
    "    validation_data=(x_test, y_test)\n",
    ")"
   ]
  },
  {
   "cell_type": "code",
   "execution_count": 41,
   "id": "f7114ce1",
   "metadata": {
    "scrolled": true
   },
   "outputs": [
    {
     "data": {
      "image/png": "[encoded data removed]",
      "text/plain": [
       "<Figure size 432x288 with 1 Axes>"
      ]
     },
     "metadata": {
      "needs_background": "light"
     },
     "output_type": "display_data"
    }
   ],
   "source": [
    "fig1 = plt.gcf()\n",
    "plt.plot(history.history['accuracy'])\n",
    "plt.plot(history.history['val_accuracy'])\n",
    "plt.title('model accuracy')\n",
    "plt.xlabel('epoch')\n",
    "plt.ylabel('accuracy')\n",
    "plt.legend(['train', 'validation'], loc='upper left')\n",
    "plt.show()\n",
    "\n",
    "fig1.savefig('history/accuracy22.jpg')"
   ]
  },
  {
   "cell_type": "code",
   "execution_count": 42,
   "id": "44d5af9b",
   "metadata": {},
   "outputs": [
    {
     "data": {
      "image/png": "[encoded data removed]",
      "text/plain": [
       "<Figure size 432x288 with 1 Axes>"
      ]
     },
     "metadata": {
      "needs_background": "light"
     },
     "output_type": "display_data"
    }
   ],
   "source": [
    "fig2 = plt.gcf()\n",
    "plt.plot(history.history['loss'])\n",
    "plt.plot(history.history['val_loss'])\n",
    "plt.title('model loss')\n",
    "plt.xlabel('epoch')\n",
    "plt.ylabel('loss')\n",
    "plt.legend(['train', 'validation'], loc='upper left')\n",
    "plt.show()\n",
    "\n",
    "fig2.savefig('history/loss22.jpg')"
   ]
  },
  {
   "cell_type": "code",
   "execution_count": 43,
   "id": "8d194192",
   "metadata": {},
   "outputs": [
    {
     "name": "stdout",
     "output_type": "stream",
     "text": [
      "221/221 - 1s - loss: 1.3122 - accuracy: 0.4953\n",
      "Accuracy : 49.53310787677765 %\n",
      "Loss : 1.3121731281280518\n"
     ]
    }
   ],
   "source": [
    "score = model.evaluate(x_test, y_test, verbose=2)\n",
    "acc_str = \"Accuracy : {} %\".format(str(score[1] * 100))\n",
    "acc_loss = \"Loss : {}\".format(str(score[0]))\n",
    "print(acc_str)\n",
    "print(acc_loss)"
   ]
  },
  {
   "cell_type": "code",
   "execution_count": 44,
   "id": "af2f35b7",
   "metadata": {},
   "outputs": [],
   "source": [
    "# Save notepad data\n",
    "with open('history/model_summary22.txt','w') as h:\n",
    "    model.summary(print_fn=lambda x: h.write(x + '\\n'))\n",
    "    h.write(acc_str + '\\n' + acc_loss)"
   ]
  },
  {
   "cell_type": "code",
   "execution_count": 45,
   "id": "38276f04",
   "metadata": {},
   "outputs": [],
   "source": [
    "model.save('history/model22.h5')"
   ]
  },
  {
   "cell_type": "code",
   "execution_count": 21,
   "id": "0012f0ac",
   "metadata": {},
   "outputs": [],
   "source": [
    "#mod = tf.keras.models.load_model('history/model13.h5')"
   ]
  },
  {
   "cell_type": "code",
   "execution_count": null,
   "id": "bc4cc0f0",
   "metadata": {},
   "outputs": [],
   "source": []
  },
  {
   "cell_type": "code",
   "execution_count": null,
   "id": "e4446233",
   "metadata": {},
   "outputs": [],
   "source": []
  }
 ],
 "metadata": {
  "kernelspec": {
   "display_name": "Python 3 (ipykernel)",
   "language": "python",
   "name": "python3"
  },
  "language_info": {
   "codemirror_mode": {
    "name": "ipython",
    "version": 3
   },
   "file_extension": ".py",
   "mimetype": "text/x-python",
   "name": "python",
   "nbconvert_exporter": "python",
   "pygments_lexer": "ipython3",
   "version": "3.8.8"
  }
 },
 "nbformat": 4,
 "nbformat_minor": 5
}
