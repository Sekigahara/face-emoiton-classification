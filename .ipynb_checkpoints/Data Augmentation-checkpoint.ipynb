{
 "cells": [
  {
   "cell_type": "code",
   "execution_count": 62,
   "id": "4763b3ad",
   "metadata": {},
   "outputs": [],
   "source": [
    "import numpy as np, cv2\n",
    "import matplotlib.pyplot as plt"
   ]
  },
  {
   "cell_type": "code",
   "execution_count": 63,
   "id": "b9ee7dea",
   "metadata": {},
   "outputs": [],
   "source": [
    "# load Model and Test\n",
    "loaded = np.load(\"utils\\\\dataset.npz\")\n",
    "x = loaded['x']\n",
    "y = loaded['y']"
   ]
  },
  {
   "cell_type": "code",
   "execution_count": 64,
   "id": "6902f3e7",
   "metadata": {},
   "outputs": [],
   "source": [
    "# Normalize the image\n",
    "x_norm = []\n",
    "for idx, data in enumerate(x):\n",
    "    data = cv2.resize(data, (48, 48))\n",
    "    x_norm.append(cv2.normalize(data, data, alpha=0, beta=1, norm_type=cv2.NORM_MINMAX, dtype=cv2.CV_32F))\n",
    "x_norm = np.asarray(x_norm)"
   ]
  },
  {
   "cell_type": "code",
   "execution_count": 65,
   "id": "7bfb1b09",
   "metadata": {},
   "outputs": [],
   "source": [
    "# Lets do the cross validation\n",
    "from sklearn.model_selection import StratifiedKFold as skf\n",
    "\n",
    "skf_model = skf(n_splits=3, random_state=12, shuffle=True)\n",
    "for train_idx, test_idx in skf_model.split(x, y):\n",
    "    x_train, x_test = x_norm[train_idx], x_norm[test_idx]\n",
    "    y_train, y_test = y[train_idx], y[test_idx]"
   ]
  },
  {
   "cell_type": "code",
   "execution_count": 66,
   "id": "7084e39d",
   "metadata": {},
   "outputs": [
    {
     "name": "stdout",
     "output_type": "stream",
     "text": [
      "(23561,)\n",
      "(4712,)\n"
     ]
    }
   ],
   "source": [
    "print(y_train.shape)\n",
    "print(y_test.shape)"
   ]
  },
  {
   "cell_type": "code",
   "execution_count": 67,
   "id": "3ac797a8",
   "metadata": {},
   "outputs": [
    {
     "data": {
      "text/plain": [
       "<matplotlib.image.AxesImage at 0x23431685700>"
      ]
     },
     "execution_count": 67,
     "metadata": {},
     "output_type": "execute_result"
    },
    {
     "data": {
      "image/png": "[encoded data removed]",
      "text/plain": [
       "<Figure size 432x288 with 1 Axes>"
      ]
     },
     "metadata": {
      "needs_background": "light"
     },
     "output_type": "display_data"
    }
   ],
   "source": [
    "# Lets Experiment the data augmentation\n",
    "image = x_train[1000]\n",
    "plt.imshow(image)"
   ]
  },
  {
   "cell_type": "code",
   "execution_count": 68,
   "id": "021a2353",
   "metadata": {},
   "outputs": [
    {
     "data": {
      "text/plain": [
       "<matplotlib.image.AxesImage at 0x2342575fdf0>"
      ]
     },
     "execution_count": 68,
     "metadata": {},
     "output_type": "execute_result"
    },
    {
     "data": {
      "image/png": "[encoded data removed]",
      "text/plain": [
       "<Figure size 432x288 with 1 Axes>"
      ]
     },
     "metadata": {
      "needs_background": "light"
     },
     "output_type": "display_data"
    }
   ],
   "source": [
    "image = cv2.flip(image, 2)\n",
    "plt.imshow(image)"
   ]
  },
  {
   "cell_type": "code",
   "execution_count": 69,
   "id": "8b25de56",
   "metadata": {},
   "outputs": [],
   "source": [
    "# Lets augment the data only for train\n",
    "augmented_x_train = []\n",
    "augmented_y_train = []\n",
    "for idx, img_train in enumerate(x_train):\n",
    "    augmented_x_train.append(cv2.flip(img_train, 2))\n",
    "    augmented_y_train.append(y_train[idx])\n",
    "    \n",
    "augmented_x_train = np.asarray(augmented_x_train)\n",
    "augmented_y_train = np.asarray(augmented_y_train)"
   ]
  },
  {
   "cell_type": "code",
   "execution_count": 70,
   "id": "233d0d1c",
   "metadata": {},
   "outputs": [],
   "source": [
    "# Make it one array\n",
    "x_train = x_train.tolist()\n",
    "y_train = y_train.tolist()\n",
    "for idx, img_augmented in enumerate(augmented_x_train):\n",
    "    x_train.append(img_augmented)\n",
    "    y_train.append(augmented_y_train[idx])\n",
    "    \n",
    "x_train = np.asarray(x_train)\n",
    "y_train = np.asarray(y_train)"
   ]
  },
  {
   "cell_type": "code",
   "execution_count": 71,
   "id": "d7d1a4b5",
   "metadata": {},
   "outputs": [],
   "source": [
    "np.savez(\"utils\\\\train.npz\", x=x_train, y=y_train)\n",
    "np.savez(\"utils\\\\test.npz\", x=x_test, y=y_test)"
   ]
  },
  {
   "cell_type": "code",
   "execution_count": null,
   "id": "8b51a307",
   "metadata": {},
   "outputs": [],
   "source": []
  }
 ],
 "metadata": {
  "kernelspec": {
   "display_name": "Python 3 (ipykernel)",
   "language": "python",
   "name": "python3"
  },
  "language_info": {
   "codemirror_mode": {
    "name": "ipython",
    "version": 3
   },
   "file_extension": ".py",
   "mimetype": "text/x-python",
   "name": "python",
   "nbconvert_exporter": "python",
   "pygments_lexer": "ipython3",
   "version": "3.8.8"
  }
 },
 "nbformat": 4,
 "nbformat_minor": 5
}
