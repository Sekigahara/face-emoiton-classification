{
 "cells": [
  {
   "cell_type": "code",
   "execution_count": 1,
   "id": "a9259c27",
   "metadata": {},
   "outputs": [],
   "source": [
    "import numpy as np\n",
    "import matplotlib.pyplot as plt\n",
    "import glob\n",
    "import tensorflow as tf"
   ]
  },
  {
   "cell_type": "code",
   "execution_count": 2,
   "id": "1aba8a32",
   "metadata": {},
   "outputs": [],
   "source": [
    "# Load Data\n",
    "train_load = np.load(\"utils\\\\train.npz\")\n",
    "test_load = np.load(\"utils\\\\test.npz\")\n",
    "\n",
    "x_train = train_load['x']\n",
    "y_train = train_load['y']\n",
    "\n",
    "x_test = test_load['x']\n",
    "y_test = test_load['y']"
   ]
  },
  {
   "cell_type": "code",
   "execution_count": 3,
   "id": "4a91230e",
   "metadata": {},
   "outputs": [
    {
     "name": "stdout",
     "output_type": "stream",
     "text": [
      "Neutral\n"
     ]
    },
    {
     "data": {
      "image/png": "[encoded data removed]",
      "text/plain": [
       "<Figure size 432x288 with 1 Axes>"
      ]
     },
     "metadata": {
      "needs_background": "light"
     },
     "output_type": "display_data"
    }
   ],
   "source": [
    "# Lets test the syncronization of label and image\n",
    "dir_path = glob.glob(\"dataset\" + \"\\*\")\n",
    "\n",
    "string_label = []\n",
    "for string in dir_path:\n",
    "    string_label.append(string.split(\"\\\\\")[1])\n",
    "    \n",
    "plt.imshow(x_train[33769])\n",
    "print(string_label[y_train[33769]])"
   ]
  },
  {
   "cell_type": "code",
   "execution_count": 4,
   "id": "66230bd9",
   "metadata": {},
   "outputs": [
    {
     "data": {
      "text/plain": [
       "(7068, 6)"
      ]
     },
     "execution_count": 4,
     "metadata": {},
     "output_type": "execute_result"
    }
   ],
   "source": [
    "from tensorflow.keras.utils import to_categorical\n",
    "\n",
    "y_train = to_categorical(y_train, num_classes=6)\n",
    "y_test = to_categorical(y_test, num_classes=6)\n",
    "\n",
    "y_test.shape"
   ]
  },
  {
   "cell_type": "code",
   "execution_count": 5,
   "id": "0ccf7f9d",
   "metadata": {},
   "outputs": [],
   "source": [
    "# Convert Everything to tensor\n",
    "x_train = tf.convert_to_tensor(x_train)\n",
    "x_test  = tf.convert_to_tensor(x_test)\n",
    "\n",
    "y_train = tf.convert_to_tensor(y_train)\n",
    "y_test  = tf.convert_to_tensor(y_test)"
   ]
  },
  {
   "cell_type": "code",
   "execution_count": 13,
   "id": "f81a9251",
   "metadata": {},
   "outputs": [],
   "source": [
    "def create_model():\n",
    "    return tf.keras.Sequential([\n",
    "        tf.keras.layers.Input(shape=(48, 48, 3)),\n",
    "        tf.keras.layers.Conv2D(64, (3, 3), strides=(1, 1), activation='relu', kernel_initializer=\"he_uniform\"),\n",
    "        tf.keras.layers.Conv2D(64, (2, 2), activation='relu', kernel_initializer=\"he_uniform\"),\n",
    "        tf.keras.layers.MaxPool2D(pool_size=(2, 2)),\n",
    "        \n",
    "        #tf.keras.layers.Dropout(0.1),\n",
    "        #tf.keras.layers.BatchNormalization(),\n",
    "        \n",
    "        tf.keras.layers.Conv2D(64, (2, 2), activation='relu', kernel_initializer=\"he_uniform\"),\n",
    "        tf.keras.layers.Conv2D(64, (2, 2), activation='relu', kernel_initializer=\"he_uniform\"),\n",
    "        tf.keras.layers.MaxPool2D(pool_size=(2, 2)),\n",
    "        tf.keras.layers.BatchNormalization(),\n",
    "        \n",
    "        tf.keras.layers.Dropout(0.2),\n",
    "        \n",
    "        tf.keras.layers.Dense(64, activation=\"relu\"),\n",
    "        tf.keras.layers.Dense(64, activation=\"relu\"),\n",
    "        \n",
    "        tf.keras.layers.Flatten(),\n",
    "        tf.keras.layers.Dense(6, activation=\"softmax\")\n",
    "    ])\n",
    "\n",
    "def create_model_with_adam():\n",
    "    return tf.keras.Sequential([\n",
    "        tf.keras.layers.Input(shape=(48, 48, 3)),\n",
    "        \n",
    "        tf.keras.layers.Conv2D(16, (2, 2)),\n",
    "        tf.keras.layers.Activation(\"relu\"),\n",
    "        tf.keras.layers.Conv2D(16, (2, 2)),\n",
    "        tf.keras.layers.Activation(\"relu\"),\n",
    "        tf.keras.layers.MaxPool2D(pool_size=(2, 2)),\n",
    "        \n",
    "        tf.keras.layers.Dropout(0.5),\n",
    "        \n",
    "        tf.keras.layers.Conv2D(32, (2, 2)),\n",
    "        tf.keras.layers.Activation(\"relu\"),\n",
    "        tf.keras.layers.Conv2D(32, (2, 2)),\n",
    "        tf.keras.layers.Activation(\"relu\"),\n",
    "        tf.keras.layers.MaxPool2D(pool_size=(2, 2)),\n",
    "      \n",
    "        tf.keras.layers.Dropout(0.6),\n",
    "\n",
    "        tf.keras.layers.Flatten(),\n",
    "        tf.keras.layers.Dense(32, kernel_initializer='glorot_normal'),\n",
    "        tf.keras.layers.Activation(\"relu\"),\n",
    "        tf.keras.layers.Dense(64, kernel_initializer='glorot_normal', kernel_regularizer=tf.keras.regularizers.l2(0.001)),\n",
    "        tf.keras.layers.Activation(\"relu\"),\n",
    "        tf.keras.layers.Dense(80, kernel_initializer='glorot_normal', kernel_regularizer=tf.keras.regularizers.l2(0.0001)),\n",
    "        tf.keras.layers.Activation(\"relu\"),\n",
    "        tf.keras.layers.Dense(96, kernel_initializer='glorot_normal', kernel_regularizer=tf.keras.regularizers.l2(0.0001)),\n",
    "        tf.keras.layers.Activation(\"relu\"),\n",
    "        tf.keras.layers.Dense(128, kernel_initializer='glorot_uniform', kernel_regularizer=tf.keras.regularizers.l2(0.0001)),\n",
    "        tf.keras.layers.Activation(\"relu\"),\n",
    "        tf.keras.layers.Dense(144, kernel_initializer='glorot_uniform', kernel_regularizer=tf.keras.regularizers.l2(0.0001)),\n",
    "        tf.keras.layers.Activation(\"relu\"),\n",
    "        \n",
    "        tf.keras.layers.Dense(6, activation=\"softmax\")\n",
    "    ])"
   ]
  },
  {
   "cell_type": "code",
   "execution_count": 14,
   "id": "59629213",
   "metadata": {},
   "outputs": [],
   "source": [
    "import gc\n",
    "from tensorflow.keras import backend as k\n",
    "from tensorflow.keras.callbacks import Callback\n",
    "\n",
    "class ClearMemory(Callback):\n",
    "    def on_epoch_end(self, epoch, logs=None):\n",
    "        gc.collect()\n",
    "        k.clear_session()"
   ]
  },
  {
   "cell_type": "code",
   "execution_count": 15,
   "id": "84249348",
   "metadata": {},
   "outputs": [
    {
     "name": "stdout",
     "output_type": "stream",
     "text": [
      "Model: \"sequential_2\"\n",
      "_________________________________________________________________\n",
      "Layer (type)                 Output Shape              Param #   \n",
      "=================================================================\n",
      "conv2d_8 (Conv2D)            (None, 47, 47, 16)        208       \n",
      "_________________________________________________________________\n",
      "activation_20 (Activation)   (None, 47, 47, 16)        0         \n",
      "_________________________________________________________________\n",
      "conv2d_9 (Conv2D)            (None, 46, 46, 16)        1040      \n",
      "_________________________________________________________________\n",
      "activation_21 (Activation)   (None, 46, 46, 16)        0         \n",
      "_________________________________________________________________\n",
      "max_pooling2d_4 (MaxPooling2 (None, 23, 23, 16)        0         \n",
      "_________________________________________________________________\n",
      "dropout_4 (Dropout)          (None, 23, 23, 16)        0         \n",
      "_________________________________________________________________\n",
      "conv2d_10 (Conv2D)           (None, 22, 22, 32)        2080      \n",
      "_________________________________________________________________\n",
      "activation_22 (Activation)   (None, 22, 22, 32)        0         \n",
      "_________________________________________________________________\n",
      "conv2d_11 (Conv2D)           (None, 21, 21, 32)        4128      \n",
      "_________________________________________________________________\n",
      "activation_23 (Activation)   (None, 21, 21, 32)        0         \n",
      "_________________________________________________________________\n",
      "max_pooling2d_5 (MaxPooling2 (None, 10, 10, 32)        0         \n",
      "_________________________________________________________________\n",
      "dropout_5 (Dropout)          (None, 10, 10, 32)        0         \n",
      "_________________________________________________________________\n",
      "flatten_2 (Flatten)          (None, 3200)              0         \n",
      "_________________________________________________________________\n",
      "dense_14 (Dense)             (None, 32)                102432    \n",
      "_________________________________________________________________\n",
      "activation_24 (Activation)   (None, 32)                0         \n",
      "_________________________________________________________________\n",
      "dense_15 (Dense)             (None, 64)                2112      \n",
      "_________________________________________________________________\n",
      "activation_25 (Activation)   (None, 64)                0         \n",
      "_________________________________________________________________\n",
      "dense_16 (Dense)             (None, 80)                5200      \n",
      "_________________________________________________________________\n",
      "activation_26 (Activation)   (None, 80)                0         \n",
      "_________________________________________________________________\n",
      "dense_17 (Dense)             (None, 96)                7776      \n",
      "_________________________________________________________________\n",
      "activation_27 (Activation)   (None, 96)                0         \n",
      "_________________________________________________________________\n",
      "dense_18 (Dense)             (None, 128)               12416     \n",
      "_________________________________________________________________\n",
      "activation_28 (Activation)   (None, 128)               0         \n",
      "_________________________________________________________________\n",
      "dense_19 (Dense)             (None, 144)               18576     \n",
      "_________________________________________________________________\n",
      "activation_29 (Activation)   (None, 144)               0         \n",
      "_________________________________________________________________\n",
      "dense_20 (Dense)             (None, 6)                 870       \n",
      "=================================================================\n",
      "Total params: 156,838\n",
      "Trainable params: 156,838\n",
      "Non-trainable params: 0\n",
      "_________________________________________________________________\n"
     ]
    }
   ],
   "source": [
    "#model = create_model()\n",
    "model = create_model_with_adam()\n",
    "\n",
    "#opt = tf.keras.optimizers.SGD(learning_rate=0.00001)\n",
    "opt = tf.keras.optimizers.Adam(learning_rate=0.001)\n",
    "model.compile(\n",
    "    loss='categorical_crossentropy',\n",
    "    optimizer=opt,\n",
    "    metrics=['accuracy']\n",
    ")\n",
    "\n",
    "model.summary()"
   ]
  },
  {
   "cell_type": "code",
   "execution_count": 16,
   "id": "65a43795",
   "metadata": {
    "scrolled": true
   },
   "outputs": [
    {
     "name": "stdout",
     "output_type": "stream",
     "text": [
      "Epoch 1/70\n",
      "16/16 [==============================] - 33s 2s/step - loss: 1.8413 - accuracy: 0.2495 - val_loss: 1.8380 - val_accuracy: 0.2551\n",
      "Epoch 2/70\n",
      "16/16 [==============================] - 31s 2s/step - loss: 1.8250 - accuracy: 0.2552 - val_loss: 1.8241 - val_accuracy: 0.2551\n",
      "Epoch 3/70\n",
      "16/16 [==============================] - 31s 2s/step - loss: 1.8114 - accuracy: 0.2552 - val_loss: 1.8071 - val_accuracy: 0.2551\n",
      "Epoch 4/70\n",
      "16/16 [==============================] - 30s 2s/step - loss: 1.7784 - accuracy: 0.2559 - val_loss: 1.7480 - val_accuracy: 0.2739\n",
      "Epoch 5/70\n",
      "16/16 [==============================] - 30s 2s/step - loss: 1.7316 - accuracy: 0.2999 - val_loss: 1.6900 - val_accuracy: 0.3420\n",
      "Epoch 6/70\n",
      "16/16 [==============================] - 30s 2s/step - loss: 1.6841 - accuracy: 0.3261 - val_loss: 1.6366 - val_accuracy: 0.3625\n",
      "Epoch 7/70\n",
      "16/16 [==============================] - 30s 2s/step - loss: 1.6476 - accuracy: 0.3405 - val_loss: 1.6046 - val_accuracy: 0.3803\n",
      "Epoch 8/70\n",
      "16/16 [==============================] - 30s 2s/step - loss: 1.6155 - accuracy: 0.3588 - val_loss: 1.5782 - val_accuracy: 0.3926\n",
      "Epoch 9/70\n",
      "16/16 [==============================] - 30s 2s/step - loss: 1.5899 - accuracy: 0.3700 - val_loss: 1.5559 - val_accuracy: 0.4048\n",
      "Epoch 10/70\n",
      "16/16 [==============================] - 31s 2s/step - loss: 1.5713 - accuracy: 0.3758 - val_loss: 1.5353 - val_accuracy: 0.4066\n",
      "Epoch 11/70\n",
      "16/16 [==============================] - 30s 2s/step - loss: 1.5547 - accuracy: 0.3877 - val_loss: 1.5112 - val_accuracy: 0.4203\n",
      "Epoch 12/70\n",
      "16/16 [==============================] - 32s 2s/step - loss: 1.5394 - accuracy: 0.3946 - val_loss: 1.5026 - val_accuracy: 0.4150\n",
      "Epoch 13/70\n",
      "16/16 [==============================] - 31s 2s/step - loss: 1.5252 - accuracy: 0.4003 - val_loss: 1.4818 - val_accuracy: 0.4246\n",
      "Epoch 14/70\n",
      "16/16 [==============================] - 32s 2s/step - loss: 1.5110 - accuracy: 0.4046 - val_loss: 1.4663 - val_accuracy: 0.4366\n",
      "Epoch 15/70\n",
      "16/16 [==============================] - 31s 2s/step - loss: 1.4987 - accuracy: 0.4104 - val_loss: 1.4640 - val_accuracy: 0.4370\n",
      "Epoch 16/70\n",
      "16/16 [==============================] - 31s 2s/step - loss: 1.4925 - accuracy: 0.4154 - val_loss: 1.4528 - val_accuracy: 0.4352\n",
      "Epoch 17/70\n",
      "16/16 [==============================] - 32s 2s/step - loss: 1.4845 - accuracy: 0.4175 - val_loss: 1.4489 - val_accuracy: 0.4390\n",
      "Epoch 18/70\n",
      "16/16 [==============================] - 29s 2s/step - loss: 1.4732 - accuracy: 0.4229 - val_loss: 1.4353 - val_accuracy: 0.4455\n",
      "Epoch 19/70\n",
      "16/16 [==============================] - 29s 2s/step - loss: 1.4690 - accuracy: 0.4243 - val_loss: 1.4403 - val_accuracy: 0.4322\n",
      "Epoch 20/70\n",
      "16/16 [==============================] - 29s 2s/step - loss: 1.4608 - accuracy: 0.4266 - val_loss: 1.4293 - val_accuracy: 0.4400\n",
      "Epoch 21/70\n",
      "16/16 [==============================] - 29s 2s/step - loss: 1.4579 - accuracy: 0.4283 - val_loss: 1.4199 - val_accuracy: 0.4455\n",
      "Epoch 22/70\n",
      "16/16 [==============================] - 29s 2s/step - loss: 1.4463 - accuracy: 0.4332 - val_loss: 1.4165 - val_accuracy: 0.4469\n",
      "Epoch 23/70\n",
      "16/16 [==============================] - 29s 2s/step - loss: 1.4425 - accuracy: 0.4352 - val_loss: 1.4134 - val_accuracy: 0.4519\n",
      "Epoch 24/70\n",
      "16/16 [==============================] - 29s 2s/step - loss: 1.4366 - accuracy: 0.4374 - val_loss: 1.4173 - val_accuracy: 0.4563\n",
      "Epoch 25/70\n",
      "16/16 [==============================] - 30s 2s/step - loss: 1.4312 - accuracy: 0.4394 - val_loss: 1.4044 - val_accuracy: 0.4570\n",
      "Epoch 26/70\n",
      "16/16 [==============================] - 29s 2s/step - loss: 1.4233 - accuracy: 0.4395 - val_loss: 1.4053 - val_accuracy: 0.4509\n",
      "Epoch 27/70\n",
      "16/16 [==============================] - 30s 2s/step - loss: 1.4222 - accuracy: 0.4440 - val_loss: 1.4030 - val_accuracy: 0.4506\n",
      "Epoch 28/70\n",
      "16/16 [==============================] - 29s 2s/step - loss: 1.4172 - accuracy: 0.4448 - val_loss: 1.3930 - val_accuracy: 0.4587\n",
      "Epoch 29/70\n",
      "16/16 [==============================] - 29s 2s/step - loss: 1.4068 - accuracy: 0.4491 - val_loss: 1.3862 - val_accuracy: 0.4641\n",
      "Epoch 30/70\n",
      "16/16 [==============================] - 29s 2s/step - loss: 1.4058 - accuracy: 0.4538 - val_loss: 1.3917 - val_accuracy: 0.4578\n",
      "Epoch 31/70\n",
      "16/16 [==============================] - 29s 2s/step - loss: 1.3919 - accuracy: 0.4575 - val_loss: 1.3753 - val_accuracy: 0.4684\n",
      "Epoch 32/70\n",
      "16/16 [==============================] - 29s 2s/step - loss: 1.3920 - accuracy: 0.4570 - val_loss: 1.3832 - val_accuracy: 0.4607\n",
      "Epoch 33/70\n",
      "16/16 [==============================] - 29s 2s/step - loss: 1.3904 - accuracy: 0.4574 - val_loss: 1.3733 - val_accuracy: 0.4694\n",
      "Epoch 34/70\n",
      "16/16 [==============================] - 29s 2s/step - loss: 1.3858 - accuracy: 0.4617 - val_loss: 1.3752 - val_accuracy: 0.4670\n",
      "Epoch 35/70\n",
      "16/16 [==============================] - 29s 2s/step - loss: 1.3841 - accuracy: 0.4601 - val_loss: 1.3679 - val_accuracy: 0.4716\n",
      "Epoch 36/70\n",
      "16/16 [==============================] - 30s 2s/step - loss: 1.3770 - accuracy: 0.4630 - val_loss: 1.3661 - val_accuracy: 0.4737\n",
      "Epoch 37/70\n",
      "16/16 [==============================] - 30s 2s/step - loss: 1.3715 - accuracy: 0.4671 - val_loss: 1.3587 - val_accuracy: 0.4745\n",
      "Epoch 38/70\n",
      "16/16 [==============================] - 29s 2s/step - loss: 1.3686 - accuracy: 0.4660 - val_loss: 1.3609 - val_accuracy: 0.4745\n",
      "Epoch 39/70\n",
      "16/16 [==============================] - 29s 2s/step - loss: 1.3695 - accuracy: 0.4681 - val_loss: 1.3662 - val_accuracy: 0.4677\n",
      "Epoch 40/70\n",
      "16/16 [==============================] - 29s 2s/step - loss: 1.3667 - accuracy: 0.4672 - val_loss: 1.3602 - val_accuracy: 0.4751\n",
      "Epoch 41/70\n",
      "16/16 [==============================] - 29s 2s/step - loss: 1.3644 - accuracy: 0.4693 - val_loss: 1.3606 - val_accuracy: 0.4754\n",
      "Epoch 42/70\n",
      "16/16 [==============================] - 29s 2s/step - loss: 1.3591 - accuracy: 0.4708 - val_loss: 1.3543 - val_accuracy: 0.4759\n",
      "Epoch 43/70\n",
      "16/16 [==============================] - 29s 2s/step - loss: 1.3518 - accuracy: 0.4761 - val_loss: 1.3451 - val_accuracy: 0.4789\n",
      "Epoch 44/70\n",
      "16/16 [==============================] - 29s 2s/step - loss: 1.3498 - accuracy: 0.4756 - val_loss: 1.3482 - val_accuracy: 0.4798\n",
      "Epoch 45/70\n",
      "16/16 [==============================] - 29s 2s/step - loss: 1.3456 - accuracy: 0.4772 - val_loss: 1.3418 - val_accuracy: 0.4826\n",
      "Epoch 46/70\n",
      "16/16 [==============================] - 29s 2s/step - loss: 1.3483 - accuracy: 0.4797 - val_loss: 1.3661 - val_accuracy: 0.4690\n",
      "Epoch 47/70\n",
      "16/16 [==============================] - 29s 2s/step - loss: 1.3425 - accuracy: 0.4795 - val_loss: 1.3422 - val_accuracy: 0.4849\n",
      "Epoch 48/70\n",
      "16/16 [==============================] - 29s 2s/step - loss: 1.3380 - accuracy: 0.4808 - val_loss: 1.3445 - val_accuracy: 0.4793\n",
      "Epoch 49/70\n",
      "16/16 [==============================] - 29s 2s/step - loss: 1.3310 - accuracy: 0.4855 - val_loss: 1.3410 - val_accuracy: 0.4786\n",
      "Epoch 50/70\n",
      "16/16 [==============================] - 29s 2s/step - loss: 1.3302 - accuracy: 0.4847 - val_loss: 1.3419 - val_accuracy: 0.4815\n",
      "Epoch 51/70\n",
      "16/16 [==============================] - 29s 2s/step - loss: 1.3306 - accuracy: 0.4844 - val_loss: 1.3462 - val_accuracy: 0.4791\n",
      "Epoch 52/70\n",
      "16/16 [==============================] - 29s 2s/step - loss: 1.3302 - accuracy: 0.4841 - val_loss: 1.3380 - val_accuracy: 0.4815\n",
      "Epoch 53/70\n",
      "16/16 [==============================] - 29s 2s/step - loss: 1.3217 - accuracy: 0.4886 - val_loss: 1.3367 - val_accuracy: 0.4849\n",
      "Epoch 54/70\n",
      "16/16 [==============================] - 29s 2s/step - loss: 1.3236 - accuracy: 0.4879 - val_loss: 1.3435 - val_accuracy: 0.4786\n",
      "Epoch 55/70\n",
      "16/16 [==============================] - 29s 2s/step - loss: 1.3218 - accuracy: 0.4893 - val_loss: 1.3332 - val_accuracy: 0.4864\n",
      "Epoch 56/70\n",
      "16/16 [==============================] - 30s 2s/step - loss: 1.3163 - accuracy: 0.4904 - val_loss: 1.3306 - val_accuracy: 0.4856\n",
      "Epoch 57/70\n",
      "16/16 [==============================] - 29s 2s/step - loss: 1.3197 - accuracy: 0.4914 - val_loss: 1.3363 - val_accuracy: 0.4875\n",
      "Epoch 58/70\n",
      "16/16 [==============================] - 29s 2s/step - loss: 1.3131 - accuracy: 0.4938 - val_loss: 1.3340 - val_accuracy: 0.4844\n",
      "Epoch 59/70\n"
     ]
    },
    {
     "name": "stdout",
     "output_type": "stream",
     "text": [
      "16/16 [==============================] - 29s 2s/step - loss: 1.3106 - accuracy: 0.4941 - val_loss: 1.3449 - val_accuracy: 0.4803\n",
      "Epoch 60/70\n",
      "16/16 [==============================] - 29s 2s/step - loss: 1.3088 - accuracy: 0.4952 - val_loss: 1.3328 - val_accuracy: 0.4861\n",
      "Epoch 61/70\n",
      "16/16 [==============================] - 29s 2s/step - loss: 1.3038 - accuracy: 0.4981 - val_loss: 1.3349 - val_accuracy: 0.4847\n",
      "Epoch 62/70\n",
      "16/16 [==============================] - 29s 2s/step - loss: 1.3015 - accuracy: 0.4962 - val_loss: 1.3332 - val_accuracy: 0.4864\n",
      "Epoch 63/70\n",
      "16/16 [==============================] - 29s 2s/step - loss: 1.3047 - accuracy: 0.4963 - val_loss: 1.3313 - val_accuracy: 0.4849\n",
      "Epoch 64/70\n",
      "16/16 [==============================] - 29s 2s/step - loss: 1.2998 - accuracy: 0.5000 - val_loss: 1.3303 - val_accuracy: 0.4880\n",
      "Epoch 65/70\n",
      "16/16 [==============================] - 29s 2s/step - loss: 1.2910 - accuracy: 0.4991 - val_loss: 1.3206 - val_accuracy: 0.4911\n",
      "Epoch 66/70\n",
      "16/16 [==============================] - 29s 2s/step - loss: 1.2957 - accuracy: 0.5008 - val_loss: 1.3184 - val_accuracy: 0.4908\n",
      "Epoch 67/70\n",
      "16/16 [==============================] - 29s 2s/step - loss: 1.2953 - accuracy: 0.4987 - val_loss: 1.3191 - val_accuracy: 0.4898\n",
      "Epoch 68/70\n",
      "16/16 [==============================] - 29s 2s/step - loss: 1.2930 - accuracy: 0.4993 - val_loss: 1.3214 - val_accuracy: 0.4885\n",
      "Epoch 69/70\n",
      "16/16 [==============================] - 29s 2s/step - loss: 1.2891 - accuracy: 0.5028 - val_loss: 1.3215 - val_accuracy: 0.4902\n",
      "Epoch 70/70\n",
      "16/16 [==============================] - 29s 2s/step - loss: 1.2907 - accuracy: 0.5000 - val_loss: 1.3285 - val_accuracy: 0.4844\n"
     ]
    }
   ],
   "source": [
    "history = model.fit(\n",
    "    x_train,\n",
    "    y_train,\n",
    "    steps_per_epoch=16,\n",
    "    validation_steps=8,\n",
    "    epochs=70,\n",
    "    callbacks=ClearMemory(),\n",
    "    use_multiprocessing=False,\n",
    "    workers=2,\n",
    "    validation_data=(x_test, y_test)\n",
    ")"
   ]
  },
  {
   "cell_type": "code",
   "execution_count": 17,
   "id": "f7114ce1",
   "metadata": {
    "scrolled": true
   },
   "outputs": [
    {
     "data": {
      "image/png": "[encoded data removed]",
      "text/plain": [
       "<Figure size 432x288 with 1 Axes>"
      ]
     },
     "metadata": {
      "needs_background": "light"
     },
     "output_type": "display_data"
    }
   ],
   "source": [
    "fig1 = plt.gcf()\n",
    "plt.plot(history.history['accuracy'])\n",
    "plt.plot(history.history['val_accuracy'])\n",
    "plt.title('model accuracy')\n",
    "plt.xlabel('epoch')\n",
    "plt.ylabel('accuracy')\n",
    "plt.legend(['train', 'validation'], loc='upper left')\n",
    "plt.show()\n",
    "\n",
    "fig1.savefig('history/accuracy26.jpg')"
   ]
  },
  {
   "cell_type": "code",
   "execution_count": 18,
   "id": "44d5af9b",
   "metadata": {},
   "outputs": [
    {
     "data": {
      "image/png": "[encoded data removed]",
      "text/plain": [
       "<Figure size 432x288 with 1 Axes>"
      ]
     },
     "metadata": {
      "needs_background": "light"
     },
     "output_type": "display_data"
    }
   ],
   "source": [
    "fig2 = plt.gcf()\n",
    "plt.plot(history.history['loss'])\n",
    "plt.plot(history.history['val_loss'])\n",
    "plt.title('model loss')\n",
    "plt.xlabel('epoch')\n",
    "plt.ylabel('loss')\n",
    "plt.legend(['train', 'validation'], loc='upper left')\n",
    "plt.show()\n",
    "\n",
    "fig2.savefig('history/loss26.jpg')"
   ]
  },
  {
   "cell_type": "code",
   "execution_count": 19,
   "id": "8d194192",
   "metadata": {},
   "outputs": [
    {
     "name": "stdout",
     "output_type": "stream",
     "text": [
      "221/221 - 1s - loss: 1.3285 - accuracy: 0.4844\n",
      "Accuracy : 48.443689942359924 %\n",
      "Loss : 1.328492283821106\n"
     ]
    }
   ],
   "source": [
    "score = model.evaluate(x_test, y_test, verbose=2)\n",
    "acc_str = \"Accuracy : {} %\".format(str(score[1] * 100))\n",
    "acc_loss = \"Loss : {}\".format(str(score[0]))\n",
    "print(acc_str)\n",
    "print(acc_loss)"
   ]
  },
  {
   "cell_type": "code",
   "execution_count": 20,
   "id": "af2f35b7",
   "metadata": {},
   "outputs": [],
   "source": [
    "# Save notepad data\n",
    "with open('history/model_summary26.txt','w') as h:\n",
    "    model.summary(print_fn=lambda x: h.write(x + '\\n'))\n",
    "    h.write(acc_str + '\\n' + acc_loss)"
   ]
  },
  {
   "cell_type": "code",
   "execution_count": 21,
   "id": "38276f04",
   "metadata": {},
   "outputs": [],
   "source": [
    "model.save('history/model26.h5')"
   ]
  },
  {
   "cell_type": "code",
   "execution_count": 21,
   "id": "0012f0ac",
   "metadata": {},
   "outputs": [],
   "source": [
    "#mod = tf.keras.models.load_model('history/model13.h5')"
   ]
  },
  {
   "cell_type": "code",
   "execution_count": null,
   "id": "bc4cc0f0",
   "metadata": {},
   "outputs": [],
   "source": []
  },
  {
   "cell_type": "code",
   "execution_count": null,
   "id": "e4446233",
   "metadata": {},
   "outputs": [],
   "source": []
  }
 ],
 "metadata": {
  "kernelspec": {
   "display_name": "Python 3 (ipykernel)",
   "language": "python",
   "name": "python3"
  },
  "language_info": {
   "codemirror_mode": {
    "name": "ipython",
    "version": 3
   },
   "file_extension": ".py",
   "mimetype": "text/x-python",
   "name": "python",
   "nbconvert_exporter": "python",
   "pygments_lexer": "ipython3",
   "version": "3.8.8"
  }
 },
 "nbformat": 4,
 "nbformat_minor": 5
}
