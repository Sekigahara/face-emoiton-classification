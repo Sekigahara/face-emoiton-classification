{
 "cells": [
  {
   "cell_type": "code",
   "execution_count": 1,
   "id": "a9259c27",
   "metadata": {},
   "outputs": [],
   "source": [
    "import numpy as np\n",
    "import matplotlib.pyplot as plt\n",
    "import glob\n",
    "import tensorflow as tf"
   ]
  },
  {
   "cell_type": "code",
   "execution_count": 2,
   "id": "1aba8a32",
   "metadata": {},
   "outputs": [],
   "source": [
    "# Load Data\n",
    "train_load = np.load(\"utils\\\\train.npz\")\n",
    "test_load = np.load(\"utils\\\\test.npz\")\n",
    "\n",
    "x_train = train_load['x']\n",
    "y_train = train_load['y']\n",
    "\n",
    "x_test = test_load['x']\n",
    "y_test = test_load['y']"
   ]
  },
  {
   "cell_type": "code",
   "execution_count": 3,
   "id": "4a91230e",
   "metadata": {},
   "outputs": [
    {
     "name": "stdout",
     "output_type": "stream",
     "text": [
      "Neutral\n"
     ]
    },
    {
     "data": {
      "image/png": "[encoded data removed]",
      "text/plain": [
       "<Figure size 432x288 with 1 Axes>"
      ]
     },
     "metadata": {
      "needs_background": "light"
     },
     "output_type": "display_data"
    }
   ],
   "source": [
    "# Lets test the syncronization of label and image\n",
    "dir_path = glob.glob(\"dataset\" + \"\\*\")\n",
    "\n",
    "string_label = []\n",
    "for string in dir_path:\n",
    "    string_label.append(string.split(\"\\\\\")[1])\n",
    "    \n",
    "plt.imshow(x_train[33769])\n",
    "print(string_label[y_train[33769]])"
   ]
  },
  {
   "cell_type": "code",
   "execution_count": 4,
   "id": "66230bd9",
   "metadata": {},
   "outputs": [
    {
     "data": {
      "text/plain": [
       "(7068, 6)"
      ]
     },
     "execution_count": 4,
     "metadata": {},
     "output_type": "execute_result"
    }
   ],
   "source": [
    "from tensorflow.keras.utils import to_categorical\n",
    "\n",
    "y_train = to_categorical(y_train, num_classes=6)\n",
    "y_test = to_categorical(y_test, num_classes=6)\n",
    "\n",
    "y_test.shape"
   ]
  },
  {
   "cell_type": "code",
   "execution_count": 5,
   "id": "0ccf7f9d",
   "metadata": {},
   "outputs": [],
   "source": [
    "# Convert Everything to tensor\n",
    "x_train = tf.convert_to_tensor(x_train)\n",
    "x_test  = tf.convert_to_tensor(x_test)\n",
    "\n",
    "y_train = tf.convert_to_tensor(y_train)\n",
    "y_test  = tf.convert_to_tensor(y_test)"
   ]
  },
  {
   "cell_type": "code",
   "execution_count": 27,
   "id": "f81a9251",
   "metadata": {},
   "outputs": [],
   "source": [
    "def create_model():\n",
    "    return tf.keras.Sequential([\n",
    "        tf.keras.layers.Input(shape=(48, 48, 3)),\n",
    "        tf.keras.layers.Conv2D(64, (3, 3), strides=(1, 1), activation='relu', kernel_initializer=\"he_uniform\"),\n",
    "        tf.keras.layers.Conv2D(64, (2, 2), activation='relu', kernel_initializer=\"he_uniform\"),\n",
    "        tf.keras.layers.MaxPool2D(pool_size=(2, 2)),\n",
    "        \n",
    "        #tf.keras.layers.Dropout(0.1),\n",
    "        #tf.keras.layers.BatchNormalization(),\n",
    "        \n",
    "        tf.keras.layers.Conv2D(64, (2, 2), activation='relu', kernel_initializer=\"he_uniform\"),\n",
    "        tf.keras.layers.Conv2D(64, (2, 2), activation='relu', kernel_initializer=\"he_uniform\"),\n",
    "        tf.keras.layers.MaxPool2D(pool_size=(2, 2)),\n",
    "        tf.keras.layers.BatchNormalization(),\n",
    "        \n",
    "        tf.keras.layers.Dropout(0.2),\n",
    "        \n",
    "        tf.keras.layers.Dense(64, activation=\"relu\"),\n",
    "        tf.keras.layers.Dense(64, activation=\"relu\"),\n",
    "        \n",
    "        tf.keras.layers.Flatten(),\n",
    "        tf.keras.layers.Dense(6, activation=\"softmax\")\n",
    "    ])\n",
    "\n",
    "def create_model_with_adam():\n",
    "    return tf.keras.Sequential([\n",
    "        tf.keras.layers.Input(shape=(48, 48, 3)),\n",
    "        \n",
    "        tf.keras.layers.Conv2D(16, (2, 2)),\n",
    "        tf.keras.layers.Activation(\"relu\"),\n",
    "        tf.keras.layers.Conv2D(16, (2, 2)),\n",
    "        tf.keras.layers.Activation(\"relu\"),\n",
    "        tf.keras.layers.MaxPool2D(pool_size=(2, 2)),\n",
    "      \n",
    "        tf.keras.layers.Dropout(0.45),\n",
    "        \n",
    "        tf.keras.layers.Conv2D(32, (2, 2)),\n",
    "        tf.keras.layers.Activation(\"relu\"),\n",
    "        tf.keras.layers.Conv2D(32, (2, 2)),\n",
    "        tf.keras.layers.Activation(\"relu\"),\n",
    "        tf.keras.layers.MaxPool2D(pool_size=(2, 2)),\n",
    "        \n",
    "        tf.keras.layers.Dropout(0.5),\n",
    "        \n",
    "        tf.keras.layers.Flatten(),\n",
    "        tf.keras.layers.Dense(32, kernel_initializer='glorot_normal'),\n",
    "        tf.keras.layers.Activation(\"relu\"),\n",
    "        tf.keras.layers.Dense(48, kernel_initializer='glorot_normal'),\n",
    "        tf.keras.layers.Activation(\"relu\"),\n",
    "        tf.keras.layers.Dense(64, kernel_initializer='glorot_normal', kernel_regularizer=tf.keras.regularizers.l2(0.0001)),\n",
    "        tf.keras.layers.Activation(\"relu\"),\n",
    "        tf.keras.layers.Dense(80, kernel_initializer='glorot_normal', kernel_regularizer=tf.keras.regularizers.l2(0.0001)),\n",
    "        tf.keras.layers.Activation(\"relu\"),\n",
    "        tf.keras.layers.Dense(128, kernel_initializer='glorot_normal', kernel_regularizer=tf.keras.regularizers.l2(0.0001)),\n",
    "        tf.keras.layers.Activation(\"relu\"),\n",
    "        \n",
    "        tf.keras.layers.Dense(6, activation=\"softmax\")\n",
    "    ])"
   ]
  },
  {
   "cell_type": "code",
   "execution_count": 28,
   "id": "59629213",
   "metadata": {},
   "outputs": [],
   "source": [
    "import gc\n",
    "from tensorflow.keras import backend as k\n",
    "from tensorflow.keras.callbacks import Callback\n",
    "\n",
    "class ClearMemory(Callback):\n",
    "    def on_epoch_end(self, epoch, logs=None):\n",
    "        gc.collect()\n",
    "        k.clear_session()"
   ]
  },
  {
   "cell_type": "code",
   "execution_count": 30,
   "id": "84249348",
   "metadata": {},
   "outputs": [
    {
     "name": "stdout",
     "output_type": "stream",
     "text": [
      "Model: \"sequential_1\"\n",
      "_________________________________________________________________\n",
      "Layer (type)                 Output Shape              Param #   \n",
      "=================================================================\n",
      "conv2d_4 (Conv2D)            (None, 47, 47, 16)        208       \n",
      "_________________________________________________________________\n",
      "activation_9 (Activation)    (None, 47, 47, 16)        0         \n",
      "_________________________________________________________________\n",
      "conv2d_5 (Conv2D)            (None, 46, 46, 16)        1040      \n",
      "_________________________________________________________________\n",
      "activation_10 (Activation)   (None, 46, 46, 16)        0         \n",
      "_________________________________________________________________\n",
      "max_pooling2d_2 (MaxPooling2 (None, 23, 23, 16)        0         \n",
      "_________________________________________________________________\n",
      "dropout_2 (Dropout)          (None, 23, 23, 16)        0         \n",
      "_________________________________________________________________\n",
      "conv2d_6 (Conv2D)            (None, 22, 22, 32)        2080      \n",
      "_________________________________________________________________\n",
      "activation_11 (Activation)   (None, 22, 22, 32)        0         \n",
      "_________________________________________________________________\n",
      "conv2d_7 (Conv2D)            (None, 21, 21, 32)        4128      \n",
      "_________________________________________________________________\n",
      "activation_12 (Activation)   (None, 21, 21, 32)        0         \n",
      "_________________________________________________________________\n",
      "max_pooling2d_3 (MaxPooling2 (None, 10, 10, 32)        0         \n",
      "_________________________________________________________________\n",
      "dropout_3 (Dropout)          (None, 10, 10, 32)        0         \n",
      "_________________________________________________________________\n",
      "flatten_1 (Flatten)          (None, 3200)              0         \n",
      "_________________________________________________________________\n",
      "dense_6 (Dense)              (None, 32)                102432    \n",
      "_________________________________________________________________\n",
      "activation_13 (Activation)   (None, 32)                0         \n",
      "_________________________________________________________________\n",
      "dense_7 (Dense)              (None, 48)                1584      \n",
      "_________________________________________________________________\n",
      "activation_14 (Activation)   (None, 48)                0         \n",
      "_________________________________________________________________\n",
      "dense_8 (Dense)              (None, 64)                3136      \n",
      "_________________________________________________________________\n",
      "activation_15 (Activation)   (None, 64)                0         \n",
      "_________________________________________________________________\n",
      "dense_9 (Dense)              (None, 80)                5200      \n",
      "_________________________________________________________________\n",
      "activation_16 (Activation)   (None, 80)                0         \n",
      "_________________________________________________________________\n",
      "dense_10 (Dense)             (None, 128)               10368     \n",
      "_________________________________________________________________\n",
      "activation_17 (Activation)   (None, 128)               0         \n",
      "_________________________________________________________________\n",
      "dense_11 (Dense)             (None, 6)                 774       \n",
      "=================================================================\n",
      "Total params: 130,950\n",
      "Trainable params: 130,950\n",
      "Non-trainable params: 0\n",
      "_________________________________________________________________\n"
     ]
    }
   ],
   "source": [
    "#model = create_model()\n",
    "model = create_model_with_adam()\n",
    "\n",
    "#opt = tf.keras.optimizers.SGD(learning_rate=0.00001)\n",
    "opt = tf.keras.optimizers.Adam(learning_rate=0.001)\n",
    "model.compile(\n",
    "    loss='categorical_crossentropy',\n",
    "    optimizer=opt,\n",
    "    metrics=['accuracy']\n",
    ")\n",
    "\n",
    "model.summary()"
   ]
  },
  {
   "cell_type": "code",
   "execution_count": 31,
   "id": "65a43795",
   "metadata": {
    "scrolled": true
   },
   "outputs": [
    {
     "name": "stdout",
     "output_type": "stream",
     "text": [
      "Epoch 1/70\n",
      "16/16 [==============================] - 29s 2s/step - loss: 1.7845 - accuracy: 0.2499 - val_loss: 1.7807 - val_accuracy: 0.2551\n",
      "Epoch 2/70\n",
      "16/16 [==============================] - 29s 2s/step - loss: 1.7693 - accuracy: 0.2552 - val_loss: 1.7556 - val_accuracy: 0.2551\n",
      "Epoch 3/70\n",
      "16/16 [==============================] - 29s 2s/step - loss: 1.7170 - accuracy: 0.2813 - val_loss: 1.6735 - val_accuracy: 0.3183\n",
      "Epoch 4/70\n",
      "16/16 [==============================] - 29s 2s/step - loss: 1.6726 - accuracy: 0.3154 - val_loss: 1.6503 - val_accuracy: 0.3340\n",
      "Epoch 5/70\n",
      "16/16 [==============================] - 29s 2s/step - loss: 1.6372 - accuracy: 0.3289 - val_loss: 1.6054 - val_accuracy: 0.3513\n",
      "Epoch 6/70\n",
      "16/16 [==============================] - 29s 2s/step - loss: 1.6056 - accuracy: 0.3485 - val_loss: 1.5729 - val_accuracy: 0.3688\n",
      "Epoch 7/70\n",
      "16/16 [==============================] - 29s 2s/step - loss: 1.5799 - accuracy: 0.3609 - val_loss: 1.5513 - val_accuracy: 0.3789\n",
      "Epoch 8/70\n",
      "16/16 [==============================] - 30s 2s/step - loss: 1.5681 - accuracy: 0.3724 - val_loss: 1.5338 - val_accuracy: 0.3998\n",
      "Epoch 9/70\n",
      "16/16 [==============================] - 29s 2s/step - loss: 1.5422 - accuracy: 0.3815 - val_loss: 1.5077 - val_accuracy: 0.4110\n",
      "Epoch 10/70\n",
      "16/16 [==============================] - 29s 2s/step - loss: 1.5206 - accuracy: 0.3911 - val_loss: 1.4976 - val_accuracy: 0.4126\n",
      "Epoch 11/70\n",
      "16/16 [==============================] - 29s 2s/step - loss: 1.5089 - accuracy: 0.3992 - val_loss: 1.4759 - val_accuracy: 0.4208\n",
      "Epoch 12/70\n",
      "16/16 [==============================] - 29s 2s/step - loss: 1.4905 - accuracy: 0.4073 - val_loss: 1.4657 - val_accuracy: 0.4261\n",
      "Epoch 13/70\n",
      "16/16 [==============================] - 30s 2s/step - loss: 1.4753 - accuracy: 0.4137 - val_loss: 1.4435 - val_accuracy: 0.4341\n",
      "Epoch 14/70\n",
      "16/16 [==============================] - 31s 2s/step - loss: 1.4660 - accuracy: 0.4179 - val_loss: 1.4434 - val_accuracy: 0.4376\n",
      "Epoch 15/70\n",
      "16/16 [==============================] - 32s 2s/step - loss: 1.4522 - accuracy: 0.4218 - val_loss: 1.4205 - val_accuracy: 0.4454\n",
      "Epoch 16/70\n",
      "16/16 [==============================] - 33s 2s/step - loss: 1.4443 - accuracy: 0.4258 - val_loss: 1.4146 - val_accuracy: 0.4450\n",
      "Epoch 17/70\n",
      "16/16 [==============================] - 31s 2s/step - loss: 1.4340 - accuracy: 0.4320 - val_loss: 1.4072 - val_accuracy: 0.4495\n",
      "Epoch 18/70\n",
      "16/16 [==============================] - 30s 2s/step - loss: 1.4197 - accuracy: 0.4402 - val_loss: 1.4020 - val_accuracy: 0.4505\n",
      "Epoch 19/70\n",
      "16/16 [==============================] - 31s 2s/step - loss: 1.4149 - accuracy: 0.4399 - val_loss: 1.3971 - val_accuracy: 0.4529\n",
      "Epoch 20/70\n",
      "16/16 [==============================] - 31s 2s/step - loss: 1.4058 - accuracy: 0.4464 - val_loss: 1.3921 - val_accuracy: 0.4509\n",
      "Epoch 21/70\n",
      "16/16 [==============================] - 30s 2s/step - loss: 1.3965 - accuracy: 0.4519 - val_loss: 1.3902 - val_accuracy: 0.4601\n",
      "Epoch 22/70\n",
      "16/16 [==============================] - 31s 2s/step - loss: 1.3925 - accuracy: 0.4518 - val_loss: 1.3783 - val_accuracy: 0.4602\n",
      "Epoch 23/70\n",
      "16/16 [==============================] - 30s 2s/step - loss: 1.3812 - accuracy: 0.4570 - val_loss: 1.3747 - val_accuracy: 0.4636\n",
      "Epoch 24/70\n",
      "16/16 [==============================] - 31s 2s/step - loss: 1.3764 - accuracy: 0.4591 - val_loss: 1.3708 - val_accuracy: 0.4682\n",
      "Epoch 25/70\n",
      "16/16 [==============================] - 31s 2s/step - loss: 1.3685 - accuracy: 0.4611 - val_loss: 1.3702 - val_accuracy: 0.4652\n",
      "Epoch 26/70\n",
      "16/16 [==============================] - 31s 2s/step - loss: 1.3609 - accuracy: 0.4621 - val_loss: 1.3631 - val_accuracy: 0.4731\n",
      "Epoch 27/70\n",
      "16/16 [==============================] - 31s 2s/step - loss: 1.3612 - accuracy: 0.4676 - val_loss: 1.3738 - val_accuracy: 0.4662\n",
      "Epoch 28/70\n",
      "16/16 [==============================] - 31s 2s/step - loss: 1.3533 - accuracy: 0.4692 - val_loss: 1.3603 - val_accuracy: 0.4686\n",
      "Epoch 29/70\n",
      "16/16 [==============================] - 31s 2s/step - loss: 1.3476 - accuracy: 0.4712 - val_loss: 1.3532 - val_accuracy: 0.4714\n",
      "Epoch 30/70\n",
      "16/16 [==============================] - 30s 2s/step - loss: 1.3378 - accuracy: 0.4773 - val_loss: 1.3637 - val_accuracy: 0.4663\n",
      "Epoch 31/70\n",
      "16/16 [==============================] - 30s 2s/step - loss: 1.3352 - accuracy: 0.4795 - val_loss: 1.3548 - val_accuracy: 0.4755\n",
      "Epoch 32/70\n",
      "16/16 [==============================] - 29s 2s/step - loss: 1.3291 - accuracy: 0.4792 - val_loss: 1.3515 - val_accuracy: 0.4750\n",
      "Epoch 33/70\n",
      "16/16 [==============================] - 29s 2s/step - loss: 1.3244 - accuracy: 0.4845 - val_loss: 1.3445 - val_accuracy: 0.4775\n",
      "Epoch 34/70\n",
      "16/16 [==============================] - 29s 2s/step - loss: 1.3198 - accuracy: 0.4864 - val_loss: 1.3438 - val_accuracy: 0.4774\n",
      "Epoch 35/70\n",
      "16/16 [==============================] - 29s 2s/step - loss: 1.3168 - accuracy: 0.4866 - val_loss: 1.3458 - val_accuracy: 0.4733\n",
      "Epoch 36/70\n",
      "16/16 [==============================] - 29s 2s/step - loss: 1.3086 - accuracy: 0.4885 - val_loss: 1.3433 - val_accuracy: 0.4774\n",
      "Epoch 37/70\n",
      "16/16 [==============================] - 29s 2s/step - loss: 1.3121 - accuracy: 0.4876 - val_loss: 1.3414 - val_accuracy: 0.4796\n",
      "Epoch 38/70\n",
      "16/16 [==============================] - 29s 2s/step - loss: 1.3083 - accuracy: 0.4920 - val_loss: 1.3404 - val_accuracy: 0.4810\n",
      "Epoch 39/70\n",
      "16/16 [==============================] - 30s 2s/step - loss: 1.3016 - accuracy: 0.4915 - val_loss: 1.3425 - val_accuracy: 0.4796\n",
      "Epoch 40/70\n",
      "16/16 [==============================] - 29s 2s/step - loss: 1.2962 - accuracy: 0.4929 - val_loss: 1.3395 - val_accuracy: 0.4789\n",
      "Epoch 41/70\n",
      "16/16 [==============================] - 29s 2s/step - loss: 1.2919 - accuracy: 0.4949 - val_loss: 1.3394 - val_accuracy: 0.4758\n",
      "Epoch 42/70\n",
      "16/16 [==============================] - 29s 2s/step - loss: 1.2821 - accuracy: 0.5014 - val_loss: 1.3364 - val_accuracy: 0.4836\n",
      "Epoch 43/70\n",
      "16/16 [==============================] - 29s 2s/step - loss: 1.2838 - accuracy: 0.5024 - val_loss: 1.3352 - val_accuracy: 0.4812\n",
      "Epoch 44/70\n",
      "16/16 [==============================] - 29s 2s/step - loss: 1.2776 - accuracy: 0.5040 - val_loss: 1.3334 - val_accuracy: 0.4860\n",
      "Epoch 45/70\n",
      "16/16 [==============================] - 29s 2s/step - loss: 1.2736 - accuracy: 0.5048 - val_loss: 1.3352 - val_accuracy: 0.4843\n",
      "Epoch 46/70\n",
      "16/16 [==============================] - 29s 2s/step - loss: 1.2722 - accuracy: 0.5058 - val_loss: 1.3307 - val_accuracy: 0.4888\n",
      "Epoch 47/70\n",
      "16/16 [==============================] - 29s 2s/step - loss: 1.2708 - accuracy: 0.5089 - val_loss: 1.3329 - val_accuracy: 0.4837\n",
      "Epoch 48/70\n",
      "16/16 [==============================] - 29s 2s/step - loss: 1.2673 - accuracy: 0.5087 - val_loss: 1.3298 - val_accuracy: 0.4859\n",
      "Epoch 49/70\n",
      "16/16 [==============================] - 29s 2s/step - loss: 1.2580 - accuracy: 0.5117 - val_loss: 1.3297 - val_accuracy: 0.4880\n",
      "Epoch 50/70\n",
      "16/16 [==============================] - 29s 2s/step - loss: 1.2568 - accuracy: 0.5144 - val_loss: 1.3282 - val_accuracy: 0.4880\n",
      "Epoch 51/70\n",
      "16/16 [==============================] - 29s 2s/step - loss: 1.2507 - accuracy: 0.5168 - val_loss: 1.3339 - val_accuracy: 0.4857\n",
      "Epoch 52/70\n",
      "16/16 [==============================] - 30s 2s/step - loss: 1.2483 - accuracy: 0.5174 - val_loss: 1.3257 - val_accuracy: 0.4887\n",
      "Epoch 53/70\n",
      "16/16 [==============================] - 31s 2s/step - loss: 1.2485 - accuracy: 0.5150 - val_loss: 1.3271 - val_accuracy: 0.4880\n",
      "Epoch 54/70\n",
      "16/16 [==============================] - 31s 2s/step - loss: 1.2435 - accuracy: 0.5203 - val_loss: 1.3270 - val_accuracy: 0.4836\n",
      "Epoch 55/70\n",
      "16/16 [==============================] - 30s 2s/step - loss: 1.2364 - accuracy: 0.5235 - val_loss: 1.3284 - val_accuracy: 0.4867\n",
      "Epoch 56/70\n",
      "16/16 [==============================] - 30s 2s/step - loss: 1.2341 - accuracy: 0.5243 - val_loss: 1.3266 - val_accuracy: 0.4867\n",
      "Epoch 57/70\n",
      "16/16 [==============================] - 30s 2s/step - loss: 1.2334 - accuracy: 0.5240 - val_loss: 1.3254 - val_accuracy: 0.4888\n",
      "Epoch 58/70\n",
      "16/16 [==============================] - 30s 2s/step - loss: 1.2245 - accuracy: 0.5282 - val_loss: 1.3271 - val_accuracy: 0.4857\n",
      "Epoch 59/70\n"
     ]
    },
    {
     "name": "stdout",
     "output_type": "stream",
     "text": [
      "16/16 [==============================] - 30s 2s/step - loss: 1.2248 - accuracy: 0.5268 - val_loss: 1.3276 - val_accuracy: 0.4880\n",
      "Epoch 60/70\n",
      "16/16 [==============================] - 30s 2s/step - loss: 1.2186 - accuracy: 0.5282 - val_loss: 1.3286 - val_accuracy: 0.4885\n",
      "Epoch 61/70\n",
      "16/16 [==============================] - 33s 2s/step - loss: 1.2197 - accuracy: 0.5312 - val_loss: 1.3277 - val_accuracy: 0.4891\n",
      "Epoch 62/70\n",
      "16/16 [==============================] - 30s 2s/step - loss: 1.2147 - accuracy: 0.5307 - val_loss: 1.3253 - val_accuracy: 0.4907\n",
      "Epoch 63/70\n",
      "16/16 [==============================] - 31s 2s/step - loss: 1.2094 - accuracy: 0.5347 - val_loss: 1.3292 - val_accuracy: 0.4834\n",
      "Epoch 64/70\n",
      "16/16 [==============================] - 31s 2s/step - loss: 1.2168 - accuracy: 0.5339 - val_loss: 1.3322 - val_accuracy: 0.4829\n",
      "Epoch 65/70\n",
      "16/16 [==============================] - 31s 2s/step - loss: 1.2096 - accuracy: 0.5342 - val_loss: 1.3269 - val_accuracy: 0.4892\n",
      "Epoch 66/70\n",
      "16/16 [==============================] - 30s 2s/step - loss: 1.2121 - accuracy: 0.5337 - val_loss: 1.3451 - val_accuracy: 0.4840\n",
      "Epoch 67/70\n",
      "16/16 [==============================] - 32s 2s/step - loss: 1.2066 - accuracy: 0.5371 - val_loss: 1.3324 - val_accuracy: 0.4866\n",
      "Epoch 68/70\n",
      "16/16 [==============================] - 31s 2s/step - loss: 1.2024 - accuracy: 0.5382 - val_loss: 1.3335 - val_accuracy: 0.4864\n",
      "Epoch 69/70\n",
      "16/16 [==============================] - 32s 2s/step - loss: 1.1992 - accuracy: 0.5390 - val_loss: 1.3286 - val_accuracy: 0.4897\n",
      "Epoch 70/70\n",
      "16/16 [==============================] - 31s 2s/step - loss: 1.1890 - accuracy: 0.5438 - val_loss: 1.3274 - val_accuracy: 0.4918\n"
     ]
    }
   ],
   "source": [
    "history = model.fit(\n",
    "    x_train,\n",
    "    y_train,\n",
    "    steps_per_epoch=16,\n",
    "    validation_steps=8,\n",
    "    epochs=70,\n",
    "    callbacks=ClearMemory(),\n",
    "    use_multiprocessing=False,\n",
    "    workers=2,\n",
    "    validation_data=(x_test, y_test)\n",
    ")"
   ]
  },
  {
   "cell_type": "code",
   "execution_count": 32,
   "id": "f7114ce1",
   "metadata": {
    "scrolled": true
   },
   "outputs": [
    {
     "data": {
      "image/png": "[encoded data removed]",
      "text/plain": [
       "<Figure size 432x288 with 1 Axes>"
      ]
     },
     "metadata": {
      "needs_background": "light"
     },
     "output_type": "display_data"
    }
   ],
   "source": [
    "fig1 = plt.gcf()\n",
    "plt.plot(history.history['accuracy'])\n",
    "plt.plot(history.history['val_accuracy'])\n",
    "plt.title('model accuracy')\n",
    "plt.xlabel('epoch')\n",
    "plt.ylabel('accuracy')\n",
    "plt.legend(['train', 'validation'], loc='upper left')\n",
    "plt.show()\n",
    "\n",
    "fig1.savefig('history/accuracy21.jpg')"
   ]
  },
  {
   "cell_type": "code",
   "execution_count": 33,
   "id": "44d5af9b",
   "metadata": {},
   "outputs": [
    {
     "data": {
      "image/png": "[encoded data removed]",
      "text/plain": [
       "<Figure size 432x288 with 1 Axes>"
      ]
     },
     "metadata": {
      "needs_background": "light"
     },
     "output_type": "display_data"
    }
   ],
   "source": [
    "fig2 = plt.gcf()\n",
    "plt.plot(history.history['loss'])\n",
    "plt.plot(history.history['val_loss'])\n",
    "plt.title('model loss')\n",
    "plt.xlabel('epoch')\n",
    "plt.ylabel('loss')\n",
    "plt.legend(['train', 'validation'], loc='upper left')\n",
    "plt.show()\n",
    "\n",
    "fig2.savefig('history/loss21.jpg')"
   ]
  },
  {
   "cell_type": "code",
   "execution_count": 34,
   "id": "8d194192",
   "metadata": {},
   "outputs": [
    {
     "name": "stdout",
     "output_type": "stream",
     "text": [
      "221/221 - 1s - loss: 1.3274 - accuracy: 0.4918\n",
      "Accuracy : 49.17939901351929 %\n",
      "Loss : 1.327384114265442\n"
     ]
    }
   ],
   "source": [
    "score = model.evaluate(x_test, y_test, verbose=2)\n",
    "acc_str = \"Accuracy : {} %\".format(str(score[1] * 100))\n",
    "acc_loss = \"Loss : {}\".format(str(score[0]))\n",
    "print(acc_str)\n",
    "print(acc_loss)"
   ]
  },
  {
   "cell_type": "code",
   "execution_count": 35,
   "id": "af2f35b7",
   "metadata": {},
   "outputs": [],
   "source": [
    "# Save notepad data\n",
    "with open('history/model_summary21.txt','w') as h:\n",
    "    model.summary(print_fn=lambda x: h.write(x + '\\n'))\n",
    "    h.write(acc_str + '\\n' + acc_loss)"
   ]
  },
  {
   "cell_type": "code",
   "execution_count": 36,
   "id": "38276f04",
   "metadata": {},
   "outputs": [],
   "source": [
    "model.save('history/model21.h5')"
   ]
  },
  {
   "cell_type": "code",
   "execution_count": 21,
   "id": "0012f0ac",
   "metadata": {},
   "outputs": [],
   "source": [
    "#mod = tf.keras.models.load_model('history/model13.h5')"
   ]
  },
  {
   "cell_type": "code",
   "execution_count": null,
   "id": "bc4cc0f0",
   "metadata": {},
   "outputs": [],
   "source": []
  },
  {
   "cell_type": "code",
   "execution_count": null,
   "id": "e4446233",
   "metadata": {},
   "outputs": [],
   "source": []
  }
 ],
 "metadata": {
  "kernelspec": {
   "display_name": "Python 3 (ipykernel)",
   "language": "python",
   "name": "python3"
  },
  "language_info": {
   "codemirror_mode": {
    "name": "ipython",
    "version": 3
   },
   "file_extension": ".py",
   "mimetype": "text/x-python",
   "name": "python",
   "nbconvert_exporter": "python",
   "pygments_lexer": "ipython3",
   "version": "3.8.8"
  }
 },
 "nbformat": 4,
 "nbformat_minor": 5
}
