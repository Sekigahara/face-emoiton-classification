{
 "cells": [
  {
   "cell_type": "code",
   "execution_count": 20,
   "id": "a9259c27",
   "metadata": {},
   "outputs": [],
   "source": [
    "import numpy as np\n",
    "import matplotlib.pyplot as plt\n",
    "import glob"
   ]
  },
  {
   "cell_type": "code",
   "execution_count": 21,
   "id": "1aba8a32",
   "metadata": {},
   "outputs": [],
   "source": [
    "# Load Data\n",
    "train_load = np.load(\"utils\\\\train.npz\")\n",
    "test_load = np.load(\"utils\\\\test.npz\")\n",
    "\n",
    "x_train = train_load['x']\n",
    "y_train = train_load['y']\n",
    "\n",
    "x_test = test_load['x']\n",
    "y_test = test_load['y']"
   ]
  },
  {
   "cell_type": "code",
   "execution_count": 28,
   "id": "4a91230e",
   "metadata": {},
   "outputs": [
    {
     "name": "stdout",
     "output_type": "stream",
     "text": [
      "Suprise\n"
     ]
    },
    {
     "data": {
      "image/png": "[encoded data removed]",
      "text/plain": [
       "<Figure size 432x288 with 1 Axes>"
      ]
     },
     "metadata": {
      "needs_background": "light"
     },
     "output_type": "display_data"
    }
   ],
   "source": [
    "# Lets test the syncronization of label and image\n",
    "dir_path = glob.glob(\"dataset\" + \"\\*\")\n",
    "\n",
    "string_label = []\n",
    "for string in dir_path:\n",
    "    string_label.append(string.split(\"\\\\\")[1])\n",
    "    \n",
    "plt.imshow(x_train[45200])\n",
    "print(string_label[y_train[45200]])"
   ]
  },
  {
   "cell_type": "code",
   "execution_count": 30,
   "id": "66230bd9",
   "metadata": {},
   "outputs": [],
   "source": [
    "from tensorflow.keras.utils import to_categorical\n",
    "\n",
    "y_train = to_categorical(y_train, num_classes=6, dtype='int16')\n",
    "y_test = to_categorical(y_test, num_classes=6, dtype='int16')"
   ]
  },
  {
   "cell_type": "code",
   "execution_count": 31,
   "id": "f81a9251",
   "metadata": {},
   "outputs": [],
   "source": [
    "import tensorflow as tf\n",
    "\n",
    "def create_model():\n",
    "    return tf.keras.Sequential([\n",
    "        tf.keras.layers.Input(shape=(48, 48, 3)),\n",
    "        tf.keras.layers.Conv2D(16, (3, 3), strides=(1, 1), activation='relu', kernel_initializer=\"he_uniform\", bias_regularizer=tf.keras.regularizers.L2(0.01)),\n",
    "        tf.keras.layers.Conv2D(16, (2, 2), activation='relu', kernel_initializer=\"he_uniform\", bias_regularizer=tf.keras.regularizers.L2(0.01)),\n",
    "        \n",
    "        tf.keras.layers.MaxPool2D(pool_size=(2, 2)),\n",
    "        tf.keras.layers.BatchNormalization(),\n",
    "        \n",
    "        tf.keras.layers.Conv2D(16, (2, 2), activation='relu', kernel_initializer=\"he_uniform\", bias_reguralizer=tf.keras.regularizers.L2(0.01)),\n",
    "        tf.keras.layers.Dropout(0.1),\n",
    "        tf.keras.layers.Conv2D(16, (3, 3), strides=(2, 2), activation='relu', kernel_initializer=\"he_uniform\", bias_reguralizer=tf.keras.regularizers.L2(0.01)),\n",
    "        tf.keras.layers.Dropout(0.1),\n",
    "        tf.keras.layers.BatchNormalization(),\n",
    "        \n",
    "        tf.keras.layers.Dense(8, activation=\"relu\"),\n",
    "        \n",
    "        tf.keras.layers.Flatten(),\n",
    "        tf.keras.layers.Dense(6, activation=\"softmax\")\n",
    "    ])"
   ]
  },
  {
   "cell_type": "code",
   "execution_count": 33,
   "id": "84249348",
   "metadata": {},
   "outputs": [
    {
     "name": "stdout",
     "output_type": "stream",
     "text": [
      "Model: \"sequential_1\"\n",
      "_________________________________________________________________\n",
      "Layer (type)                 Output Shape              Param #   \n",
      "=================================================================\n",
      "conv2d_2 (Conv2D)            (None, 46, 46, 16)        448       \n",
      "_________________________________________________________________\n",
      "conv2d_3 (Conv2D)            (None, 45, 45, 32)        2080      \n",
      "_________________________________________________________________\n",
      "max_pooling2d_1 (MaxPooling2 (None, 22, 22, 32)        0         \n",
      "_________________________________________________________________\n",
      "batch_normalization_1 (Batch (None, 22, 22, 32)        128       \n",
      "_________________________________________________________________\n",
      "dense_2 (Dense)              (None, 22, 22, 16)        528       \n",
      "_________________________________________________________________\n",
      "flatten_1 (Flatten)          (None, 7744)              0         \n",
      "_________________________________________________________________\n",
      "dense_3 (Dense)              (None, 6)                 46470     \n",
      "=================================================================\n",
      "Total params: 49,654\n",
      "Trainable params: 49,590\n",
      "Non-trainable params: 64\n",
      "_________________________________________________________________\n"
     ]
    }
   ],
   "source": [
    "model = create_model()\n",
    "\n",
    "opt = tf.keras.optimizers.RMSprop(learning_rate=0.0003, momentum=0.8)\n",
    "model.compile(\n",
    "    loss='categorical_crossentropy',\n",
    "    optimizer=opt,\n",
    "    metrics=['accuracy']\n",
    ")\n",
    "\n",
    "model.summary()"
   ]
  },
  {
   "cell_type": "code",
   "execution_count": 34,
   "id": "65a43795",
   "metadata": {},
   "outputs": [
    {
     "name": "stdout",
     "output_type": "stream",
     "text": [
      "Epoch 1/50\n",
      "8/8 [==============================] - 33s 4s/step - loss: 2.7101 - accuracy: 0.2110 - val_loss: 6.4151 - val_accuracy: 0.1942\n",
      "Epoch 2/50\n",
      "8/8 [==============================] - 32s 4s/step - loss: 1.8182 - accuracy: 0.2930 - val_loss: 2.9951 - val_accuracy: 0.2733\n",
      "Epoch 3/50\n",
      "8/8 [==============================] - 34s 4s/step - loss: 1.6202 - accuracy: 0.3641 - val_loss: 2.9526 - val_accuracy: 0.2271\n",
      "Epoch 4/50\n",
      "8/8 [==============================] - 34s 4s/step - loss: 1.5345 - accuracy: 0.4020 - val_loss: 2.2796 - val_accuracy: 0.3035\n",
      "Epoch 5/50\n",
      "8/8 [==============================] - 34s 4s/step - loss: 1.4619 - accuracy: 0.4336 - val_loss: 2.1143 - val_accuracy: 0.3164\n",
      "Epoch 6/50\n",
      "8/8 [==============================] - 33s 4s/step - loss: 1.4269 - accuracy: 0.4456 - val_loss: 1.8277 - val_accuracy: 0.3544\n",
      "Epoch 7/50\n",
      "8/8 [==============================] - 33s 4s/step - loss: 1.3794 - accuracy: 0.4673 - val_loss: 1.6292 - val_accuracy: 0.4119\n",
      "Epoch 8/50\n",
      "8/8 [==============================] - 33s 4s/step - loss: 1.3344 - accuracy: 0.4881 - val_loss: 1.7606 - val_accuracy: 0.3882\n",
      "Epoch 9/50\n",
      "8/8 [==============================] - 33s 4s/step - loss: 1.3153 - accuracy: 0.4934 - val_loss: 1.5386 - val_accuracy: 0.4389\n",
      "Epoch 10/50\n",
      "8/8 [==============================] - 33s 4s/step - loss: 1.2888 - accuracy: 0.5063 - val_loss: 1.6175 - val_accuracy: 0.4147\n",
      "Epoch 11/50\n",
      "8/8 [==============================] - 33s 4s/step - loss: 1.2538 - accuracy: 0.5206 - val_loss: 1.6073 - val_accuracy: 0.4202\n",
      "Epoch 12/50\n",
      "8/8 [==============================] - 33s 4s/step - loss: 1.2317 - accuracy: 0.5284 - val_loss: 1.6604 - val_accuracy: 0.4134\n",
      "Epoch 13/50\n",
      "8/8 [==============================] - 33s 4s/step - loss: 1.2255 - accuracy: 0.5327 - val_loss: 1.7161 - val_accuracy: 0.4024\n",
      "Epoch 14/50\n",
      "8/8 [==============================] - 33s 4s/step - loss: 1.1970 - accuracy: 0.5449 - val_loss: 1.7048 - val_accuracy: 0.4238\n",
      "Epoch 15/50\n",
      "8/8 [==============================] - 33s 4s/step - loss: 1.1756 - accuracy: 0.5551 - val_loss: 1.6656 - val_accuracy: 0.4128\n",
      "Epoch 16/50\n",
      "8/8 [==============================] - 33s 4s/step - loss: 1.1650 - accuracy: 0.5560 - val_loss: 1.6633 - val_accuracy: 0.4126\n",
      "Epoch 17/50\n",
      "8/8 [==============================] - 34s 4s/step - loss: 1.1613 - accuracy: 0.5588 - val_loss: 1.4815 - val_accuracy: 0.4544\n",
      "Epoch 18/50\n",
      "8/8 [==============================] - 33s 4s/step - loss: 1.1371 - accuracy: 0.5701 - val_loss: 1.6075 - val_accuracy: 0.4128\n",
      "Epoch 19/50\n",
      "8/8 [==============================] - 33s 4s/step - loss: 1.1268 - accuracy: 0.5727 - val_loss: 1.5161 - val_accuracy: 0.4542\n",
      "Epoch 20/50\n",
      "8/8 [==============================] - 33s 4s/step - loss: 1.1182 - accuracy: 0.5761 - val_loss: 1.7396 - val_accuracy: 0.3862\n",
      "Epoch 21/50\n",
      "8/8 [==============================] - 34s 4s/step - loss: 1.1036 - accuracy: 0.5844 - val_loss: 1.5239 - val_accuracy: 0.4537\n",
      "Epoch 22/50\n",
      "8/8 [==============================] - 36s 4s/step - loss: 1.0957 - accuracy: 0.5855 - val_loss: 1.7850 - val_accuracy: 0.3971\n",
      "Epoch 23/50\n",
      "8/8 [==============================] - 35s 4s/step - loss: 1.0814 - accuracy: 0.5914 - val_loss: 1.5610 - val_accuracy: 0.4425\n",
      "Epoch 24/50\n",
      "8/8 [==============================] - 36s 4s/step - loss: 1.0674 - accuracy: 0.5984 - val_loss: 1.5332 - val_accuracy: 0.4457\n",
      "Epoch 25/50\n",
      "8/8 [==============================] - 35s 4s/step - loss: 1.0717 - accuracy: 0.5966 - val_loss: 1.5706 - val_accuracy: 0.4374\n",
      "Epoch 26/50\n",
      "8/8 [==============================] - 37s 5s/step - loss: 1.0598 - accuracy: 0.6023 - val_loss: 1.8884 - val_accuracy: 0.4015\n",
      "Epoch 27/50\n",
      "8/8 [==============================] - 37s 5s/step - loss: 1.0644 - accuracy: 0.6005 - val_loss: 1.6122 - val_accuracy: 0.4499\n",
      "Epoch 28/50\n",
      "8/8 [==============================] - 36s 4s/step - loss: 1.0384 - accuracy: 0.6101 - val_loss: 1.6020 - val_accuracy: 0.4484\n",
      "Epoch 29/50\n",
      "8/8 [==============================] - 35s 4s/step - loss: 1.0267 - accuracy: 0.6166 - val_loss: 1.6467 - val_accuracy: 0.4327\n",
      "Epoch 30/50\n",
      "8/8 [==============================] - 34s 4s/step - loss: 1.0087 - accuracy: 0.6245 - val_loss: 1.6123 - val_accuracy: 0.4535\n",
      "Epoch 31/50\n",
      "8/8 [==============================] - 34s 4s/step - loss: 1.0276 - accuracy: 0.6135 - val_loss: 1.7040 - val_accuracy: 0.4357\n",
      "Epoch 32/50\n",
      "8/8 [==============================] - 36s 5s/step - loss: 0.9984 - accuracy: 0.6268 - val_loss: 1.6436 - val_accuracy: 0.4438\n",
      "Epoch 33/50\n",
      "8/8 [==============================] - 36s 5s/step - loss: 1.0205 - accuracy: 0.6150 - val_loss: 1.5517 - val_accuracy: 0.4573\n",
      "Epoch 34/50\n",
      "8/8 [==============================] - 37s 5s/step - loss: 0.9756 - accuracy: 0.6391 - val_loss: 1.6352 - val_accuracy: 0.4508\n",
      "Epoch 35/50\n",
      "8/8 [==============================] - 37s 5s/step - loss: 0.9872 - accuracy: 0.6304 - val_loss: 1.7397 - val_accuracy: 0.4461\n",
      "Epoch 36/50\n",
      "8/8 [==============================] - 37s 5s/step - loss: 0.9927 - accuracy: 0.6272 - val_loss: 1.6484 - val_accuracy: 0.4482\n",
      "Epoch 37/50\n",
      "8/8 [==============================] - 37s 5s/step - loss: 0.9608 - accuracy: 0.6424 - val_loss: 1.6240 - val_accuracy: 0.4542\n",
      "Epoch 38/50\n",
      "8/8 [==============================] - 37s 5s/step - loss: 0.9530 - accuracy: 0.6485 - val_loss: 1.7025 - val_accuracy: 0.4408\n",
      "Epoch 39/50\n",
      "8/8 [==============================] - 37s 5s/step - loss: 0.9827 - accuracy: 0.6319 - val_loss: 1.8393 - val_accuracy: 0.4253\n",
      "Epoch 40/50\n",
      "8/8 [==============================] - 37s 5s/step - loss: 0.9604 - accuracy: 0.6404 - val_loss: 1.6145 - val_accuracy: 0.4603\n",
      "Epoch 41/50\n",
      "8/8 [==============================] - 37s 5s/step - loss: 0.9398 - accuracy: 0.6520 - val_loss: 1.6853 - val_accuracy: 0.4612\n",
      "Epoch 42/50\n",
      "8/8 [==============================] - 37s 5s/step - loss: 0.9332 - accuracy: 0.6553 - val_loss: 1.6348 - val_accuracy: 0.4542\n",
      "Epoch 43/50\n",
      "8/8 [==============================] - 37s 5s/step - loss: 0.9413 - accuracy: 0.6481 - val_loss: 1.7709 - val_accuracy: 0.4298\n",
      "Epoch 44/50\n",
      "8/8 [==============================] - 37s 5s/step - loss: 0.9417 - accuracy: 0.6477 - val_loss: 2.0046 - val_accuracy: 0.4053\n",
      "Epoch 45/50\n",
      "8/8 [==============================] - 37s 5s/step - loss: 0.9421 - accuracy: 0.6466 - val_loss: 1.6547 - val_accuracy: 0.4614\n",
      "Epoch 46/50\n",
      "8/8 [==============================] - 37s 5s/step - loss: 0.9129 - accuracy: 0.6621 - val_loss: 1.6640 - val_accuracy: 0.4499\n",
      "Epoch 47/50\n",
      "8/8 [==============================] - 37s 5s/step - loss: 0.9355 - accuracy: 0.6500 - val_loss: 1.6714 - val_accuracy: 0.4472\n",
      "Epoch 48/50\n",
      "8/8 [==============================] - 37s 5s/step - loss: 0.9069 - accuracy: 0.6647 - val_loss: 1.7396 - val_accuracy: 0.4514\n",
      "Epoch 49/50\n",
      "8/8 [==============================] - 37s 5s/step - loss: 0.9053 - accuracy: 0.6627 - val_loss: 1.7361 - val_accuracy: 0.4533\n",
      "Epoch 50/50\n",
      "8/8 [==============================] - 37s 5s/step - loss: 0.9168 - accuracy: 0.6584 - val_loss: 1.7466 - val_accuracy: 0.4448\n"
     ]
    }
   ],
   "source": [
    "history = model.fit(\n",
    "    x_train,\n",
    "    y_train,\n",
    "    steps_per_epoch=8,\n",
    "    validation_steps=8,\n",
    "    epochs=50,\n",
    "    validation_data=(x_test, y_test)\n",
    ")"
   ]
  },
  {
   "cell_type": "code",
   "execution_count": 35,
   "id": "f7114ce1",
   "metadata": {},
   "outputs": [
    {
     "data": {
      "image/png": "[encoded data removed]",
      "text/plain": [
       "<Figure size 432x288 with 1 Axes>"
      ]
     },
     "metadata": {
      "needs_background": "light"
     },
     "output_type": "display_data"
    }
   ],
   "source": [
    "plt.plot(history.history['accuracy'])\n",
    "plt.plot(history.history['val_accuracy'])\n",
    "plt.title('model accuracy')\n",
    "plt.xlabel('epoch')\n",
    "plt.ylabel('accuracy')\n",
    "plt.legend(['train', 'validation'], loc='upper left')\n",
    "plt.show()"
   ]
  },
  {
   "cell_type": "code",
   "execution_count": 36,
   "id": "44d5af9b",
   "metadata": {},
   "outputs": [
    {
     "data": {
      "image/png": "[encoded data removed]",
      "text/plain": [
       "<Figure size 432x288 with 1 Axes>"
      ]
     },
     "metadata": {
      "needs_background": "light"
     },
     "output_type": "display_data"
    }
   ],
   "source": [
    "plt.plot(history.history['loss'])\n",
    "plt.plot(history.history['val_loss'])\n",
    "plt.title('model loss')\n",
    "plt.xlabel('epoch')\n",
    "plt.ylabel('loss')\n",
    "plt.legend(['train', 'validation'], loc='upper left')\n",
    "plt.show()"
   ]
  },
  {
   "cell_type": "code",
   "execution_count": 37,
   "id": "8d194192",
   "metadata": {},
   "outputs": [
    {
     "name": "stdout",
     "output_type": "stream",
     "text": [
      "148/148 - 1s - loss: 1.7466 - accuracy: 0.4448\n",
      "Akurasi : 44.48217451572418 %\n"
     ]
    }
   ],
   "source": [
    "score = model.evaluate(x_test, y_test, verbose=2)\n",
    "print(\"Akurasi : {} %\".format(str(score[1] * 100)))"
   ]
  },
  {
   "cell_type": "code",
   "execution_count": null,
   "id": "af2f35b7",
   "metadata": {},
   "outputs": [],
   "source": []
  }
 ],
 "metadata": {
  "kernelspec": {
   "display_name": "Python 3 (ipykernel)",
   "language": "python",
   "name": "python3"
  },
  "language_info": {
   "codemirror_mode": {
    "name": "ipython",
    "version": 3
   },
   "file_extension": ".py",
   "mimetype": "text/x-python",
   "name": "python",
   "nbconvert_exporter": "python",
   "pygments_lexer": "ipython3",
   "version": "3.8.8"
  }
 },
 "nbformat": 4,
 "nbformat_minor": 5
}
