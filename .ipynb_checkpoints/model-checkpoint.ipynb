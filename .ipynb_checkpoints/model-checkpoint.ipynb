{
 "cells": [
  {
   "cell_type": "code",
   "execution_count": 1,
   "id": "3567eb50",
   "metadata": {},
   "outputs": [],
   "source": [
    "import numpy as np\n",
    "import matplotlib.pyplot as plt\n",
    "import glob"
   ]
  },
  {
   "cell_type": "code",
   "execution_count": 2,
   "id": "4d17041d",
   "metadata": {},
   "outputs": [],
   "source": [
    "# load Model and Test\n",
    "loaded = np.load(\"utils\\\\dataset.npz\")\n",
    "x = loaded['x']\n",
    "y = loaded['y']"
   ]
  },
  {
   "cell_type": "code",
   "execution_count": 3,
   "id": "f3686fc3",
   "metadata": {},
   "outputs": [],
   "source": [
    "dataset_path = \"E:\\Project\\Data Science\\Face Recognition\\dataset\"\n",
    "dir_path = glob.glob(dataset_path + \"\\*\")"
   ]
  },
  {
   "cell_type": "code",
   "execution_count": 4,
   "id": "6c83e4b3",
   "metadata": {},
   "outputs": [
    {
     "name": "stdout",
     "output_type": "stream",
     "text": [
      "Suprise\n"
     ]
    },
    {
     "data": {
      "image/png": "[encoded data removed]",
      "text/plain": [
       "<Figure size 432x288 with 1 Axes>"
      ]
     },
     "metadata": {
      "needs_background": "light"
     },
     "output_type": "display_data"
    }
   ],
   "source": [
    "# Extraction Label\n",
    "string_label = []\n",
    "string_number = []\n",
    "for string in dir_path:\n",
    "    string_label.append(string.split(\"\\\\\")[5])\n",
    "\n",
    "plt.imshow(x[27000])\n",
    "print(string_label[y[27000]])"
   ]
  },
  {
   "cell_type": "code",
   "execution_count": null,
   "id": "9e1d03f3",
   "metadata": {},
   "outputs": [],
   "source": []
  },
  {
   "cell_type": "code",
   "execution_count": 42,
   "id": "2c829c24",
   "metadata": {},
   "outputs": [],
   "source": [
    "# Lets do the cross validation\n",
    "from sklearn.model_selection import StratifiedKFold as skf\n",
    "\n",
    "skf_model = skf(n_splits=6, random_state=21, shuffle=True)\n",
    "for train_idx, test_idx in skf_model.split(x, y):\n",
    "    x_train, x_test = x[train_idx], x[test_idx]\n",
    "    y_train, y_test = y[train_idx], y[test_idx]"
   ]
  },
  {
   "cell_type": "code",
   "execution_count": 43,
   "id": "e2300a12",
   "metadata": {},
   "outputs": [
    {
     "name": "stdout",
     "output_type": "stream",
     "text": [
      "(28273,)\n",
      "(23561,)\n",
      "(4712,)\n"
     ]
    }
   ],
   "source": [
    "print(y.shape)\n",
    "print(y_train.shape)\n",
    "print(y_test.shape)"
   ]
  },
  {
   "cell_type": "code",
   "execution_count": 44,
   "id": "a00fdd66",
   "metadata": {},
   "outputs": [],
   "source": [
    "from tensorflow.keras.utils import to_categorical\n",
    "\n",
    "y_train = to_categorical(y_train, num_classes=6, dtype='int16')\n",
    "y_test = to_categorical(y_test, num_classes=6, dtype='int16')"
   ]
  },
  {
   "cell_type": "code",
   "execution_count": 59,
   "id": "4a9e9201",
   "metadata": {},
   "outputs": [],
   "source": [
    "import tensorflow as tf\n",
    "\n",
    "def create_model():\n",
    "    return tf.keras.Sequential([\n",
    "        tf.keras.layers.Input(shape=(48, 48, 3)),\n",
    "        tf.keras.layers.Conv2D(16, (3, 3), strides=(1, 1), activation='relu', kernel_initializer=\"he_uniform\", bias_reguralizer=tf.keras.regularizers.L2(0.01)),\n",
    "        tf.keras.layers.Conv2D(32, (2, 2), activation='relu', kernel_initializer=\"he_uniform\", bias_reguralizer=tf.keras.regularizers.L2(0.01)),\n",
    "        \n",
    "        tf.keras.layers.MaxPool2D(pool_size=(2, 2)),\n",
    "        tf.keras.layers.BatchNormalization(),\n",
    "        \n",
    "        #tf.keras.layers.Conv2D(16, (2, 2), activation='relu', kernel_initializer=\"he_uniform\", bias_reguralizer=tf.keras.regularizers.L2(0.01)),\n",
    "        #tf.keras.layers.Conv2D(16, (3, 3), strides=(2, 2), activation='relu', kernel_initializer=\"he_uniform\", bias_reguralizer=tf.keras.regularizers.L2(0.01)),\n",
    "        \n",
    "        tf.keras.layers.Dense(16, activation=\"relu\"),\n",
    "        \n",
    "        tf.keras.layers.Flatten(),\n",
    "        tf.keras.layers.Dense(6, activation=\"softmax\")\n",
    "    ])"
   ]
  },
  {
   "cell_type": "code",
   "execution_count": 61,
   "id": "8e66c44f",
   "metadata": {},
   "outputs": [
    {
     "name": "stdout",
     "output_type": "stream",
     "text": [
      "Model: \"sequential_15\"\n",
      "_________________________________________________________________\n",
      "Layer (type)                 Output Shape              Param #   \n",
      "=================================================================\n",
      "conv2d_51 (Conv2D)           (None, 46, 46, 16)        448       \n",
      "_________________________________________________________________\n",
      "conv2d_52 (Conv2D)           (None, 45, 45, 16)        1040      \n",
      "_________________________________________________________________\n",
      "batch_normalization_14 (Batc (None, 45, 45, 16)        64        \n",
      "_________________________________________________________________\n",
      "max_pooling2d_10 (MaxPooling (None, 22, 22, 16)        0         \n",
      "_________________________________________________________________\n",
      "conv2d_53 (Conv2D)           (None, 21, 21, 16)        1040      \n",
      "_________________________________________________________________\n",
      "conv2d_54 (Conv2D)           (None, 10, 10, 16)        2320      \n",
      "_________________________________________________________________\n",
      "dense_30 (Dense)             (None, 10, 10, 16)        272       \n",
      "_________________________________________________________________\n",
      "flatten_12 (Flatten)         (None, 1600)              0         \n",
      "_________________________________________________________________\n",
      "dense_31 (Dense)             (None, 6)                 9606      \n",
      "=================================================================\n",
      "Total params: 14,790\n",
      "Trainable params: 14,758\n",
      "Non-trainable params: 32\n",
      "_________________________________________________________________\n"
     ]
    }
   ],
   "source": [
    "model = create_model()\n",
    "\n",
    "opt = tf.keras.optomizers.RMSprop(learning_rate=0.0005, momentum=0.8)\n",
    "model.compile(\n",
    "    loss='categorical_crossentropy',\n",
    "    optimizer=opt,\n",
    "    metrics=['accuracy']\n",
    ")\n",
    "\n",
    "model.summary()"
   ]
  },
  {
   "cell_type": "code",
   "execution_count": 62,
   "id": "5fcd1377",
   "metadata": {},
   "outputs": [
    {
     "name": "stdout",
     "output_type": "stream",
     "text": [
      "Epoch 1/50\n",
      "8/8 [==============================] - 17s 2s/step - loss: 1.7813 - accuracy: 0.2372 - val_loss: 2.7352 - val_accuracy: 0.2511\n",
      "Epoch 2/50\n",
      "8/8 [==============================] - 16s 2s/step - loss: 1.7150 - accuracy: 0.2748 - val_loss: 2.3732 - val_accuracy: 0.2523\n",
      "Epoch 3/50\n",
      "8/8 [==============================] - 18s 2s/step - loss: 1.6811 - accuracy: 0.3011 - val_loss: 2.0410 - val_accuracy: 0.2736\n",
      "Epoch 4/50\n",
      "8/8 [==============================] - 17s 2s/step - loss: 1.6555 - accuracy: 0.3179 - val_loss: 1.9748 - val_accuracy: 0.2672\n",
      "Epoch 5/50\n",
      "8/8 [==============================] - 18s 2s/step - loss: 1.6232 - accuracy: 0.3422 - val_loss: 1.7550 - val_accuracy: 0.3033\n",
      "Epoch 6/50\n",
      "8/8 [==============================] - 17s 2s/step - loss: 1.5913 - accuracy: 0.3592 - val_loss: 1.9505 - val_accuracy: 0.2492\n",
      "Epoch 7/50\n",
      "8/8 [==============================] - 17s 2s/step - loss: 1.5594 - accuracy: 0.3797 - val_loss: 1.8254 - val_accuracy: 0.2714\n",
      "Epoch 8/50\n",
      "8/8 [==============================] - 17s 2s/step - loss: 1.5302 - accuracy: 0.3932 - val_loss: 1.6492 - val_accuracy: 0.3436\n",
      "Epoch 9/50\n",
      "8/8 [==============================] - 17s 2s/step - loss: 1.5125 - accuracy: 0.4054 - val_loss: 1.6035 - val_accuracy: 0.3725\n",
      "Epoch 10/50\n",
      "8/8 [==============================] - 18s 2s/step - loss: 1.4948 - accuracy: 0.4114 - val_loss: 1.5798 - val_accuracy: 0.3809\n",
      "Epoch 11/50\n",
      "8/8 [==============================] - 17s 2s/step - loss: 1.4770 - accuracy: 0.4201 - val_loss: 1.5985 - val_accuracy: 0.3812\n",
      "Epoch 12/50\n",
      "8/8 [==============================] - 18s 2s/step - loss: 1.4599 - accuracy: 0.4296 - val_loss: 1.5627 - val_accuracy: 0.3958\n",
      "Epoch 13/50\n",
      "8/8 [==============================] - 17s 2s/step - loss: 1.4521 - accuracy: 0.4334 - val_loss: 1.5631 - val_accuracy: 0.3890\n",
      "Epoch 14/50\n",
      "8/8 [==============================] - 17s 2s/step - loss: 1.4411 - accuracy: 0.4369 - val_loss: 1.5478 - val_accuracy: 0.3988\n",
      "Epoch 15/50\n",
      "8/8 [==============================] - 18s 2s/step - loss: 1.4295 - accuracy: 0.4394 - val_loss: 1.5314 - val_accuracy: 0.4030\n",
      "Epoch 16/50\n",
      "8/8 [==============================] - 18s 2s/step - loss: 1.4276 - accuracy: 0.4455 - val_loss: 1.5111 - val_accuracy: 0.4170\n",
      "Epoch 17/50\n",
      "8/8 [==============================] - 18s 2s/step - loss: 1.4110 - accuracy: 0.4530 - val_loss: 1.5378 - val_accuracy: 0.4032\n",
      "Epoch 18/50\n",
      "8/8 [==============================] - 18s 2s/step - loss: 1.3855 - accuracy: 0.4637 - val_loss: 1.4974 - val_accuracy: 0.4272\n",
      "Epoch 19/50\n",
      "8/8 [==============================] - 17s 2s/step - loss: 1.4022 - accuracy: 0.4586 - val_loss: 1.5109 - val_accuracy: 0.4121\n",
      "Epoch 20/50\n",
      "8/8 [==============================] - 17s 2s/step - loss: 1.3802 - accuracy: 0.4606 - val_loss: 1.4894 - val_accuracy: 0.4238\n",
      "Epoch 21/50\n",
      "8/8 [==============================] - 18s 2s/step - loss: 1.3856 - accuracy: 0.4634 - val_loss: 1.4992 - val_accuracy: 0.4242\n",
      "Epoch 22/50\n",
      "8/8 [==============================] - 18s 2s/step - loss: 1.3630 - accuracy: 0.4745 - val_loss: 1.4692 - val_accuracy: 0.4357\n",
      "Epoch 23/50\n",
      "8/8 [==============================] - 18s 2s/step - loss: 1.3710 - accuracy: 0.4700 - val_loss: 1.4881 - val_accuracy: 0.4196\n",
      "Epoch 24/50\n",
      "8/8 [==============================] - 17s 2s/step - loss: 1.3570 - accuracy: 0.4772 - val_loss: 1.5013 - val_accuracy: 0.4240\n",
      "Epoch 25/50\n",
      "8/8 [==============================] - 18s 2s/step - loss: 1.3494 - accuracy: 0.4790 - val_loss: 1.4640 - val_accuracy: 0.4319\n",
      "Epoch 26/50\n",
      "8/8 [==============================] - 18s 2s/step - loss: 1.3514 - accuracy: 0.4754 - val_loss: 1.4632 - val_accuracy: 0.4336\n",
      "Epoch 27/50\n",
      "8/8 [==============================] - 18s 2s/step - loss: 1.3392 - accuracy: 0.4819 - val_loss: 1.4664 - val_accuracy: 0.4338\n",
      "Epoch 28/50\n",
      "8/8 [==============================] - 18s 2s/step - loss: 1.3415 - accuracy: 0.4808 - val_loss: 1.4729 - val_accuracy: 0.4346\n",
      "Epoch 29/50\n",
      "8/8 [==============================] - 17s 2s/step - loss: 1.3252 - accuracy: 0.4893 - val_loss: 1.4373 - val_accuracy: 0.4493\n",
      "Epoch 30/50\n",
      "8/8 [==============================] - 18s 2s/step - loss: 1.3331 - accuracy: 0.4817 - val_loss: 1.4530 - val_accuracy: 0.4435\n",
      "Epoch 31/50\n",
      "8/8 [==============================] - 21s 3s/step - loss: 1.3243 - accuracy: 0.4919 - val_loss: 1.4301 - val_accuracy: 0.4510\n",
      "Epoch 32/50\n",
      "8/8 [==============================] - 20s 3s/step - loss: 1.3165 - accuracy: 0.4923 - val_loss: 1.4495 - val_accuracy: 0.4370\n",
      "Epoch 33/50\n",
      "8/8 [==============================] - 19s 2s/step - loss: 1.2997 - accuracy: 0.5017 - val_loss: 1.4211 - val_accuracy: 0.4482\n",
      "Epoch 34/50\n",
      "8/8 [==============================] - 25s 3s/step - loss: 1.3173 - accuracy: 0.4939 - val_loss: 1.4626 - val_accuracy: 0.4416\n",
      "Epoch 35/50\n",
      "8/8 [==============================] - 23s 3s/step - loss: 1.2847 - accuracy: 0.5090 - val_loss: 1.4422 - val_accuracy: 0.4514\n",
      "Epoch 36/50\n",
      "8/8 [==============================] - 22s 3s/step - loss: 1.3015 - accuracy: 0.4993 - val_loss: 1.4583 - val_accuracy: 0.4363\n",
      "Epoch 37/50\n",
      "8/8 [==============================] - 26s 3s/step - loss: 1.2970 - accuracy: 0.5009 - val_loss: 1.4579 - val_accuracy: 0.4410\n",
      "Epoch 38/50\n",
      "8/8 [==============================] - 20s 2s/step - loss: 1.2800 - accuracy: 0.5111 - val_loss: 1.4260 - val_accuracy: 0.4531\n",
      "Epoch 39/50\n",
      "8/8 [==============================] - 20s 3s/step - loss: 1.2849 - accuracy: 0.5055 - val_loss: 1.4230 - val_accuracy: 0.4423\n",
      "Epoch 40/50\n",
      "8/8 [==============================] - 21s 3s/step - loss: 1.2681 - accuracy: 0.5135 - val_loss: 1.4766 - val_accuracy: 0.4323\n",
      "Epoch 41/50\n",
      "8/8 [==============================] - 20s 2s/step - loss: 1.2826 - accuracy: 0.5086 - val_loss: 1.4392 - val_accuracy: 0.4457\n",
      "Epoch 42/50\n",
      "8/8 [==============================] - 23s 3s/step - loss: 1.2732 - accuracy: 0.5131 - val_loss: 1.4218 - val_accuracy: 0.4486\n",
      "Epoch 43/50\n",
      "8/8 [==============================] - 21s 3s/step - loss: 1.2527 - accuracy: 0.5196 - val_loss: 1.4506 - val_accuracy: 0.4450\n",
      "Epoch 44/50\n",
      "8/8 [==============================] - 22s 3s/step - loss: 1.2642 - accuracy: 0.5148 - val_loss: 1.4428 - val_accuracy: 0.4480\n",
      "Epoch 45/50\n",
      "8/8 [==============================] - 23s 3s/step - loss: 1.2584 - accuracy: 0.5195 - val_loss: 1.4198 - val_accuracy: 0.4573\n",
      "Epoch 46/50\n",
      "8/8 [==============================] - 21s 3s/step - loss: 1.2603 - accuracy: 0.5205 - val_loss: 1.4086 - val_accuracy: 0.4503\n",
      "Epoch 47/50\n",
      "8/8 [==============================] - 23s 3s/step - loss: 1.2436 - accuracy: 0.5236 - val_loss: 1.4212 - val_accuracy: 0.4497\n",
      "Epoch 48/50\n",
      "8/8 [==============================] - 21s 3s/step - loss: 1.2496 - accuracy: 0.5244 - val_loss: 1.4745 - val_accuracy: 0.4365\n",
      "Epoch 49/50\n",
      "8/8 [==============================] - 21s 3s/step - loss: 1.2387 - accuracy: 0.5288 - val_loss: 1.4102 - val_accuracy: 0.4601\n",
      "Epoch 50/50\n",
      "8/8 [==============================] - 21s 3s/step - loss: 1.2316 - accuracy: 0.5330 - val_loss: 1.4497 - val_accuracy: 0.4327\n"
     ]
    }
   ],
   "source": [
    "history = model.fit(\n",
    "    x_train,\n",
    "    y_train,\n",
    "    steps_per_epoch=8,\n",
    "    validation_steps=8,\n",
    "    epochs=50,\n",
    "    validation_data=(x_test, y_test)\n",
    ")"
   ]
  },
  {
   "cell_type": "code",
   "execution_count": 39,
   "id": "303c3beb",
   "metadata": {},
   "outputs": [
    {
     "data": {
      "image/png": "[encoded data removed]",
      "text/plain": [
       "<Figure size 432x288 with 1 Axes>"
      ]
     },
     "metadata": {
      "needs_background": "light"
     },
     "output_type": "display_data"
    }
   ],
   "source": [
    "plt.plot(history.history['accuracy'])\n",
    "plt.plot(history.history['val_accuracy'])\n",
    "plt.title('model accuracy')\n",
    "plt.xlabel('epoch')\n",
    "plt.ylabel('accuracy')\n",
    "plt.legend(['train', 'validation'], loc='upper left')\n",
    "plt.show()"
   ]
  },
  {
   "cell_type": "code",
   "execution_count": 40,
   "id": "7f151c3a",
   "metadata": {},
   "outputs": [
    {
     "data": {
      "image/png": "[encoded data removed]",
      "text/plain": [
       "<Figure size 432x288 with 1 Axes>"
      ]
     },
     "metadata": {
      "needs_background": "light"
     },
     "output_type": "display_data"
    }
   ],
   "source": [
    "plt.plot(history.history['loss'])\n",
    "plt.plot(history.history['val_loss'])\n",
    "plt.title('model loss')\n",
    "plt.xlabel('epoch')\n",
    "plt.ylabel('loss')\n",
    "plt.legend(['train', 'validation'], loc='upper left')\n",
    "plt.show()"
   ]
  },
  {
   "cell_type": "code",
   "execution_count": 41,
   "id": "f088cf8e",
   "metadata": {},
   "outputs": [
    {
     "name": "stdout",
     "output_type": "stream",
     "text": [
      "221/221 - 1s - loss: 1.4721 - accuracy: 0.4635\n",
      "Akurasi : 46.349745988845825 %\n"
     ]
    }
   ],
   "source": [
    "score = model.evaluate(x_test, y_test, verbose=2)\n",
    "print(\"Akurasi : {} %\".format(str(score[1] * 100)))"
   ]
  },
  {
   "cell_type": "code",
   "execution_count": 77,
   "id": "ac018849",
   "metadata": {},
   "outputs": [],
   "source": [
    "from tensorflow.keras.models import model_from_json\n",
    "\n",
    "# Save Model\n",
    "model_json = model.to_json()\n",
    "with open(\"utils//model.json\", \"w\") as json_file:\n",
    "    json_file.write(model_json)\n",
    "    \n",
    "model.save_weights(\"utils//weight.h5\")"
   ]
  },
  {
   "cell_type": "code",
   "execution_count": null,
   "id": "fa5535a8",
   "metadata": {},
   "outputs": [],
   "source": []
  }
 ],
 "metadata": {
  "kernelspec": {
   "display_name": "Python 3 (ipykernel)",
   "language": "python",
   "name": "python3"
  },
  "language_info": {
   "codemirror_mode": {
    "name": "ipython",
    "version": 3
   },
   "file_extension": ".py",
   "mimetype": "text/x-python",
   "name": "python",
   "nbconvert_exporter": "python",
   "pygments_lexer": "ipython3",
   "version": "3.8.8"
  }
 },
 "nbformat": 4,
 "nbformat_minor": 5
}
