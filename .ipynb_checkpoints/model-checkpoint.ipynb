{
 "cells": [
  {
   "cell_type": "code",
   "execution_count": 1,
   "id": "a9259c27",
   "metadata": {},
   "outputs": [],
   "source": [
    "import numpy as np\n",
    "import matplotlib.pyplot as plt\n",
    "import glob\n",
    "import tensorflow as tf"
   ]
  },
  {
   "cell_type": "code",
   "execution_count": 2,
   "id": "1aba8a32",
   "metadata": {},
   "outputs": [],
   "source": [
    "# Load Data\n",
    "train_load = np.load(\"utils\\\\train.npz\")\n",
    "test_load = np.load(\"utils\\\\test.npz\")\n",
    "\n",
    "x_train = train_load['x']\n",
    "y_train = train_load['y']\n",
    "\n",
    "x_test = test_load['x']\n",
    "y_test = test_load['y']"
   ]
  },
  {
   "cell_type": "code",
   "execution_count": 3,
   "id": "4a91230e",
   "metadata": {},
   "outputs": [
    {
     "name": "stdout",
     "output_type": "stream",
     "text": [
      "Neutral\n"
     ]
    },
    {
     "data": {
      "image/png": "[encoded data removed]",
      "text/plain": [
       "<Figure size 432x288 with 1 Axes>"
      ]
     },
     "metadata": {
      "needs_background": "light"
     },
     "output_type": "display_data"
    }
   ],
   "source": [
    "# Lets test the syncronization of label and image\n",
    "dir_path = glob.glob(\"dataset\" + \"\\*\")\n",
    "\n",
    "string_label = []\n",
    "for string in dir_path:\n",
    "    string_label.append(string.split(\"\\\\\")[1])\n",
    "    \n",
    "plt.imshow(x_train[12000])\n",
    "print(string_label[y_train[12000]])"
   ]
  },
  {
   "cell_type": "code",
   "execution_count": 4,
   "id": "66230bd9",
   "metadata": {},
   "outputs": [
    {
     "data": {
      "text/plain": [
       "(7068, 6)"
      ]
     },
     "execution_count": 4,
     "metadata": {},
     "output_type": "execute_result"
    }
   ],
   "source": [
    "from tensorflow.keras.utils import to_categorical\n",
    "\n",
    "y_train = to_categorical(y_train, num_classes=6)\n",
    "y_test = to_categorical(y_test, num_classes=6)\n",
    "\n",
    "y_test.shape"
   ]
  },
  {
   "cell_type": "code",
   "execution_count": 5,
   "id": "0ccf7f9d",
   "metadata": {},
   "outputs": [],
   "source": [
    "# Convert Everything to tensor\n",
    "x_train = tf.convert_to_tensor(x_train)\n",
    "x_test  = tf.convert_to_tensor(x_test)\n",
    "\n",
    "y_train = tf.convert_to_tensor(y_train)\n",
    "y_test  = tf.convert_to_tensor(y_test)"
   ]
  },
  {
   "cell_type": "code",
   "execution_count": 163,
   "id": "f81a9251",
   "metadata": {},
   "outputs": [],
   "source": [
    "def create_model():\n",
    "    return tf.keras.Sequential([\n",
    "        tf.keras.layers.Input(shape=(48, 48, 3)),\n",
    "        tf.keras.layers.Conv2D(64, (3, 3), strides=(1, 1), activation='relu', kernel_initializer=\"he_uniform\"),\n",
    "        tf.keras.layers.Conv2D(64, (2, 2), activation='relu', kernel_initializer=\"he_uniform\"),\n",
    "        tf.keras.layers.MaxPool2D(pool_size=(2, 2)),\n",
    "        \n",
    "        #tf.keras.layers.Dropout(0.1),\n",
    "        #tf.keras.layers.BatchNormalization(),\n",
    "        \n",
    "        tf.keras.layers.Conv2D(64, (2, 2), activation='relu', kernel_initializer=\"he_uniform\"),\n",
    "        tf.keras.layers.Conv2D(64, (2, 2), activation='relu', kernel_initializer=\"he_uniform\"),\n",
    "        tf.keras.layers.MaxPool2D(pool_size=(2, 2)),\n",
    "        tf.keras.layers.BatchNormalization(),\n",
    "        \n",
    "        tf.keras.layers.Dropout(0.2),\n",
    "        \n",
    "        tf.keras.layers.Dense(64, activation=\"relu\"),\n",
    "        tf.keras.layers.Dense(64, activation=\"relu\"),\n",
    "        \n",
    "        tf.keras.layers.Flatten(),\n",
    "        tf.keras.layers.Dense(6, activation=\"softmax\")\n",
    "    ])\n",
    "\n",
    "def create_model_with_adam():\n",
    "    return tf.keras.Sequential([\n",
    "        tf.keras.layers.Input(shape=(48, 48, 3)),\n",
    "  \n",
    "        tf.keras.layers.Conv2D(16, (2, 2)),\n",
    "        tf.keras.layers.Activation(\"relu\"),\n",
    "        tf.keras.layers.Conv2D(16, (2, 2)),\n",
    "        tf.keras.layers.Activation(\"relu\"),\n",
    "        tf.keras.layers.MaxPool2D(pool_size=(2, 2)),\n",
    "        \n",
    "        tf.keras.layers.Conv2D(32, (2, 2)),\n",
    "        tf.keras.layers.Activation(\"relu\"),\n",
    "        tf.keras.layers.Conv2D(32, (2, 2)),\n",
    "        tf.keras.layers.Activation(\"relu\"),\n",
    "        tf.keras.layers.MaxPool2D(pool_size=(2, 2)),\n",
    "        \n",
    "        tf.keras.layers.Dropout(0.62),\n",
    "\n",
    "        tf.keras.layers.Flatten(),\n",
    "        tf.keras.layers.Dense(64, kernel_initializer='glorot_normal'),\n",
    "        tf.keras.layers.Activation(\"relu\"),\n",
    "        tf.keras.layers.Dense(64, kernel_initializer='glorot_normal'),\n",
    "        tf.keras.layers.Activation(\"relu\"),\n",
    "        tf.keras.layers.Dense(128, kernel_initializer='glorot_normal'),\n",
    "        tf.keras.layers.Activation(\"relu\"),\n",
    "        tf.keras.layers.Dense(256, kernel_initializer='glorot_normal'),\n",
    "        tf.keras.layers.Activation(\"relu\"),\n",
    "        tf.keras.layers.Dense(256, kernel_initializer='glorot_normal'),\n",
    "        tf.keras.layers.Activation(\"relu\"),\n",
    "        tf.keras.layers.Dense(256, kernel_initializer='glorot_normal', kernel_regularizer=tf.keras.regularizers.l2(0.0001)),\n",
    "        tf.keras.layers.Activation(\"relu\"),\n",
    "        tf.keras.layers.BatchNormalization(momentum=0.9),\n",
    "        tf.keras.layers.Dense(256, kernel_initializer='glorot_normal', kernel_regularizer=tf.keras.regularizers.l2(0.0001)),\n",
    "        tf.keras.layers.Activation(\"relu\"),\n",
    "        tf.keras.layers.BatchNormalization(momentum=0.9),\n",
    "        \n",
    "        tf.keras.layers.Dense(6, activation=\"softmax\")\n",
    "    ])"
   ]
  },
  {
   "cell_type": "code",
   "execution_count": 164,
   "id": "59629213",
   "metadata": {},
   "outputs": [],
   "source": [
    "import gc\n",
    "from tensorflow.keras import backend as k\n",
    "from tensorflow.keras.callbacks import Callback\n",
    "\n",
    "class ClearMemory(Callback):\n",
    "    def on_epoch_end(self, epoch, logs=None):\n",
    "        gc.collect()\n",
    "        k.clear_session()"
   ]
  },
  {
   "cell_type": "code",
   "execution_count": 165,
   "id": "84249348",
   "metadata": {},
   "outputs": [
    {
     "name": "stdout",
     "output_type": "stream",
     "text": [
      "Model: \"sequential\"\n",
      "_________________________________________________________________\n",
      "Layer (type)                 Output Shape              Param #   \n",
      "=================================================================\n",
      "conv2d (Conv2D)              (None, 47, 47, 16)        208       \n",
      "_________________________________________________________________\n",
      "activation (Activation)      (None, 47, 47, 16)        0         \n",
      "_________________________________________________________________\n",
      "conv2d_1 (Conv2D)            (None, 46, 46, 16)        1040      \n",
      "_________________________________________________________________\n",
      "activation_1 (Activation)    (None, 46, 46, 16)        0         \n",
      "_________________________________________________________________\n",
      "max_pooling2d (MaxPooling2D) (None, 23, 23, 16)        0         \n",
      "_________________________________________________________________\n",
      "conv2d_2 (Conv2D)            (None, 22, 22, 32)        2080      \n",
      "_________________________________________________________________\n",
      "activation_2 (Activation)    (None, 22, 22, 32)        0         \n",
      "_________________________________________________________________\n",
      "conv2d_3 (Conv2D)            (None, 21, 21, 32)        4128      \n",
      "_________________________________________________________________\n",
      "activation_3 (Activation)    (None, 21, 21, 32)        0         \n",
      "_________________________________________________________________\n",
      "max_pooling2d_1 (MaxPooling2 (None, 10, 10, 32)        0         \n",
      "_________________________________________________________________\n",
      "dropout (Dropout)            (None, 10, 10, 32)        0         \n",
      "_________________________________________________________________\n",
      "flatten (Flatten)            (None, 3200)              0         \n",
      "_________________________________________________________________\n",
      "dense (Dense)                (None, 64)                204864    \n",
      "_________________________________________________________________\n",
      "activation_4 (Activation)    (None, 64)                0         \n",
      "_________________________________________________________________\n",
      "dense_1 (Dense)              (None, 64)                4160      \n",
      "_________________________________________________________________\n",
      "activation_5 (Activation)    (None, 64)                0         \n",
      "_________________________________________________________________\n",
      "dense_2 (Dense)              (None, 128)               8320      \n",
      "_________________________________________________________________\n",
      "activation_6 (Activation)    (None, 128)               0         \n",
      "_________________________________________________________________\n",
      "dense_3 (Dense)              (None, 256)               33024     \n",
      "_________________________________________________________________\n",
      "activation_7 (Activation)    (None, 256)               0         \n",
      "_________________________________________________________________\n",
      "dense_4 (Dense)              (None, 256)               65792     \n",
      "_________________________________________________________________\n",
      "activation_8 (Activation)    (None, 256)               0         \n",
      "_________________________________________________________________\n",
      "dense_5 (Dense)              (None, 256)               65792     \n",
      "_________________________________________________________________\n",
      "activation_9 (Activation)    (None, 256)               0         \n",
      "_________________________________________________________________\n",
      "batch_normalization (BatchNo (None, 256)               1024      \n",
      "_________________________________________________________________\n",
      "dense_6 (Dense)              (None, 256)               65792     \n",
      "_________________________________________________________________\n",
      "activation_10 (Activation)   (None, 256)               0         \n",
      "_________________________________________________________________\n",
      "batch_normalization_1 (Batch (None, 256)               1024      \n",
      "_________________________________________________________________\n",
      "dense_7 (Dense)              (None, 6)                 1542      \n",
      "=================================================================\n",
      "Total params: 458,790\n",
      "Trainable params: 457,766\n",
      "Non-trainable params: 1,024\n",
      "_________________________________________________________________\n"
     ]
    }
   ],
   "source": [
    "#model = create_model()\n",
    "model = create_model_with_adam()\n",
    "\n",
    "#opt = tf.keras.optimizers.SGD(learning_rate=0.00001)\n",
    "opt = tf.keras.optimizers.Adam(learning_rate=0.0001)\n",
    "model.compile(\n",
    "    loss='categorical_crossentropy',\n",
    "    optimizer=opt,\n",
    "    metrics=['accuracy']\n",
    ")\n",
    "\n",
    "model.summary()"
   ]
  },
  {
   "cell_type": "code",
   "execution_count": 166,
   "id": "65a43795",
   "metadata": {
    "scrolled": true
   },
   "outputs": [
    {
     "name": "stdout",
     "output_type": "stream",
     "text": [
      "Epoch 1/100\n",
      "16/16 [==============================] - 21s 1s/step - loss: 1.9297 - accuracy: 0.1732 - val_loss: 1.8463 - val_accuracy: 0.1757\n",
      "Epoch 2/100\n",
      "16/16 [==============================] - 21s 1s/step - loss: 1.8666 - accuracy: 0.1816 - val_loss: 1.8528 - val_accuracy: 0.1576\n",
      "Epoch 3/100\n",
      "16/16 [==============================] - 21s 1s/step - loss: 1.8514 - accuracy: 0.1798 - val_loss: 1.8512 - val_accuracy: 0.1667\n",
      "Epoch 4/100\n",
      "16/16 [==============================] - 21s 1s/step - loss: 1.8416 - accuracy: 0.1850 - val_loss: 1.8396 - val_accuracy: 0.1463\n",
      "Epoch 5/100\n",
      "16/16 [==============================] - 21s 1s/step - loss: 1.8340 - accuracy: 0.1849 - val_loss: 1.8267 - val_accuracy: 0.1754\n",
      "Epoch 6/100\n",
      "16/16 [==============================] - 21s 1s/step - loss: 1.8279 - accuracy: 0.1919 - val_loss: 1.8266 - val_accuracy: 0.1470\n",
      "Epoch 7/100\n",
      "16/16 [==============================] - 21s 1s/step - loss: 1.8238 - accuracy: 0.1905 - val_loss: 1.8176 - val_accuracy: 0.1735\n",
      "Epoch 8/100\n",
      "16/16 [==============================] - 21s 1s/step - loss: 1.8190 - accuracy: 0.1960 - val_loss: 1.8152 - val_accuracy: 0.1718\n",
      "Epoch 9/100\n",
      "16/16 [==============================] - 21s 1s/step - loss: 1.8136 - accuracy: 0.2031 - val_loss: 1.8090 - val_accuracy: 0.1719\n",
      "Epoch 10/100\n",
      "16/16 [==============================] - 21s 1s/step - loss: 1.8053 - accuracy: 0.2115 - val_loss: 1.8038 - val_accuracy: 0.1761\n",
      "Epoch 11/100\n",
      "16/16 [==============================] - 21s 1s/step - loss: 1.7947 - accuracy: 0.2260 - val_loss: 1.7879 - val_accuracy: 0.1979\n",
      "Epoch 12/100\n",
      "16/16 [==============================] - 21s 1s/step - loss: 1.7758 - accuracy: 0.2460 - val_loss: 1.7699 - val_accuracy: 0.2108\n",
      "Epoch 13/100\n",
      "16/16 [==============================] - 21s 1s/step - loss: 1.7473 - accuracy: 0.2689 - val_loss: 1.7426 - val_accuracy: 0.2409\n",
      "Epoch 14/100\n",
      "16/16 [==============================] - 21s 1s/step - loss: 1.7193 - accuracy: 0.2895 - val_loss: 1.6802 - val_accuracy: 0.3239\n",
      "Epoch 15/100\n",
      "16/16 [==============================] - 21s 1s/step - loss: 1.6903 - accuracy: 0.3086 - val_loss: 1.6551 - val_accuracy: 0.3441\n",
      "Epoch 16/100\n",
      "16/16 [==============================] - 21s 1s/step - loss: 1.6623 - accuracy: 0.3257 - val_loss: 1.6293 - val_accuracy: 0.3589\n",
      "Epoch 17/100\n",
      "16/16 [==============================] - 21s 1s/step - loss: 1.6405 - accuracy: 0.3365 - val_loss: 1.6072 - val_accuracy: 0.3721\n",
      "Epoch 18/100\n",
      "16/16 [==============================] - 21s 1s/step - loss: 1.6186 - accuracy: 0.3509 - val_loss: 1.5506 - val_accuracy: 0.4012\n",
      "Epoch 19/100\n",
      "16/16 [==============================] - 21s 1s/step - loss: 1.5969 - accuracy: 0.3636 - val_loss: 1.5403 - val_accuracy: 0.4059\n",
      "Epoch 20/100\n",
      "16/16 [==============================] - 21s 1s/step - loss: 1.5828 - accuracy: 0.3669 - val_loss: 1.5390 - val_accuracy: 0.4022\n",
      "Epoch 21/100\n",
      "16/16 [==============================] - 21s 1s/step - loss: 1.5681 - accuracy: 0.3764 - val_loss: 1.5370 - val_accuracy: 0.3984\n",
      "Epoch 22/100\n",
      "16/16 [==============================] - 21s 1s/step - loss: 1.5592 - accuracy: 0.3822 - val_loss: 1.5174 - val_accuracy: 0.4131\n",
      "Epoch 23/100\n",
      "16/16 [==============================] - 21s 1s/step - loss: 1.5476 - accuracy: 0.3834 - val_loss: 1.4949 - val_accuracy: 0.4222\n",
      "Epoch 24/100\n",
      "16/16 [==============================] - 21s 1s/step - loss: 1.5373 - accuracy: 0.3926 - val_loss: 1.4974 - val_accuracy: 0.4181\n",
      "Epoch 25/100\n",
      "16/16 [==============================] - 21s 1s/step - loss: 1.5257 - accuracy: 0.3973 - val_loss: 1.4745 - val_accuracy: 0.4302\n",
      "Epoch 26/100\n",
      "16/16 [==============================] - 21s 1s/step - loss: 1.5160 - accuracy: 0.4026 - val_loss: 1.4831 - val_accuracy: 0.4212\n",
      "Epoch 27/100\n",
      "16/16 [==============================] - 21s 1s/step - loss: 1.5061 - accuracy: 0.4092 - val_loss: 1.4611 - val_accuracy: 0.4355\n",
      "Epoch 28/100\n",
      "16/16 [==============================] - 21s 1s/step - loss: 1.4962 - accuracy: 0.4081 - val_loss: 1.4663 - val_accuracy: 0.4301\n",
      "Epoch 29/100\n",
      "16/16 [==============================] - 21s 1s/step - loss: 1.4859 - accuracy: 0.4167 - val_loss: 1.4656 - val_accuracy: 0.4283\n",
      "Epoch 30/100\n",
      "16/16 [==============================] - 21s 1s/step - loss: 1.4809 - accuracy: 0.4157 - val_loss: 1.4336 - val_accuracy: 0.4433\n",
      "Epoch 31/100\n",
      "16/16 [==============================] - 21s 1s/step - loss: 1.4756 - accuracy: 0.4196 - val_loss: 1.4305 - val_accuracy: 0.4445\n",
      "Epoch 32/100\n",
      "16/16 [==============================] - 21s 1s/step - loss: 1.4641 - accuracy: 0.4240 - val_loss: 1.4255 - val_accuracy: 0.4431\n",
      "Epoch 33/100\n",
      "16/16 [==============================] - 21s 1s/step - loss: 1.4613 - accuracy: 0.4289 - val_loss: 1.4358 - val_accuracy: 0.4454\n",
      "Epoch 34/100\n",
      "16/16 [==============================] - 21s 1s/step - loss: 1.4526 - accuracy: 0.4288 - val_loss: 1.4641 - val_accuracy: 0.4363\n",
      "Epoch 35/100\n",
      "16/16 [==============================] - 21s 1s/step - loss: 1.4445 - accuracy: 0.4346 - val_loss: 1.4123 - val_accuracy: 0.4491\n",
      "Epoch 36/100\n",
      "16/16 [==============================] - 21s 1s/step - loss: 1.4409 - accuracy: 0.4368 - val_loss: 1.4094 - val_accuracy: 0.4472\n",
      "Epoch 37/100\n",
      "16/16 [==============================] - 21s 1s/step - loss: 1.4366 - accuracy: 0.4394 - val_loss: 1.4331 - val_accuracy: 0.4420\n",
      "Epoch 38/100\n",
      "16/16 [==============================] - 21s 1s/step - loss: 1.4330 - accuracy: 0.4390 - val_loss: 1.4396 - val_accuracy: 0.4468\n",
      "Epoch 39/100\n",
      "16/16 [==============================] - 21s 1s/step - loss: 1.4253 - accuracy: 0.4431 - val_loss: 1.4040 - val_accuracy: 0.4554\n",
      "Epoch 40/100\n",
      "16/16 [==============================] - 21s 1s/step - loss: 1.4227 - accuracy: 0.4459 - val_loss: 1.3834 - val_accuracy: 0.4655\n",
      "Epoch 41/100\n",
      "16/16 [==============================] - 21s 1s/step - loss: 1.4139 - accuracy: 0.4497 - val_loss: 1.3852 - val_accuracy: 0.4665\n",
      "Epoch 42/100\n",
      "16/16 [==============================] - 21s 1s/step - loss: 1.4095 - accuracy: 0.4521 - val_loss: 1.3850 - val_accuracy: 0.4639\n",
      "Epoch 43/100\n",
      "16/16 [==============================] - 21s 1s/step - loss: 1.4049 - accuracy: 0.4514 - val_loss: 1.3791 - val_accuracy: 0.4622\n",
      "Epoch 44/100\n",
      "16/16 [==============================] - 21s 1s/step - loss: 1.3930 - accuracy: 0.4563 - val_loss: 1.3771 - val_accuracy: 0.4615\n",
      "Epoch 45/100\n",
      "16/16 [==============================] - 21s 1s/step - loss: 1.3934 - accuracy: 0.4546 - val_loss: 1.3801 - val_accuracy: 0.4665\n",
      "Epoch 46/100\n",
      "16/16 [==============================] - 21s 1s/step - loss: 1.3877 - accuracy: 0.4590 - val_loss: 1.3758 - val_accuracy: 0.4675\n",
      "Epoch 47/100\n",
      "16/16 [==============================] - 21s 1s/step - loss: 1.3857 - accuracy: 0.4620 - val_loss: 1.3620 - val_accuracy: 0.4728\n",
      "Epoch 48/100\n",
      "16/16 [==============================] - 21s 1s/step - loss: 1.3825 - accuracy: 0.4622 - val_loss: 1.3820 - val_accuracy: 0.4653\n",
      "Epoch 49/100\n",
      "16/16 [==============================] - 21s 1s/step - loss: 1.3725 - accuracy: 0.4667 - val_loss: 1.3801 - val_accuracy: 0.4643\n",
      "Epoch 50/100\n",
      "16/16 [==============================] - 21s 1s/step - loss: 1.3710 - accuracy: 0.4683 - val_loss: 1.3572 - val_accuracy: 0.4737\n",
      "Epoch 51/100\n",
      "16/16 [==============================] - 21s 1s/step - loss: 1.3690 - accuracy: 0.4669 - val_loss: 1.3439 - val_accuracy: 0.4795\n",
      "Epoch 52/100\n",
      "16/16 [==============================] - 21s 1s/step - loss: 1.3590 - accuracy: 0.4728 - val_loss: 1.3906 - val_accuracy: 0.4634\n",
      "Epoch 53/100\n",
      "16/16 [==============================] - 21s 1s/step - loss: 1.3634 - accuracy: 0.4733 - val_loss: 1.3370 - val_accuracy: 0.4798\n",
      "Epoch 54/100\n",
      "16/16 [==============================] - 21s 1s/step - loss: 1.3552 - accuracy: 0.4741 - val_loss: 1.3398 - val_accuracy: 0.4837\n",
      "Epoch 55/100\n",
      "16/16 [==============================] - 21s 1s/step - loss: 1.3513 - accuracy: 0.4754 - val_loss: 1.3500 - val_accuracy: 0.4769\n",
      "Epoch 56/100\n",
      "16/16 [==============================] - 21s 1s/step - loss: 1.3493 - accuracy: 0.4756 - val_loss: 1.3402 - val_accuracy: 0.4823\n",
      "Epoch 57/100\n",
      "16/16 [==============================] - 21s 1s/step - loss: 1.3429 - accuracy: 0.4798 - val_loss: 1.3326 - val_accuracy: 0.4887\n",
      "Epoch 58/100\n",
      "16/16 [==============================] - 21s 1s/step - loss: 1.3387 - accuracy: 0.4797 - val_loss: 1.3398 - val_accuracy: 0.4802\n"
     ]
    },
    {
     "name": "stdout",
     "output_type": "stream",
     "text": [
      "Epoch 59/100\n",
      "16/16 [==============================] - 21s 1s/step - loss: 1.3326 - accuracy: 0.4811 - val_loss: 1.3464 - val_accuracy: 0.4788\n",
      "Epoch 60/100\n",
      "16/16 [==============================] - 21s 1s/step - loss: 1.3307 - accuracy: 0.4839 - val_loss: 1.3424 - val_accuracy: 0.4853\n",
      "Epoch 61/100\n",
      "16/16 [==============================] - 21s 1s/step - loss: 1.3259 - accuracy: 0.4874 - val_loss: 1.3375 - val_accuracy: 0.4867\n",
      "Epoch 62/100\n",
      "16/16 [==============================] - 21s 1s/step - loss: 1.3250 - accuracy: 0.4865 - val_loss: 1.3346 - val_accuracy: 0.4856\n",
      "Epoch 63/100\n",
      "16/16 [==============================] - 21s 1s/step - loss: 1.3235 - accuracy: 0.4885 - val_loss: 1.3305 - val_accuracy: 0.4840\n",
      "Epoch 64/100\n",
      "16/16 [==============================] - 21s 1s/step - loss: 1.3148 - accuracy: 0.4907 - val_loss: 1.3178 - val_accuracy: 0.4914\n",
      "Epoch 65/100\n",
      "16/16 [==============================] - 21s 1s/step - loss: 1.3147 - accuracy: 0.4900 - val_loss: 1.3472 - val_accuracy: 0.4851\n",
      "Epoch 66/100\n",
      "16/16 [==============================] - 21s 1s/step - loss: 1.3091 - accuracy: 0.4931 - val_loss: 1.3171 - val_accuracy: 0.4917\n",
      "Epoch 67/100\n",
      "16/16 [==============================] - 21s 1s/step - loss: 1.3066 - accuracy: 0.4979 - val_loss: 1.3167 - val_accuracy: 0.4942\n",
      "Epoch 68/100\n",
      "16/16 [==============================] - 21s 1s/step - loss: 1.3031 - accuracy: 0.4992 - val_loss: 1.3190 - val_accuracy: 0.4931\n",
      "Epoch 69/100\n",
      "16/16 [==============================] - 21s 1s/step - loss: 1.2958 - accuracy: 0.5010 - val_loss: 1.3116 - val_accuracy: 0.4914\n",
      "Epoch 70/100\n",
      "16/16 [==============================] - 21s 1s/step - loss: 1.2946 - accuracy: 0.4991 - val_loss: 1.3135 - val_accuracy: 0.4894\n",
      "Epoch 71/100\n",
      "16/16 [==============================] - 21s 1s/step - loss: 1.2939 - accuracy: 0.5024 - val_loss: 1.3037 - val_accuracy: 0.4977\n",
      "Epoch 72/100\n",
      "16/16 [==============================] - 21s 1s/step - loss: 1.2873 - accuracy: 0.5046 - val_loss: 1.3104 - val_accuracy: 0.4949\n",
      "Epoch 73/100\n",
      "16/16 [==============================] - 21s 1s/step - loss: 1.2877 - accuracy: 0.5039 - val_loss: 1.2943 - val_accuracy: 0.5014\n",
      "Epoch 74/100\n",
      "16/16 [==============================] - 21s 1s/step - loss: 1.2821 - accuracy: 0.5063 - val_loss: 1.2952 - val_accuracy: 0.5018\n",
      "Epoch 75/100\n",
      "16/16 [==============================] - 21s 1s/step - loss: 1.2814 - accuracy: 0.5072 - val_loss: 1.2978 - val_accuracy: 0.4999\n",
      "Epoch 76/100\n",
      "16/16 [==============================] - 21s 1s/step - loss: 1.2740 - accuracy: 0.5129 - val_loss: 1.3295 - val_accuracy: 0.4878\n",
      "Epoch 77/100\n",
      "16/16 [==============================] - 21s 1s/step - loss: 1.2723 - accuracy: 0.5120 - val_loss: 1.2897 - val_accuracy: 0.5030\n",
      "Epoch 78/100\n",
      "16/16 [==============================] - 21s 1s/step - loss: 1.2718 - accuracy: 0.5136 - val_loss: 1.2944 - val_accuracy: 0.5011\n",
      "Epoch 79/100\n",
      "16/16 [==============================] - 21s 1s/step - loss: 1.2668 - accuracy: 0.5126 - val_loss: 1.3028 - val_accuracy: 0.5010\n",
      "Epoch 80/100\n",
      "16/16 [==============================] - 21s 1s/step - loss: 1.2599 - accuracy: 0.5182 - val_loss: 1.2757 - val_accuracy: 0.5092\n",
      "Epoch 81/100\n",
      "16/16 [==============================] - 21s 1s/step - loss: 1.2579 - accuracy: 0.5177 - val_loss: 1.2965 - val_accuracy: 0.5025\n",
      "Epoch 82/100\n",
      "16/16 [==============================] - 21s 1s/step - loss: 1.2537 - accuracy: 0.5203 - val_loss: 1.2813 - val_accuracy: 0.5092\n",
      "Epoch 83/100\n",
      "16/16 [==============================] - 21s 1s/step - loss: 1.2537 - accuracy: 0.5189 - val_loss: 1.2780 - val_accuracy: 0.5078\n",
      "Epoch 84/100\n",
      "16/16 [==============================] - 21s 1s/step - loss: 1.2507 - accuracy: 0.5209 - val_loss: 1.2784 - val_accuracy: 0.5091\n",
      "Epoch 85/100\n",
      "16/16 [==============================] - 21s 1s/step - loss: 1.2450 - accuracy: 0.5223 - val_loss: 1.2871 - val_accuracy: 0.5068\n",
      "Epoch 86/100\n",
      "16/16 [==============================] - 21s 1s/step - loss: 1.2448 - accuracy: 0.5220 - val_loss: 1.2744 - val_accuracy: 0.5119\n",
      "Epoch 87/100\n",
      "16/16 [==============================] - 21s 1s/step - loss: 1.2411 - accuracy: 0.5225 - val_loss: 1.2700 - val_accuracy: 0.5126\n",
      "Epoch 88/100\n",
      "16/16 [==============================] - 21s 1s/step - loss: 1.2381 - accuracy: 0.5249 - val_loss: 1.2938 - val_accuracy: 0.5007\n",
      "Epoch 89/100\n",
      "16/16 [==============================] - 21s 1s/step - loss: 1.2355 - accuracy: 0.5257 - val_loss: 1.2863 - val_accuracy: 0.5065\n",
      "Epoch 90/100\n",
      "16/16 [==============================] - 21s 1s/step - loss: 1.2305 - accuracy: 0.5292 - val_loss: 1.2811 - val_accuracy: 0.5110\n",
      "Epoch 91/100\n",
      "16/16 [==============================] - 21s 1s/step - loss: 1.2267 - accuracy: 0.5345 - val_loss: 1.2705 - val_accuracy: 0.5174\n",
      "Epoch 92/100\n",
      "16/16 [==============================] - 21s 1s/step - loss: 1.2221 - accuracy: 0.5326 - val_loss: 1.2717 - val_accuracy: 0.5153\n",
      "Epoch 93/100\n",
      "16/16 [==============================] - 21s 1s/step - loss: 1.2280 - accuracy: 0.5319 - val_loss: 1.2693 - val_accuracy: 0.5127\n",
      "Epoch 94/100\n",
      "16/16 [==============================] - 21s 1s/step - loss: 1.2222 - accuracy: 0.5330 - val_loss: 1.2840 - val_accuracy: 0.5071\n",
      "Epoch 95/100\n",
      "16/16 [==============================] - 21s 1s/step - loss: 1.2133 - accuracy: 0.5381 - val_loss: 1.2766 - val_accuracy: 0.5126\n",
      "Epoch 96/100\n",
      "16/16 [==============================] - 21s 1s/step - loss: 1.2150 - accuracy: 0.5352 - val_loss: 1.2736 - val_accuracy: 0.5103\n",
      "Epoch 97/100\n",
      "16/16 [==============================] - 21s 1s/step - loss: 1.2151 - accuracy: 0.5352 - val_loss: 1.2619 - val_accuracy: 0.5204\n",
      "Epoch 98/100\n",
      "16/16 [==============================] - 21s 1s/step - loss: 1.2124 - accuracy: 0.5387 - val_loss: 1.2742 - val_accuracy: 0.5105\n",
      "Epoch 99/100\n",
      "16/16 [==============================] - 21s 1s/step - loss: 1.2053 - accuracy: 0.5380 - val_loss: 1.2606 - val_accuracy: 0.5222\n",
      "Epoch 100/100\n",
      "16/16 [==============================] - 21s 1s/step - loss: 1.2029 - accuracy: 0.5396 - val_loss: 1.2584 - val_accuracy: 0.5194\n"
     ]
    }
   ],
   "source": [
    "history = model.fit(\n",
    "    x_train,\n",
    "    y_train,\n",
    "    steps_per_epoch=16,\n",
    "    validation_steps=8,\n",
    "    epochs=100,\n",
    "    callbacks=ClearMemory(),\n",
    "    use_multiprocessing=False,\n",
    "    workers=2,\n",
    "    validation_data=(x_test, y_test)\n",
    ")"
   ]
  },
  {
   "cell_type": "code",
   "execution_count": 167,
   "id": "f7114ce1",
   "metadata": {
    "scrolled": false
   },
   "outputs": [
    {
     "data": {
      "image/png": "[encoded data removed]",
      "text/plain": [
       "<Figure size 432x288 with 1 Axes>"
      ]
     },
     "metadata": {
      "needs_background": "light"
     },
     "output_type": "display_data"
    }
   ],
   "source": [
    "fig1 = plt.gcf()\n",
    "plt.plot(history.history['accuracy'])\n",
    "plt.plot(history.history['val_accuracy'])\n",
    "plt.title('model accuracy')\n",
    "plt.xlabel('epoch')\n",
    "plt.ylabel('accuracy')\n",
    "plt.legend(['train', 'validation'], loc='upper left')\n",
    "plt.show()\n",
    "\n",
    "fig1.savefig('history/accuracy37.jpg')"
   ]
  },
  {
   "cell_type": "code",
   "execution_count": 168,
   "id": "44d5af9b",
   "metadata": {},
   "outputs": [
    {
     "data": {
      "image/png": "[encoded data removed]",
      "text/plain": [
       "<Figure size 432x288 with 1 Axes>"
      ]
     },
     "metadata": {
      "needs_background": "light"
     },
     "output_type": "display_data"
    }
   ],
   "source": [
    "fig2 = plt.gcf()\n",
    "plt.plot(history.history['loss'])\n",
    "plt.plot(history.history['val_loss'])\n",
    "plt.title('model loss')\n",
    "plt.xlabel('epoch')\n",
    "plt.ylabel('loss')\n",
    "plt.legend(['train', 'validation'], loc='upper left')\n",
    "plt.show()\n",
    "\n",
    "fig2.savefig('history/loss37.jpg')"
   ]
  },
  {
   "cell_type": "code",
   "execution_count": 169,
   "id": "8d194192",
   "metadata": {},
   "outputs": [
    {
     "name": "stdout",
     "output_type": "stream",
     "text": [
      "221/221 - 2s - loss: 1.2584 - accuracy: 0.5194\n",
      "Accuracy : 51.938313245773315 %\n",
      "Loss : 1.258363962173462\n"
     ]
    }
   ],
   "source": [
    "score = model.evaluate(x_test, y_test, verbose=2)\n",
    "acc_str = \"Accuracy : {} %\".format(str(score[1] * 100))\n",
    "acc_loss = \"Loss : {}\".format(str(score[0]))\n",
    "print(acc_str)\n",
    "print(acc_loss)"
   ]
  },
  {
   "cell_type": "code",
   "execution_count": 170,
   "id": "af2f35b7",
   "metadata": {},
   "outputs": [],
   "source": [
    "# Save notepad data\n",
    "with open('history/model_summary37.txt','w') as h:\n",
    "    model.summary(print_fn=lambda x: h.write(x + '\\n'))\n",
    "    h.write(acc_str + '\\n' + acc_loss)"
   ]
  },
  {
   "cell_type": "code",
   "execution_count": 171,
   "id": "38276f04",
   "metadata": {},
   "outputs": [],
   "source": [
    "model.save('history/model37.h5')"
   ]
  },
  {
   "cell_type": "code",
   "execution_count": 21,
   "id": "0012f0ac",
   "metadata": {},
   "outputs": [],
   "source": [
    "#mod = tf.keras.models.load_model('history/model13.h5')"
   ]
  },
  {
   "cell_type": "code",
   "execution_count": null,
   "id": "bc4cc0f0",
   "metadata": {},
   "outputs": [],
   "source": []
  },
  {
   "cell_type": "code",
   "execution_count": null,
   "id": "e4446233",
   "metadata": {},
   "outputs": [],
   "source": []
  }
 ],
 "metadata": {
  "kernelspec": {
   "display_name": "Python 3 (ipykernel)",
   "language": "python",
   "name": "python3"
  },
  "language_info": {
   "codemirror_mode": {
    "name": "ipython",
    "version": 3
   },
   "file_extension": ".py",
   "mimetype": "text/x-python",
   "name": "python",
   "nbconvert_exporter": "python",
   "pygments_lexer": "ipython3",
   "version": "3.8.8"
  }
 },
 "nbformat": 4,
 "nbformat_minor": 5
}
