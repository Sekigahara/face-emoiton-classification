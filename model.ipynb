{
 "cells": [
  {
   "cell_type": "raw",
   "id": "5b6593b6",
   "metadata": {},
   "source": [
    "import numpy as np\n",
    "import matplotlib.pyplot as plt\n",
    "import glob"
   ]
  },
  {
   "cell_type": "code",
   "execution_count": 2,
   "id": "4d17041d",
   "metadata": {},
   "outputs": [],
   "source": [
    "# load Model and Test\n",
    "loaded = np.load(\"utils\\\\dataset.npz\")\n",
    "x = loaded['x']\n",
    "y = loaded['y']"
   ]
  },
  {
   "cell_type": "code",
   "execution_count": 3,
   "id": "f3686fc3",
   "metadata": {},
   "outputs": [],
   "source": [
    "dataset_path = \"E:\\Project\\Data Science\\Face Emotion Recognition\\dataset\"\n",
    "dir_path = glob.glob(dataset_path + \"\\*\")"
   ]
  },
  {
   "cell_type": "code",
   "execution_count": 4,
   "id": "6c83e4b3",
   "metadata": {},
   "outputs": [
    {
     "name": "stdout",
     "output_type": "stream",
     "text": [
      "Suprise\n"
     ]
    },
    {
     "data": {
      "image/png": "[encoded data removed]",
      "text/plain": [
       "<Figure size 432x288 with 1 Axes>"
      ]
     },
     "metadata": {
      "needs_background": "light"
     },
     "output_type": "display_data"
    }
   ],
   "source": [
    "# Extraction Label\n",
    "string_label = []\n",
    "string_number = []\n",
    "for string in dir_path:\n",
    "    string_label.append(string.split(\"\\\\\")[5])\n",
    "\n",
    "plt.imshow(x[27000])\n",
    "print(string_label[y[27000]])"
   ]
  },
  {
   "cell_type": "code",
   "execution_count": 21,
   "id": "9e1d03f3",
   "metadata": {},
   "outputs": [
    {
     "data": {
      "text/plain": [
       "['Angry', 'Fear', 'Happy', 'Neutral', 'Sad', 'Suprise']"
      ]
     },
     "execution_count": 21,
     "metadata": {},
     "output_type": "execute_result"
    }
   ],
   "source": [
    "string_label"
   ]
  },
  {
   "cell_type": "code",
   "execution_count": 5,
   "id": "2c829c24",
   "metadata": {},
   "outputs": [],
   "source": [
    "# Lets do the cross validation\n",
    "from sklearn.model_selection import StratifiedKFold as skf\n",
    "\n",
    "skf_model = skf(n_splits=6, random_state=21, shuffle=True)\n",
    "for train_idx, test_idx in skf_model.split(x, y):\n",
    "    x_train, x_test = x[train_idx], x[test_idx]\n",
    "    y_train, y_test = y[train_idx], y[test_idx]"
   ]
  },
  {
   "cell_type": "code",
   "execution_count": 6,
   "id": "e2300a12",
   "metadata": {},
   "outputs": [
    {
     "name": "stdout",
     "output_type": "stream",
     "text": [
      "(28273,)\n",
      "(23561,)\n",
      "(4712,)\n"
     ]
    }
   ],
   "source": [
    "print(y.shape)\n",
    "print(y_train.shape)\n",
    "print(y_test.shape)"
   ]
  },
  {
   "cell_type": "code",
   "execution_count": 7,
   "id": "a00fdd66",
   "metadata": {},
   "outputs": [],
   "source": [
    "from tensorflow.keras.utils import to_categorical\n",
    "\n",
    "y_train = to_categorical(y_train, num_classes=6, dtype='int16')\n",
    "y_test = to_categorical(y_test, num_classes=6, dtype='int16')"
   ]
  },
  {
   "cell_type": "code",
   "execution_count": 10,
   "id": "4a9e9201",
   "metadata": {},
   "outputs": [],
   "source": [
    "import tensorflow as tf\n",
    "\n",
    "def create_model():\n",
    "    return tf.keras.Sequential([\n",
    "        tf.keras.layers.Input(shape=(48, 48, 3)),\n",
    "        tf.keras.layers.Conv2D(16, (3, 3), strides=(1, 1), activation='relu', kernel_initializer=\"he_uniform\", bias_regularizer=tf.keras.regularizers.L2(0.01)),\n",
    "        tf.keras.layers.Conv2D(32, (2, 2), activation='relu', kernel_initializer=\"he_uniform\", bias_regularizer=tf.keras.regularizers.L2(0.01)),\n",
    "        \n",
    "        tf.keras.layers.MaxPool2D(pool_size=(2, 2)),\n",
    "        tf.keras.layers.BatchNormalization(),\n",
    "        \n",
    "        #tf.keras.layers.Conv2D(16, (2, 2), activation='relu', kernel_initializer=\"he_uniform\", bias_reguralizer=tf.keras.regularizers.L2(0.01)),\n",
    "        #tf.keras.layers.Conv2D(16, (3, 3), strides=(2, 2), activation='relu', kernel_initializer=\"he_uniform\", bias_reguralizer=tf.keras.regularizers.L2(0.01)),\n",
    "        \n",
    "        tf.keras.layers.Dense(16, activation=\"relu\"),\n",
    "        \n",
    "        tf.keras.layers.Flatten(),\n",
    "        tf.keras.layers.Dense(6, activation=\"softmax\")\n",
    "    ])"
   ]
  },
  {
   "cell_type": "code",
   "execution_count": 13,
   "id": "8e66c44f",
   "metadata": {},
   "outputs": [
    {
     "name": "stdout",
     "output_type": "stream",
     "text": [
      "Model: \"sequential_1\"\n",
      "_________________________________________________________________\n",
      "Layer (type)                 Output Shape              Param #   \n",
      "=================================================================\n",
      "conv2d_2 (Conv2D)            (None, 46, 46, 16)        448       \n",
      "_________________________________________________________________\n",
      "conv2d_3 (Conv2D)            (None, 45, 45, 32)        2080      \n",
      "_________________________________________________________________\n",
      "max_pooling2d_1 (MaxPooling2 (None, 22, 22, 32)        0         \n",
      "_________________________________________________________________\n",
      "batch_normalization_1 (Batch (None, 22, 22, 32)        128       \n",
      "_________________________________________________________________\n",
      "dense_2 (Dense)              (None, 22, 22, 16)        528       \n",
      "_________________________________________________________________\n",
      "flatten_1 (Flatten)          (None, 7744)              0         \n",
      "_________________________________________________________________\n",
      "dense_3 (Dense)              (None, 6)                 46470     \n",
      "=================================================================\n",
      "Total params: 49,654\n",
      "Trainable params: 49,590\n",
      "Non-trainable params: 64\n",
      "_________________________________________________________________\n"
     ]
    }
   ],
   "source": [
    "model = create_model()\n",
    "\n",
    "opt = tf.keras.optimizers.Adam(learning_rate=0.0005, momentum=0.8)\n",
    "model.compile(\n",
    "    loss='categorical_crossentropy',\n",
    "    optimizer=opt,\n",
    "    metrics=['accuracy']\n",
    ")\n",
    "\n",
    "model.summary()"
   ]
  },
  {
   "cell_type": "code",
   "execution_count": 14,
   "id": "5fcd1377",
   "metadata": {},
   "outputs": [
    {
     "name": "stdout",
     "output_type": "stream",
     "text": [
      "Epoch 1/50\n",
      "8/8 [==============================] - 16s 2s/step - loss: 2.9854 - accuracy: 0.2146 - val_loss: 5.8657 - val_accuracy: 0.1490\n",
      "Epoch 2/50\n",
      "8/8 [==============================] - 16s 2s/step - loss: 1.8338 - accuracy: 0.2670 - val_loss: 2.8008 - val_accuracy: 0.2640\n",
      "Epoch 3/50\n",
      "8/8 [==============================] - 17s 2s/step - loss: 1.6261 - accuracy: 0.3508 - val_loss: 2.0649 - val_accuracy: 0.3336\n",
      "Epoch 4/50\n",
      "8/8 [==============================] - 18s 2s/step - loss: 1.5393 - accuracy: 0.3980 - val_loss: 2.0122 - val_accuracy: 0.3179\n",
      "Epoch 5/50\n",
      "8/8 [==============================] - 16s 2s/step - loss: 1.4653 - accuracy: 0.4316 - val_loss: 2.1720 - val_accuracy: 0.2685\n",
      "Epoch 6/50\n",
      "8/8 [==============================] - 16s 2s/step - loss: 1.3984 - accuracy: 0.4599 - val_loss: 1.6918 - val_accuracy: 0.3589\n",
      "Epoch 7/50\n",
      "8/8 [==============================] - 16s 2s/step - loss: 1.3403 - accuracy: 0.4836 - val_loss: 1.8235 - val_accuracy: 0.3657\n",
      "Epoch 8/50\n",
      "8/8 [==============================] - 16s 2s/step - loss: 1.2881 - accuracy: 0.5073 - val_loss: 1.6943 - val_accuracy: 0.3782\n",
      "Epoch 9/50\n",
      "8/8 [==============================] - 17s 2s/step - loss: 1.2421 - accuracy: 0.5259 - val_loss: 1.8258 - val_accuracy: 0.3752\n",
      "Epoch 10/50\n",
      "8/8 [==============================] - 17s 2s/step - loss: 1.1947 - accuracy: 0.5513 - val_loss: 1.8533 - val_accuracy: 0.3383\n",
      "Epoch 11/50\n",
      "8/8 [==============================] - 16s 2s/step - loss: 1.1556 - accuracy: 0.5670 - val_loss: 1.8261 - val_accuracy: 0.3449\n",
      "Epoch 12/50\n",
      "8/8 [==============================] - 16s 2s/step - loss: 1.0998 - accuracy: 0.5896 - val_loss: 1.9058 - val_accuracy: 0.3563\n",
      "Epoch 13/50\n",
      "8/8 [==============================] - 16s 2s/step - loss: 1.0771 - accuracy: 0.6007 - val_loss: 1.9521 - val_accuracy: 0.3525\n",
      "Epoch 14/50\n",
      "8/8 [==============================] - 16s 2s/step - loss: 1.0533 - accuracy: 0.6065 - val_loss: 1.9274 - val_accuracy: 0.3671\n",
      "Epoch 15/50\n",
      "8/8 [==============================] - 16s 2s/step - loss: 1.0119 - accuracy: 0.6262 - val_loss: 1.8078 - val_accuracy: 0.3663\n",
      "Epoch 16/50\n",
      "8/8 [==============================] - 16s 2s/step - loss: 0.9793 - accuracy: 0.6409 - val_loss: 1.8250 - val_accuracy: 0.3871\n",
      "Epoch 17/50\n",
      "8/8 [==============================] - 16s 2s/step - loss: 0.9496 - accuracy: 0.6539 - val_loss: 2.0284 - val_accuracy: 0.3691\n",
      "Epoch 18/50\n",
      "8/8 [==============================] - 17s 2s/step - loss: 0.9493 - accuracy: 0.6512 - val_loss: 2.0299 - val_accuracy: 0.3343\n",
      "Epoch 19/50\n",
      "8/8 [==============================] - 17s 2s/step - loss: 0.9163 - accuracy: 0.6668 - val_loss: 2.1177 - val_accuracy: 0.3270\n",
      "Epoch 20/50\n",
      "8/8 [==============================] - 17s 2s/step - loss: 0.9012 - accuracy: 0.6699 - val_loss: 1.9388 - val_accuracy: 0.3574\n",
      "Epoch 21/50\n",
      "8/8 [==============================] - 16s 2s/step - loss: 0.8657 - accuracy: 0.6882 - val_loss: 1.8766 - val_accuracy: 0.3850\n",
      "Epoch 22/50\n",
      "8/8 [==============================] - 16s 2s/step - loss: 0.8556 - accuracy: 0.6901 - val_loss: 1.9772 - val_accuracy: 0.3642\n",
      "Epoch 23/50\n",
      "8/8 [==============================] - 16s 2s/step - loss: 0.8451 - accuracy: 0.6915 - val_loss: 1.9625 - val_accuracy: 0.3720\n",
      "Epoch 24/50\n",
      "8/8 [==============================] - 16s 2s/step - loss: 0.8167 - accuracy: 0.7040 - val_loss: 1.9160 - val_accuracy: 0.4013\n",
      "Epoch 25/50\n",
      "8/8 [==============================] - 16s 2s/step - loss: 0.8307 - accuracy: 0.6928 - val_loss: 2.0078 - val_accuracy: 0.3716\n",
      "Epoch 26/50\n",
      "8/8 [==============================] - 16s 2s/step - loss: 0.7690 - accuracy: 0.7251 - val_loss: 1.9769 - val_accuracy: 0.3875\n",
      "Epoch 27/50\n",
      "8/8 [==============================] - 16s 2s/step - loss: 0.7860 - accuracy: 0.7133 - val_loss: 2.0298 - val_accuracy: 0.3856\n",
      "Epoch 28/50\n",
      "8/8 [==============================] - 16s 2s/step - loss: 0.7471 - accuracy: 0.7327 - val_loss: 2.1472 - val_accuracy: 0.3529\n",
      "Epoch 29/50\n",
      "8/8 [==============================] - 16s 2s/step - loss: 0.7369 - accuracy: 0.7361 - val_loss: 2.0054 - val_accuracy: 0.3960\n",
      "Epoch 30/50\n",
      "8/8 [==============================] - 16s 2s/step - loss: 0.7442 - accuracy: 0.7302 - val_loss: 2.1471 - val_accuracy: 0.3799\n",
      "Epoch 31/50\n",
      "8/8 [==============================] - 16s 2s/step - loss: 0.7272 - accuracy: 0.7374 - val_loss: 2.1757 - val_accuracy: 0.3712\n",
      "Epoch 32/50\n",
      "8/8 [==============================] - 16s 2s/step - loss: 0.7147 - accuracy: 0.7411 - val_loss: 2.2541 - val_accuracy: 0.3572\n",
      "Epoch 33/50\n",
      "8/8 [==============================] - 16s 2s/step - loss: 0.6865 - accuracy: 0.7583 - val_loss: 2.2970 - val_accuracy: 0.3750\n",
      "Epoch 34/50\n",
      "8/8 [==============================] - 16s 2s/step - loss: 0.7014 - accuracy: 0.7456 - val_loss: 2.2354 - val_accuracy: 0.3710\n",
      "Epoch 35/50\n",
      "8/8 [==============================] - 16s 2s/step - loss: 0.6736 - accuracy: 0.7583 - val_loss: 2.3333 - val_accuracy: 0.3727\n",
      "Epoch 36/50\n",
      "8/8 [==============================] - 16s 2s/step - loss: 0.6495 - accuracy: 0.7708 - val_loss: 2.1647 - val_accuracy: 0.4126\n",
      "Epoch 37/50\n",
      "8/8 [==============================] - 16s 2s/step - loss: 0.6869 - accuracy: 0.7475 - val_loss: 2.2972 - val_accuracy: 0.3954\n",
      "Epoch 38/50\n",
      "8/8 [==============================] - 16s 2s/step - loss: 0.6457 - accuracy: 0.7696 - val_loss: 2.2969 - val_accuracy: 0.3994\n",
      "Epoch 39/50\n",
      "8/8 [==============================] - 16s 2s/step - loss: 0.6242 - accuracy: 0.7773 - val_loss: 2.3211 - val_accuracy: 0.3945\n",
      "Epoch 40/50\n",
      "8/8 [==============================] - 16s 2s/step - loss: 0.6345 - accuracy: 0.7723 - val_loss: 2.3533 - val_accuracy: 0.4085\n",
      "Epoch 41/50\n",
      "8/8 [==============================] - 16s 2s/step - loss: 0.6439 - accuracy: 0.7664 - val_loss: 2.3437 - val_accuracy: 0.4013\n",
      "Epoch 42/50\n",
      "8/8 [==============================] - 16s 2s/step - loss: 0.5902 - accuracy: 0.7945 - val_loss: 2.4018 - val_accuracy: 0.4051\n",
      "Epoch 43/50\n",
      "8/8 [==============================] - 16s 2s/step - loss: 0.5870 - accuracy: 0.7948 - val_loss: 2.4762 - val_accuracy: 0.4053\n",
      "Epoch 44/50\n",
      "8/8 [==============================] - 16s 2s/step - loss: 0.5856 - accuracy: 0.7943 - val_loss: 2.4814 - val_accuracy: 0.3905\n",
      "Epoch 45/50\n",
      "8/8 [==============================] - 17s 2s/step - loss: 0.5777 - accuracy: 0.7971 - val_loss: 2.5352 - val_accuracy: 0.4043\n",
      "Epoch 46/50\n",
      "8/8 [==============================] - 17s 2s/step - loss: 0.5704 - accuracy: 0.7958 - val_loss: 2.4875 - val_accuracy: 0.4228\n",
      "Epoch 47/50\n",
      "8/8 [==============================] - 17s 2s/step - loss: 0.5518 - accuracy: 0.8079 - val_loss: 2.6062 - val_accuracy: 0.4117\n",
      "Epoch 48/50\n",
      "8/8 [==============================] - 17s 2s/step - loss: 0.5503 - accuracy: 0.8074 - val_loss: 2.5428 - val_accuracy: 0.4119\n",
      "Epoch 49/50\n",
      "8/8 [==============================] - 16s 2s/step - loss: 0.5695 - accuracy: 0.7947 - val_loss: 2.6155 - val_accuracy: 0.4170\n",
      "Epoch 50/50\n",
      "8/8 [==============================] - 17s 2s/step - loss: 0.5262 - accuracy: 0.8190 - val_loss: 2.6051 - val_accuracy: 0.4255\n"
     ]
    }
   ],
   "source": [
    "history = model.fit(\n",
    "    x_train,\n",
    "    y_train,\n",
    "    steps_per_epoch=8,\n",
    "    validation_steps=8,\n",
    "    epochs=50,\n",
    "    validation_data=(x_test, y_test)\n",
    ")"
   ]
  },
  {
   "cell_type": "code",
   "execution_count": 18,
   "id": "303c3beb",
   "metadata": {},
   "outputs": [
    {
     "data": {
      "image/png": "[encoded data removed]",
      "text/plain": [
       "<Figure size 432x288 with 1 Axes>"
      ]
     },
     "metadata": {
      "needs_background": "light"
     },
     "output_type": "display_data"
    }
   ],
   "source": [
    "plt.plot(history.history['accuracy'])\n",
    "plt.plot(history.history['val_accuracy'])\n",
    "plt.title('model accuracy')\n",
    "plt.xlabel('epoch')\n",
    "plt.ylabel('accuracy')\n",
    "plt.legend(['train', 'validation'], loc='upper left')\n",
    "plt.show()"
   ]
  },
  {
   "cell_type": "code",
   "execution_count": 19,
   "id": "7f151c3a",
   "metadata": {},
   "outputs": [
    {
     "data": {
      "image/png": "[encoded data removed]",
      "text/plain": [
       "<Figure size 432x288 with 1 Axes>"
      ]
     },
     "metadata": {
      "needs_background": "light"
     },
     "output_type": "display_data"
    }
   ],
   "source": [
    "plt.plot(history.history['loss'])\n",
    "plt.plot(history.history['val_loss'])\n",
    "plt.title('model loss')\n",
    "plt.xlabel('epoch')\n",
    "plt.ylabel('loss')\n",
    "plt.legend(['train', 'validation'], loc='upper left')\n",
    "plt.show()"
   ]
  },
  {
   "cell_type": "code",
   "execution_count": 20,
   "id": "f088cf8e",
   "metadata": {},
   "outputs": [
    {
     "name": "stdout",
     "output_type": "stream",
     "text": [
      "148/148 - 1s - loss: 2.6051 - accuracy: 0.4255\n",
      "Akurasi : 42.55093336105347 %\n"
     ]
    }
   ],
   "source": [
    "score = model.evaluate(x_test, y_test, verbose=2)\n",
    "print(\"Akurasi : {} %\".format(str(score[1] * 100)))"
   ]
  },
  {
   "cell_type": "code",
   "execution_count": 77,
   "id": "ac018849",
   "metadata": {},
   "outputs": [],
   "source": [
    "from tensorflow.keras.models import model_from_json\n",
    "\n",
    "# Save Model\n",
    "model_json = model.to_json()\n",
    "with open(\"utils//model.json\", \"w\") as json_file:\n",
    "    json_file.write(model_json)\n",
    "    \n",
    "model.save_weights(\"utils//weight.h5\")"
   ]
  },
  {
   "cell_type": "code",
   "execution_count": null,
   "id": "fa5535a8",
   "metadata": {},
   "outputs": [],
   "source": []
  }
 ],
 "metadata": {
  "kernelspec": {
   "display_name": "Python 3 (ipykernel)",
   "language": "python",
   "name": "python3"
  },
  "language_info": {
   "codemirror_mode": {
    "name": "ipython",
    "version": 3
   },
   "file_extension": ".py",
   "mimetype": "text/x-python",
   "name": "python",
   "nbconvert_exporter": "python",
   "pygments_lexer": "ipython3",
   "version": "3.8.8"
  }
 },
 "nbformat": 4,
 "nbformat_minor": 5
}
