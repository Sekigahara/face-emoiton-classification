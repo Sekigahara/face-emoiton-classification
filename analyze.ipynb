{
 "cells": [
  {
   "cell_type": "code",
   "execution_count": 1,
   "id": "62d7c746",
   "metadata": {},
   "outputs": [],
   "source": [
    "import cv2\n",
    "import glob\n",
    "import os\n",
    "import numpy as np"
   ]
  },
  {
   "cell_type": "code",
   "execution_count": 2,
   "id": "3c6afba2",
   "metadata": {},
   "outputs": [],
   "source": [
    "dataset_path = \"E:\\Project\\Data Science\\Face Recognition\\dataset\""
   ]
  },
  {
   "cell_type": "code",
   "execution_count": 3,
   "id": "7ad8caec",
   "metadata": {},
   "outputs": [],
   "source": [
    "dir_path = glob.glob(dataset_path + \"\\*\")"
   ]
  },
  {
   "cell_type": "code",
   "execution_count": 4,
   "id": "f29a7eb6",
   "metadata": {},
   "outputs": [
    {
     "data": {
      "text/plain": [
       "['E:\\\\Project\\\\Data Science\\\\Face Recognition\\\\dataset\\\\Angry',\n",
       " 'E:\\\\Project\\\\Data Science\\\\Face Recognition\\\\dataset\\\\Fear',\n",
       " 'E:\\\\Project\\\\Data Science\\\\Face Recognition\\\\dataset\\\\Happy',\n",
       " 'E:\\\\Project\\\\Data Science\\\\Face Recognition\\\\dataset\\\\Neutral',\n",
       " 'E:\\\\Project\\\\Data Science\\\\Face Recognition\\\\dataset\\\\Sad',\n",
       " 'E:\\\\Project\\\\Data Science\\\\Face Recognition\\\\dataset\\\\Suprise']"
      ]
     },
     "execution_count": 4,
     "metadata": {},
     "output_type": "execute_result"
    }
   ],
   "source": [
    "dir_path"
   ]
  },
  {
   "cell_type": "code",
   "execution_count": 5,
   "id": "698d17b7",
   "metadata": {},
   "outputs": [],
   "source": [
    "# Extraction Label\n",
    "string_label = []\n",
    "string_number = []\n",
    "for string in dir_path:\n",
    "    string_label.append(string.split(\"\\\\\")[5])"
   ]
  },
  {
   "cell_type": "code",
   "execution_count": 6,
   "id": "de95606c",
   "metadata": {},
   "outputs": [
    {
     "data": {
      "text/plain": [
       "['Angry', 'Fear', 'Happy', 'Neutral', 'Sad', 'Suprise']"
      ]
     },
     "execution_count": 6,
     "metadata": {},
     "output_type": "execute_result"
    }
   ],
   "source": [
    "string_label"
   ]
  },
  {
   "cell_type": "code",
   "execution_count": 7,
   "id": "00e9e0b2",
   "metadata": {},
   "outputs": [],
   "source": [
    "image_path = []\n",
    "for idx, string in enumerate(dir_path):\n",
    "    image_path.append(np.asarray(glob.glob(string + \"\\*\")))"
   ]
  },
  {
   "cell_type": "code",
   "execution_count": 8,
   "id": "ccb89639",
   "metadata": {
    "scrolled": false
   },
   "outputs": [],
   "source": [
    "all_image_path = []\n",
    "for label in image_path:\n",
    "    for string in label:\n",
    "        all_image_path.append(string)"
   ]
  },
  {
   "cell_type": "code",
   "execution_count": 9,
   "id": "1c4f363a",
   "metadata": {},
   "outputs": [
    {
     "data": {
      "text/plain": [
       "28273"
      ]
     },
     "execution_count": 9,
     "metadata": {},
     "output_type": "execute_result"
    }
   ],
   "source": [
    "len(all_image_path)"
   ]
  },
  {
   "cell_type": "code",
   "execution_count": 10,
   "id": "10522847",
   "metadata": {},
   "outputs": [],
   "source": [
    "def extract_label(path):\n",
    "    label = path.split(\"\\\\\")[6].split(\"-\")[0]\n",
    "    \n",
    "    x = 0\n",
    "    for idx, string in enumerate(string_label):\n",
    "        if label == string:\n",
    "            x = idx\n",
    "            break\n",
    "            \n",
    "    return np.asarray(x)"
   ]
  },
  {
   "cell_type": "code",
   "execution_count": 11,
   "id": "012d651b",
   "metadata": {},
   "outputs": [],
   "source": [
    "# Load Image\n",
    "x = []\n",
    "y = []\n",
    "for img_path in all_image_path:\n",
    "    # Open image and append to array\n",
    "    x.append(cv2.imread(img_path))\n",
    "    # Mapping Label\n",
    "    y.append(extract_label(img_path))"
   ]
  },
  {
   "cell_type": "code",
   "execution_count": 15,
   "id": "0fb2573a",
   "metadata": {},
   "outputs": [
    {
     "data": {
      "text/plain": [
       "array([[[152, 152, 152],\n",
       "        [149, 149, 149],\n",
       "        [147, 147, 147],\n",
       "        ...,\n",
       "        [129, 129, 129],\n",
       "        [139, 139, 139],\n",
       "        [121, 121, 121]],\n",
       "\n",
       "       [[149, 149, 149],\n",
       "        [152, 152, 152],\n",
       "        [150, 150, 150],\n",
       "        ...,\n",
       "        [121, 121, 121],\n",
       "        [146, 146, 146],\n",
       "        [135, 135, 135]],\n",
       "\n",
       "       [[152, 152, 152],\n",
       "        [152, 152, 152],\n",
       "        [157, 157, 157],\n",
       "        ...,\n",
       "        [112, 112, 112],\n",
       "        [121, 121, 121],\n",
       "        [145, 145, 145]],\n",
       "\n",
       "       ...,\n",
       "\n",
       "       [[187, 187, 187],\n",
       "        [189, 189, 189],\n",
       "        [120, 120, 120],\n",
       "        ...,\n",
       "        [184, 184, 184],\n",
       "        [185, 185, 185],\n",
       "        [188, 188, 188]],\n",
       "\n",
       "       [[188, 188, 188],\n",
       "        [189, 189, 189],\n",
       "        [193, 193, 193],\n",
       "        ...,\n",
       "        [185, 185, 185],\n",
       "        [181, 181, 181],\n",
       "        [189, 189, 189]],\n",
       "\n",
       "       [[186, 186, 186],\n",
       "        [185, 185, 185],\n",
       "        [183, 183, 183],\n",
       "        ...,\n",
       "        [193, 193, 193],\n",
       "        [181, 181, 181],\n",
       "        [183, 183, 183]]], dtype=uint8)"
      ]
     },
     "execution_count": 15,
     "metadata": {},
     "output_type": "execute_result"
    }
   ],
   "source": [
    "x[0]"
   ]
  },
  {
   "cell_type": "code",
   "execution_count": 16,
   "id": "bd38a460",
   "metadata": {},
   "outputs": [
    {
     "data": {
      "text/plain": [
       "'Suprise'"
      ]
     },
     "execution_count": 16,
     "metadata": {},
     "output_type": "execute_result"
    }
   ],
   "source": [
    "string_label[y[27000]]"
   ]
  },
  {
   "cell_type": "code",
   "execution_count": 17,
   "id": "5fb7d96f",
   "metadata": {},
   "outputs": [
    {
     "data": {
      "text/plain": [
       "<matplotlib.image.AxesImage at 0x21f7c52c610>"
      ]
     },
     "execution_count": 17,
     "metadata": {},
     "output_type": "execute_result"
    },
    {
     "data": {
      "image/png": "[encoded data removed]",
      "text/plain": [
       "<Figure size 432x288 with 1 Axes>"
      ]
     },
     "metadata": {
      "needs_background": "light"
     },
     "output_type": "display_data"
    }
   ],
   "source": [
    "import matplotlib.pyplot as plt\n",
    "\n",
    "plt.imshow(x[27000])"
   ]
  },
  {
   "cell_type": "code",
   "execution_count": 18,
   "id": "f02d33f1",
   "metadata": {},
   "outputs": [],
   "source": [
    "# Saving to npz\n",
    "x = np.asarray(x)\n",
    "y = np.asarray(y)"
   ]
  },
  {
   "cell_type": "code",
   "execution_count": 20,
   "id": "0bcf5420",
   "metadata": {},
   "outputs": [],
   "source": [
    "np.savez(\"utils\\\\dataset.npz\", x=x, y=y)"
   ]
  },
  {
   "cell_type": "code",
   "execution_count": null,
   "id": "5c42b0a7",
   "metadata": {},
   "outputs": [],
   "source": []
  }
 ],
 "metadata": {
  "kernelspec": {
   "display_name": "Python 3 (ipykernel)",
   "language": "python",
   "name": "python3"
  },
  "language_info": {
   "codemirror_mode": {
    "name": "ipython",
    "version": 3
   },
   "file_extension": ".py",
   "mimetype": "text/x-python",
   "name": "python",
   "nbconvert_exporter": "python",
   "pygments_lexer": "ipython3",
   "version": "3.8.8"
  }
 },
 "nbformat": 4,
 "nbformat_minor": 5
}
